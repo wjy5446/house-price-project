{
 "cells": [
  {
   "cell_type": "code",
   "execution_count": 17,
   "metadata": {},
   "outputs": [],
   "source": [
    "import pandas as pd\n",
    "import numpy as np\n",
    "import warnings"
   ]
  },
  {
   "cell_type": "code",
   "execution_count": 18,
   "metadata": {},
   "outputs": [
    {
     "name": "stdout",
     "output_type": "stream",
     "text": [
      "(1460, 81) (1459, 80) (2919, 81)\n"
     ]
    }
   ],
   "source": [
    "#train 및 test 데이터 읽어 하나의 데이터로 합치기\n",
    "df_train = pd.read_csv(\"../data/train_nomissing_origin.csv\")\n",
    "df_test = pd.read_csv(\"../data/test_nomissing_origin.csv\")\n",
    "\n",
    "df_all = pd.concat([df_train, df_test])\n",
    "df_all.reset_index(drop = True, inplace = True)\n",
    "\n",
    "print(df_train.shape, df_test.shape, df_all.shape)"
   ]
  },
  {
   "cell_type": "code",
   "execution_count": 19,
   "metadata": {},
   "outputs": [],
   "source": [
    "# rename 칼럼 및 categoric의 class \n",
    "rename_dict = {\"1stFlrSF\":\"FirstFlrSF\", \"2ndFlrSF\":\"SecondFlrSF\", \"3SsnPorch\":\"ThreeSsnPorch\"}\n",
    "df_all.rename(index = str, columns = rename_dict, inplace = True)\n",
    "\n",
    "df_all[\"MSZoning\"].replace({\"C (all)\":\"all\"}, inplace=True)\n",
    "df_all[\"Exterior1st\"].replace({\"Wd Sdng\":\"WdSdng\"}, inplace=True)\n",
    "df_all[\"Exterior2nd\"].replace({\"Wd Sdng\":\"WdSdng\"}, inplace=True)\n",
    "df_all[\"Exterior2nd\"].replace({\"Wd Shng\":\"WdShng\"}, inplace=True)\n",
    "df_all[\"Exterior2nd\"].replace({\"Brk Cmn\":\"BrkCmn\"}, inplace=True)\n",
    "df_all[\"HouseStyle\"].replace({\"1.5Fin\":\"1_5Fin\"}, inplace=True)\n",
    "df_all[\"HouseStyle\"].replace({\"1.5Unf\":\"1_5Unf\"}, inplace=True)\n",
    "df_all[\"HouseStyle\"].replace({\"2.5Fin\":\"2_5Fin\"}, inplace=True)\n",
    "df_all[\"HouseStyle\"].replace({\"2.5Unf\":\"2_5Unf\"}, inplace=True)\n",
    "df_all[\"RoofMatl\"].replace({\"Tar&Grv\":\"TarandGrv\"}, inplace=True)"
   ]
  },
  {
   "cell_type": "code",
   "execution_count": 20,
   "metadata": {},
   "outputs": [
    {
     "data": {
      "text/plain": [
       "SalePrice        1459\n",
       "FullBath            0\n",
       "ExterCond           0\n",
       "ExterQual           0\n",
       "Exterior1st         0\n",
       "Exterior2nd         0\n",
       "Fence               0\n",
       "FireplaceQu         0\n",
       "Fireplaces          0\n",
       "Foundation          0\n",
       "YrSold              0\n",
       "Electrical          0\n",
       "Functional          0\n",
       "GarageArea          0\n",
       "GarageCars          0\n",
       "GarageCond          0\n",
       "GarageFinish        0\n",
       "GarageQual          0\n",
       "GarageType          0\n",
       "GarageYrBlt         0\n",
       "EnclosedPorch       0\n",
       "Condition2          0\n",
       "HalfBath            0\n",
       "BsmtFinSF1          0\n",
       "SecondFlrSF         0\n",
       "ThreeSsnPorch       0\n",
       "Alley               0\n",
       "BedroomAbvGr        0\n",
       "BldgType            0\n",
       "BsmtCond            0\n",
       "                 ... \n",
       "SaleType            0\n",
       "Neighborhood        0\n",
       "ScreenPorch         0\n",
       "Street              0\n",
       "TotRmsAbvGrd        0\n",
       "TotalBsmtSF         0\n",
       "Utilities           0\n",
       "WoodDeckSF          0\n",
       "YearBuilt           0\n",
       "OpenPorchSF         0\n",
       "MoSold              0\n",
       "HeatingQC           0\n",
       "LotConfig           0\n",
       "HouseStyle          0\n",
       "Id                  0\n",
       "KitchenAbvGr        0\n",
       "KitchenQual         0\n",
       "LandContour         0\n",
       "LandSlope           0\n",
       "LotArea             0\n",
       "LotFrontage         0\n",
       "MiscVal             0\n",
       "LotShape            0\n",
       "LowQualFinSF        0\n",
       "MSSubClass          0\n",
       "MSZoning            0\n",
       "MasVnrArea          0\n",
       "MasVnrType          0\n",
       "MiscFeature         0\n",
       "FirstFlrSF          0\n",
       "Length: 81, dtype: int64"
      ]
     },
     "execution_count": 20,
     "metadata": {},
     "output_type": "execute_result"
    }
   ],
   "source": [
    "# # missing value 처리\n",
    "# df_all.loc[\"1379\",\"Electrical\"] = \"SBrkr\"\n",
    "\n",
    "# df_all[\"MasVnrType\"].fillna(\"None\", inplace = True)\n",
    "# df_all[\"MasVnrArea\"].fillna(0, inplace = True)\n",
    "\n",
    "# df_all[\"BsmtQual\"].fillna(\"None\", inplace = True)\n",
    "# df_all[\"BsmtCond\"].fillna(\"None\", inplace = True)\n",
    "# df_all[\"BsmtFinType1\"].fillna(\"None\", inplace = True)\n",
    "# df_all[\"BsmtFinType2\"].fillna(\"None\", inplace = True)\n",
    "# df_all[\"BsmtExposure\"].fillna(\"None\", inplace = True)\n",
    "# df_all.loc[\"332\",\"BsmtFinType2\"] = \"Rec\"\n",
    "# df_all.loc[\"948\",\"BsmtExposure\"] = \"No\"\n",
    "\n",
    "# df_all[\"PoolQC\"].fillna(\"None\", inplace = True)\n",
    "# df_all[\"MiscFeature\"].fillna(\"None\", inplace = True)\n",
    "# df_all[\"Alley\"].fillna(\"None\", inplace = True)\n",
    "# df_all[\"Fence\"].fillna(\"None\", inplace = True)\n",
    "# df_all[\"FireplaceQu\"].fillna(\"None\", inplace = True)\n",
    "# df_all[\"GarageYrBlt\"].fillna(0, inplace = True)\n",
    "# df_all[\"GarageType\"].fillna(\"None\", inplace = True)\n",
    "# df_all[\"GarageFinish\"].fillna(\"None\", inplace = True)\n",
    "# df_all[\"GarageQual\"].fillna(\"None\", inplace = True)\n",
    "# df_all[\"GarageCond\"].fillna(\"None\", inplace = True)\n",
    "\n",
    "df_all[\"PoolQC\"].fillna(\"None\", inplace = True)\n",
    "df_all[\"MiscFeature\"].fillna(\"None\", inplace = True)\n",
    "df_all[\"Alley\"].fillna(\"None\", inplace = True)\n",
    "df_all[\"Fence\"].fillna(\"None\", inplace = True)\n",
    "df_all[\"FireplaceQu\"].fillna(\"None\", inplace = True)\n",
    "\n",
    "# ##!!!!!!!!!!!!!!!!!!!!!!!!!!!!!!!!!!!!!!!!!!!!!!!!!! 다시 처리\n",
    "# #numeric은 0, categoric은 None으로 missing value 처리\n",
    "# for c in df_all.columns:\n",
    "#     if df_all[c].dtype == \"object\":\n",
    "#         mode = df_all[c].mode().values[0]\n",
    "#         df_all[c].fillna(mode, inplace = True)\n",
    "#     else:\n",
    "#         df_all[c].fillna(0, inplace = True)\n",
    "\n",
    "df_all.isnull().sum().sort_values(ascending = False)"
   ]
  },
  {
   "cell_type": "code",
   "execution_count": 21,
   "metadata": {},
   "outputs": [],
   "source": [
    "# # log, **2, **3 생성\n",
    "nuTocaList = [\"MSSubClass\", \"MoSold\", \"YrSold\", \"OverallQual\", \"OverallCond\"]\n",
    "df_all[nuTocaList] = df_all[nuTocaList].astype(\"str\")\n",
    "\n",
    "# numerics = ['int16', 'int32', 'int64', 'float16', 'float32', 'float64']\n",
    "# numeric_list = list(df_all.select_dtypes(include=numerics).columns)\n",
    "\n",
    "# print(len(numeric_list))\n",
    "\n",
    "# #log\n",
    "# for c in numeric_list:\n",
    "#     if(c == \"Id\"):\n",
    "#         continue\n",
    "    \n",
    "#     if(c == \"SalePrice\"):\n",
    "#         df_all[c] = np.log1p(df_all[c].values)\n",
    "#         df_all.rename(index = str, columns = {\"SalePrice\":\"SalePriceLog\"}, inplace = True)\n",
    "#         continue\n",
    "        \n",
    "#     df_all[c+\"Log\"] = np.log1p(df_all[c].values)\n",
    "    \n",
    "# # ** 2\n",
    "# for c in numeric_list:\n",
    "#     if(c == \"Id\" or c == \"SalePrice\"):\n",
    "#         continue\n",
    "    \n",
    "#     df_all[c+\"pow2\"] = df_all[c].values ** 2\n",
    "\n",
    "# # ** 3\n",
    "# for c in numeric_list:\n",
    "#     if(c == \"Id\" or c == \"SalePrice\"):\n",
    "#         continue\n",
    "    \n",
    "#     df_all[c+\"pow3\"] = df_all[c].values ** 3\n",
    "    \n",
    "# df_all.shape\n",
    "\n",
    "df_all[\"SalePrice\"] = np.log1p(df_all[\"SalePrice\"].values)\n",
    "df_all.rename(index = str, columns = {\"SalePrice\":\"SalePriceLog\"}, inplace = True)\n",
    "\n",
    "df_all[\"LotFrontage\"] = np.log1p(df_all[\"LotFrontage\"].values)\n",
    "df_all.rename(index = str, columns = {\"LotFrontage\":\"LotFrontageLog\"}, inplace = True)\n",
    "\n",
    "df_all[\"LotArea\"] = np.log1p(df_all[\"LotArea\"].values)\n",
    "df_all.rename(index = str, columns = {\"LotArea\":\"LotAreaLog\"}, inplace = True)\n",
    "\n",
    "df_all[\"FirstFlrSF\"] = np.log1p(df_all[\"FirstFlrSF\"].values)\n",
    "df_all.rename(index = str, columns = {\"FirstFlrSF\":\"FirstFlrSFLog\"}, inplace = True)\n",
    "\n",
    "df_all[\"GrLivArea\"] = np.log1p(df_all[\"GrLivArea\"].values)\n",
    "df_all.rename(index = str, columns = {\"GrLivArea\":\"GrLivAreaLog\"}, inplace = True)"
   ]
  },
  {
   "cell_type": "code",
   "execution_count": 22,
   "metadata": {},
   "outputs": [
    {
     "name": "stdout",
     "output_type": "stream",
     "text": [
      "(2919, 81)\n",
      "(1460, 81) (1459, 81)\n"
     ]
    }
   ],
   "source": [
    "# get_dummies\n",
    "# df_all = pd.get_dummies(df_all)\n",
    "print(df_all.shape)\n",
    "\n",
    "df_train = df_all.iloc[:1460]\n",
    "df_test = df_all.iloc[1460:]\n",
    "\n",
    "print(df_train.shape, df_test.shape)"
   ]
  },
  {
   "cell_type": "code",
   "execution_count": 23,
   "metadata": {},
   "outputs": [
    {
     "name": "stderr",
     "output_type": "stream",
     "text": [
      "C:\\Users\\magenta_jy\\Anaconda3\\lib\\site-packages\\ipykernel_launcher.py:1: SettingWithCopyWarning: \n",
      "A value is trying to be set on a copy of a slice from a DataFrame\n",
      "\n",
      "See the caveats in the documentation: http://pandas.pydata.org/pandas-docs/stable/indexing.html#indexing-view-versus-copy\n",
      "  \"\"\"Entry point for launching an IPython kernel.\n"
     ]
    }
   ],
   "source": [
    "df_test.drop(\"SalePriceLog\", axis = 1, inplace = True)"
   ]
  },
  {
   "cell_type": "code",
   "execution_count": 24,
   "metadata": {},
   "outputs": [],
   "source": [
    "#make csv file\n",
    "df_train.to_csv(\"../data/train_no_missing.csv\", index = False)\n",
    "df_test.to_csv( \"../data/test_no_missing.csv\", index = False)"
   ]
  },
  {
   "cell_type": "code",
   "execution_count": null,
   "metadata": {},
   "outputs": [],
   "source": []
  }
 ],
 "metadata": {
  "kernelspec": {
   "display_name": "Python 3",
   "language": "python",
   "name": "python3"
  },
  "language_info": {
   "codemirror_mode": {
    "name": "ipython",
    "version": 3
   },
   "file_extension": ".py",
   "mimetype": "text/x-python",
   "name": "python",
   "nbconvert_exporter": "python",
   "pygments_lexer": "ipython3",
   "version": "3.6.3"
  }
 },
 "nbformat": 4,
 "nbformat_minor": 2
}
