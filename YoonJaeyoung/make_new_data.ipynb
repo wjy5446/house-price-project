{
 "cells": [
  {
   "cell_type": "code",
   "execution_count": 12,
   "metadata": {
    "collapsed": true
   },
   "outputs": [],
   "source": [
    "from patsy.contrasts import Treatment"
   ]
  },
  {
   "cell_type": "code",
   "execution_count": 13,
   "metadata": {
    "collapsed": true
   },
   "outputs": [],
   "source": [
    "from utils.EDA.analysis import *\n",
    "from utils.EDA.visualize import *"
   ]
  },
  {
   "cell_type": "code",
   "execution_count": 14,
   "metadata": {
    "collapsed": true
   },
   "outputs": [],
   "source": [
    "df_train = pd.read_csv(\"../data/train.csv\")"
   ]
  },
  {
   "cell_type": "code",
   "execution_count": 15,
   "metadata": {},
   "outputs": [
    {
     "data": {
      "text/html": [
       "<div>\n",
       "<style>\n",
       "    .dataframe thead tr:only-child th {\n",
       "        text-align: right;\n",
       "    }\n",
       "\n",
       "    .dataframe thead th {\n",
       "        text-align: left;\n",
       "    }\n",
       "\n",
       "    .dataframe tbody tr th {\n",
       "        vertical-align: top;\n",
       "    }\n",
       "</style>\n",
       "<table border=\"1\" class=\"dataframe\">\n",
       "  <thead>\n",
       "    <tr style=\"text-align: right;\">\n",
       "      <th></th>\n",
       "      <th>Id</th>\n",
       "      <th>MSSubClass</th>\n",
       "      <th>MSZoning</th>\n",
       "      <th>LotFrontage</th>\n",
       "      <th>LotArea</th>\n",
       "      <th>Street</th>\n",
       "      <th>Alley</th>\n",
       "      <th>LotShape</th>\n",
       "      <th>LandContour</th>\n",
       "      <th>Utilities</th>\n",
       "      <th>...</th>\n",
       "      <th>PoolArea</th>\n",
       "      <th>PoolQC</th>\n",
       "      <th>Fence</th>\n",
       "      <th>MiscFeature</th>\n",
       "      <th>MiscVal</th>\n",
       "      <th>MoSold</th>\n",
       "      <th>YrSold</th>\n",
       "      <th>SaleType</th>\n",
       "      <th>SaleCondition</th>\n",
       "      <th>SalePrice</th>\n",
       "    </tr>\n",
       "  </thead>\n",
       "  <tbody>\n",
       "    <tr>\n",
       "      <th>1455</th>\n",
       "      <td>1456</td>\n",
       "      <td>60</td>\n",
       "      <td>RL</td>\n",
       "      <td>62.0</td>\n",
       "      <td>7917</td>\n",
       "      <td>Pave</td>\n",
       "      <td>NaN</td>\n",
       "      <td>Reg</td>\n",
       "      <td>Lvl</td>\n",
       "      <td>AllPub</td>\n",
       "      <td>...</td>\n",
       "      <td>0</td>\n",
       "      <td>NaN</td>\n",
       "      <td>NaN</td>\n",
       "      <td>NaN</td>\n",
       "      <td>0</td>\n",
       "      <td>8</td>\n",
       "      <td>2007</td>\n",
       "      <td>WD</td>\n",
       "      <td>Normal</td>\n",
       "      <td>175000</td>\n",
       "    </tr>\n",
       "    <tr>\n",
       "      <th>1456</th>\n",
       "      <td>1457</td>\n",
       "      <td>20</td>\n",
       "      <td>RL</td>\n",
       "      <td>85.0</td>\n",
       "      <td>13175</td>\n",
       "      <td>Pave</td>\n",
       "      <td>NaN</td>\n",
       "      <td>Reg</td>\n",
       "      <td>Lvl</td>\n",
       "      <td>AllPub</td>\n",
       "      <td>...</td>\n",
       "      <td>0</td>\n",
       "      <td>NaN</td>\n",
       "      <td>MnPrv</td>\n",
       "      <td>NaN</td>\n",
       "      <td>0</td>\n",
       "      <td>2</td>\n",
       "      <td>2010</td>\n",
       "      <td>WD</td>\n",
       "      <td>Normal</td>\n",
       "      <td>210000</td>\n",
       "    </tr>\n",
       "    <tr>\n",
       "      <th>1457</th>\n",
       "      <td>1458</td>\n",
       "      <td>70</td>\n",
       "      <td>RL</td>\n",
       "      <td>66.0</td>\n",
       "      <td>9042</td>\n",
       "      <td>Pave</td>\n",
       "      <td>NaN</td>\n",
       "      <td>Reg</td>\n",
       "      <td>Lvl</td>\n",
       "      <td>AllPub</td>\n",
       "      <td>...</td>\n",
       "      <td>0</td>\n",
       "      <td>NaN</td>\n",
       "      <td>GdPrv</td>\n",
       "      <td>Shed</td>\n",
       "      <td>2500</td>\n",
       "      <td>5</td>\n",
       "      <td>2010</td>\n",
       "      <td>WD</td>\n",
       "      <td>Normal</td>\n",
       "      <td>266500</td>\n",
       "    </tr>\n",
       "    <tr>\n",
       "      <th>1458</th>\n",
       "      <td>1459</td>\n",
       "      <td>20</td>\n",
       "      <td>RL</td>\n",
       "      <td>68.0</td>\n",
       "      <td>9717</td>\n",
       "      <td>Pave</td>\n",
       "      <td>NaN</td>\n",
       "      <td>Reg</td>\n",
       "      <td>Lvl</td>\n",
       "      <td>AllPub</td>\n",
       "      <td>...</td>\n",
       "      <td>0</td>\n",
       "      <td>NaN</td>\n",
       "      <td>NaN</td>\n",
       "      <td>NaN</td>\n",
       "      <td>0</td>\n",
       "      <td>4</td>\n",
       "      <td>2010</td>\n",
       "      <td>WD</td>\n",
       "      <td>Normal</td>\n",
       "      <td>142125</td>\n",
       "    </tr>\n",
       "    <tr>\n",
       "      <th>1459</th>\n",
       "      <td>1460</td>\n",
       "      <td>20</td>\n",
       "      <td>RL</td>\n",
       "      <td>75.0</td>\n",
       "      <td>9937</td>\n",
       "      <td>Pave</td>\n",
       "      <td>NaN</td>\n",
       "      <td>Reg</td>\n",
       "      <td>Lvl</td>\n",
       "      <td>AllPub</td>\n",
       "      <td>...</td>\n",
       "      <td>0</td>\n",
       "      <td>NaN</td>\n",
       "      <td>NaN</td>\n",
       "      <td>NaN</td>\n",
       "      <td>0</td>\n",
       "      <td>6</td>\n",
       "      <td>2008</td>\n",
       "      <td>WD</td>\n",
       "      <td>Normal</td>\n",
       "      <td>147500</td>\n",
       "    </tr>\n",
       "  </tbody>\n",
       "</table>\n",
       "<p>5 rows × 81 columns</p>\n",
       "</div>"
      ],
      "text/plain": [
       "        Id  MSSubClass MSZoning  LotFrontage  LotArea Street Alley LotShape  \\\n",
       "1455  1456          60       RL         62.0     7917   Pave   NaN      Reg   \n",
       "1456  1457          20       RL         85.0    13175   Pave   NaN      Reg   \n",
       "1457  1458          70       RL         66.0     9042   Pave   NaN      Reg   \n",
       "1458  1459          20       RL         68.0     9717   Pave   NaN      Reg   \n",
       "1459  1460          20       RL         75.0     9937   Pave   NaN      Reg   \n",
       "\n",
       "     LandContour Utilities    ...     PoolArea PoolQC  Fence MiscFeature  \\\n",
       "1455         Lvl    AllPub    ...            0    NaN    NaN         NaN   \n",
       "1456         Lvl    AllPub    ...            0    NaN  MnPrv         NaN   \n",
       "1457         Lvl    AllPub    ...            0    NaN  GdPrv        Shed   \n",
       "1458         Lvl    AllPub    ...            0    NaN    NaN         NaN   \n",
       "1459         Lvl    AllPub    ...            0    NaN    NaN         NaN   \n",
       "\n",
       "     MiscVal MoSold YrSold  SaleType  SaleCondition  SalePrice  \n",
       "1455       0      8   2007        WD         Normal     175000  \n",
       "1456       0      2   2010        WD         Normal     210000  \n",
       "1457    2500      5   2010        WD         Normal     266500  \n",
       "1458       0      4   2010        WD         Normal     142125  \n",
       "1459       0      6   2008        WD         Normal     147500  \n",
       "\n",
       "[5 rows x 81 columns]"
      ]
     },
     "execution_count": 15,
     "metadata": {},
     "output_type": "execute_result"
    }
   ],
   "source": [
    "df_train.tail()"
   ]
  },
  {
   "cell_type": "code",
   "execution_count": 6,
   "metadata": {
    "collapsed": true
   },
   "outputs": [],
   "source": [
    "# # categorical -> numeric\n",
    "# caTonuList = [\"LotShape\", \"LandSlope\", \"ExterQual\", \"ExterCond\", \"HeatingQC\"]\n",
    "\n",
    "# for i in caTonuList:\n",
    "#     df_train[i] = df_train[i].astype(\"category\")"
   ]
  },
  {
   "cell_type": "code",
   "execution_count": 7,
   "metadata": {
    "collapsed": true
   },
   "outputs": [],
   "source": [
    "# df_train[\"LotShape\"].cat.rename_categories([3,2,1,0], inplace = True)\n",
    "# df_train[\"LandSlope\"].cat.rename_categories([2,1,0], inplace = True)\n",
    "# df_train[\"ExterQual\"].cat.rename_categories([4,1,3,2], inplace = True)\n",
    "# df_train[\"ExterCond\"].cat.rename_categories([4,1,3,0,2], inplace = True)\n",
    "# df_train[\"HeatingQC\"].cat.rename_categories([4,1,3,0,2], inplace = True)"
   ]
  },
  {
   "cell_type": "code",
   "execution_count": 16,
   "metadata": {},
   "outputs": [
    {
     "data": {
      "text/plain": [
       "TotRmsAbvGrd    0\n",
       "Functional      0\n",
       "Fireplaces      0\n",
       "FireplaceQu     0\n",
       "Id              0\n",
       "dtype: int64"
      ]
     },
     "execution_count": 16,
     "metadata": {},
     "output_type": "execute_result"
    }
   ],
   "source": [
    "# missing value 처리\n",
    "df_train.loc[1379, \"Electrical\"] = \"SBrkr\"\n",
    "\n",
    "df_train[\"MasVnrType\"].fillna(\"None\", inplace = True)\n",
    "df_train[\"MasVnrArea\"].fillna(0, inplace = True)\n",
    "\n",
    "df_train[\"BsmtQual\"].fillna(\"None\", inplace = True)\n",
    "df_train[\"BsmtCond\"].fillna(\"None\", inplace = True)\n",
    "df_train[\"BsmtFinType1\"].fillna(\"None\", inplace = True)\n",
    "df_train[\"BsmtFinType2\"].fillna(\"None\", inplace = True)\n",
    "df_train[\"BsmtExposure\"].fillna(\"None\", inplace = True)\n",
    "df_train.loc[332, \"BsmtFinType2\"] = \"Rec\"\n",
    "df_train.loc[948, \"BsmtExposure\"] = \"No\"\n",
    "\n",
    "df_train[\"PoolQC\"].fillna(\"None\", inplace = True)\n",
    "\n",
    "df_train[\"MiscFeature\"].fillna(\"None\", inplace = True)\n",
    "\n",
    "df_train[\"Alley\"].fillna(\"None\", inplace = True)\n",
    "\n",
    "df_train[\"Fence\"].fillna(\"None\", inplace = True)\n",
    "\n",
    "df_train[\"FireplaceQu\"].fillna(\"None\", inplace = True)\n",
    "\n",
    "df_train[\"GarageYrBlt\"].fillna(0, inplace = True)\n",
    "\n",
    "df_train[\"GarageType\"].fillna(\"None\", inplace = True)\n",
    "df_train[\"GarageFinish\"].fillna(\"None\", inplace = True)\n",
    "df_train[\"GarageQual\"].fillna(\"None\", inplace = True)\n",
    "df_train[\"GarageCond\"].fillna(\"None\", inplace = True)\n",
    "\n",
    "isnullLotFrontage = df_train[\"LotFrontage\"].isnull()\n",
    "sqrtLotArea = np.sqrt(df_train.loc[isnullLotFrontage].LotArea)\n",
    "df_train.loc[isnullLotFrontage, \"LotFrontage\"] = np.sqrt(df_train.loc[isnullLotFrontage, \"LotArea\"])\n",
    "\n",
    "df_train.isnull().sum().sort_values(ascending = False).tail()"
   ]
  },
  {
   "cell_type": "code",
   "execution_count": 9,
   "metadata": {
    "collapsed": true
   },
   "outputs": [],
   "source": [
    "# # missing value 처리\n",
    "# df_train.loc[1379, \"Electrical\"] = \"SBrkr\"\n",
    "\n",
    "# df_train[\"MasVnrType\"].fillna(\"None\", inplace = True)\n",
    "# # MasVnrArea의 Missing Value 처리\n",
    "# df_train[\"MasVnrArea\"].fillna(\"None\", inplace = True)\n",
    "\n",
    "# df_train[\"BsmtQual\"].fillna(\"None\", inplace = True)\n",
    "# df_train[\"BsmtCond\"].fillna(\"None\", inplace = True)\n",
    "# df_train[\"BsmtFinType1\"].fillna(\"None\", inplace = True)\n",
    "# df_train[\"BsmtFinType2\"].fillna(\"None\", inplace = True)\n",
    "# df_train[\"BsmtExposure\"].fillna(\"None\", inplace = True)\n",
    "# df_train.loc[332, \"BsmtFinType2\"] = \"Rec\"\n",
    "# df_train.loc[948, \"BsmtExposure\"] = \"No\"\n",
    "\n",
    "# df_train[\"PoolQC\"].fillna(\"None\", inplace = True)\n",
    "\n",
    "# df_train[\"MiscFeature\"].fillna(\"None\", inplace = True)\n",
    "\n",
    "# df_train[\"Alley\"].fillna(\"None\", inplace = True)\n",
    "\n",
    "# df_train[\"Fence\"].fillna(\"None\", inplace = True)\n",
    "\n",
    "# df_train[\"FireplaceQu\"].fillna(\"None\", inplace = True)\n",
    "\n",
    "# # 새롭게 missing value 처리\n",
    "# df_train[\"GarageYrBlt\"].fillna(\"None\", inplace = True)\n",
    "# df_train[\"GarageType\"].fillna(\"None\", inplace = True)\n",
    "# df_train[\"GarageFinish\"].fillna(\"None\", inplace = True)\n",
    "# df_train[\"GarageQual\"].fillna(\"None\", inplace = True)\n",
    "# df_train[\"GarageCond\"].fillna(\"None\", inplace = True)\n",
    "\n",
    "# isnullLotFrontage = df_train[\"LotFrontage\"].isnull()\n",
    "# sqrtLotArea = np.sqrt(df_train.loc[isnullLotFrontage].LotArea)\n",
    "# df_train.loc[isnullLotFrontage, \"LotFrontage\"] = np.sqrt(df_train.loc[isnullLotFrontage, \"LotArea\"])\n",
    "\n",
    "# df_train.isnull().sum().sort_values(ascending = False).tail()"
   ]
  },
  {
   "cell_type": "code",
   "execution_count": 17,
   "metadata": {},
   "outputs": [],
   "source": [
    "# # make logarithm data\n",
    "df_train[\"SalePrice\"] = np.log(df_train[\"SalePrice\"])\n",
    "df_train[\"LotFrontage\"] = np.log(df_train[\"LotFrontage\"])\n",
    "df_train[\"LotArea\"] = np.log(df_train[\"LotArea\"])\n",
    "df_train[\"1stFlrSF\"] = np.log(df_train[\"1stFlrSF\"])\n",
    "df_train[\"GrLivArea\"] = np.log(df_train[\"GrLivArea\"])\n",
    "\n",
    "rename_dict = {\"LotArea\":\"log_LotArea\",\"SalePrice\":\"log_SalePrice\", \"LotFrontage\":\"log_LotFrontage\", \"1stFlrSF\":\"log_1stFlrSF\", \"GrLivArea\":\"log_GrLivArea\"}\n",
    "df_train.rename(index = str, columns = rename_dict, inplace = True)"
   ]
  },
  {
   "cell_type": "code",
   "execution_count": 18,
   "metadata": {
    "collapsed": true
   },
   "outputs": [],
   "source": [
    "# rename variable that first letter is numeric\n",
    "rename_dict = {\"2ndFlrSF\":\"SecondFlrSF\", \"3SsnPorch\":\"ThreeSsnPorch\"}\n",
    "df_train.rename(index = str, columns = rename_dict, inplace = True)"
   ]
  },
  {
   "cell_type": "code",
   "execution_count": 19,
   "metadata": {
    "collapsed": true
   },
   "outputs": [],
   "source": [
    "df_train[\"MSZoning\"].replace({\"C (all)\":\"all\"}, inplace=True)\n",
    "df_train[\"Exterior1st\"].replace({\"Wd Sdng\":\"WdSdng\"}, inplace=True)\n",
    "df_train[\"Exterior2nd\"].replace({\"Wd Sdng\":\"WdSdng\"}, inplace=True)\n",
    "df_train[\"Exterior2nd\"].replace({\"Wd Shng\":\"WdShng\"}, inplace=True)\n",
    "df_train[\"Exterior2nd\"].replace({\"Brk Cmn\":\"BrkCmn\"}, inplace=True)\n",
    "df_train[\"HouseStyle\"].replace({\"1.5Fin\":\"1_5Fin\"}, inplace=True)\n",
    "df_train[\"HouseStyle\"].replace({\"1.5Unf\":\"1_5Unf\"}, inplace=True)\n",
    "df_train[\"HouseStyle\"].replace({\"2.5Fin\":\"2_5Fin\"}, inplace=True)\n",
    "df_train[\"HouseStyle\"].replace({\"2.5Unf\":\"2_5Unf\"}, inplace=True)\n",
    "df_train[\"RoofMatl\"].replace({\"Tar&Grv\":\"TarandGrv\"}, inplace=True)"
   ]
  },
  {
   "cell_type": "code",
   "execution_count": 20,
   "metadata": {},
   "outputs": [],
   "source": [
    "nuTocaList = [\"MSSubClass\", \"MoSold\", \"YrSold\", \"OverallQual\", \"OverallCond\"]\n",
    "df_train[nuTocaList] = df_train[nuTocaList].astype(\"str\")"
   ]
  },
  {
   "cell_type": "code",
   "execution_count": 22,
   "metadata": {
    "collapsed": true,
    "scrolled": true
   },
   "outputs": [],
   "source": [
    "# # make dummy data\n",
    "df_train_dummy = pd.get_dummies(df_train)\n",
    "df_train.to_csv(\"train_dummy.csv\", index = False)"
   ]
  },
  {
   "cell_type": "code",
   "execution_count": 25,
   "metadata": {},
   "outputs": [
    {
     "data": {
      "text/plain": [
       "Index(['Id', 'log_LotFrontage', 'log_LotArea', 'YearBuilt', 'YearRemodAdd',\n",
       "       'MasVnrArea', 'BsmtFinSF1', 'BsmtFinSF2', 'BsmtUnfSF', 'TotalBsmtSF',\n",
       "       ...\n",
       "       'SaleType_ConLw', 'SaleType_New', 'SaleType_Oth', 'SaleType_WD',\n",
       "       'SaleCondition_Abnorml', 'SaleCondition_AdjLand',\n",
       "       'SaleCondition_Alloca', 'SaleCondition_Family', 'SaleCondition_Normal',\n",
       "       'SaleCondition_Partial'],\n",
       "      dtype='object', length=350)"
      ]
     },
     "execution_count": 25,
     "metadata": {},
     "output_type": "execute_result"
    }
   ],
   "source": [
    "df_train_dummy.columns"
   ]
  },
  {
   "cell_type": "code",
   "execution_count": 12,
   "metadata": {
    "collapsed": true
   },
   "outputs": [],
   "source": [
    "# make new_csv_file\n",
    "df_train.to_csv(\"train_no_missing.csv\", index = False)"
   ]
  },
  {
   "cell_type": "code",
   "execution_count": null,
   "metadata": {
    "collapsed": true
   },
   "outputs": [],
   "source": [
    "# # split datas into quantative and categorical\n",
    "# df_train_quan = extractQuanFromDF(df_train, 'Id', 'SalePrice')\n",
    "# df_train_qual = extractQualFromDF(df_train)"
   ]
  },
  {
   "cell_type": "code",
   "execution_count": null,
   "metadata": {
    "collapsed": true
   },
   "outputs": [],
   "source": [
    "df_train = pd.read_csv(\"train_no_missing.csv\")"
   ]
  },
  {
   "cell_type": "code",
   "execution_count": null,
   "metadata": {
    "collapsed": true
   },
   "outputs": [],
   "source": [
    "# df_train.isnull()"
   ]
  },
  {
   "cell_type": "code",
   "execution_count": null,
   "metadata": {},
   "outputs": [],
   "source": [
    "df_train.isnull().any().sum()"
   ]
  },
  {
   "cell_type": "markdown",
   "metadata": {},
   "source": [
    "# test data 처리"
   ]
  },
  {
   "cell_type": "code",
   "execution_count": 87,
   "metadata": {},
   "outputs": [
    {
     "name": "stdout",
     "output_type": "stream",
     "text": [
      "Series([], dtype: int64)\n"
     ]
    }
   ],
   "source": [
    "df_test = pd.read_csv(\"../data/test.csv\")\n",
    "# # make logarithm data\n",
    "df_test[\"LotFrontage\"] = np.log(df_test[\"LotFrontage\"])\n",
    "df_test[\"LotArea\"] = np.log(df_test[\"LotArea\"])\n",
    "df_test[\"1stFlrSF\"] = np.log(df_test[\"1stFlrSF\"])\n",
    "df_test[\"GrLivArea\"] = np.log(df_test[\"GrLivArea\"])\n",
    "\n",
    "rename_dict = {\"LotArea\":\"log_LotArea\", \"LotFrontage\":\"log_LotFrontage\", \"1stFlrSF\":\"log_1stFlrSF\", \"GrLivArea\":\"log_GrLivArea\"}\n",
    "df_test.rename(index = str, columns = rename_dict, inplace = True)\n",
    "\n",
    "# rename variable that first letter is numeric\n",
    "rename_dict = {\"2ndFlrSF\":\"SecondFlrSF\", \"3SsnPorch\":\"ThreeSsnPorch\"}\n",
    "df_test.rename(index = str, columns = rename_dict, inplace = True)\n",
    "\n",
    "# rename categorical level\n",
    "df_test[\"MSZoning\"].replace({\"C (all)\":\"all\"}, inplace=True)\n",
    "df_test[\"Exterior1st\"].replace({\"Wd Sdng\":\"WdSdng\"}, inplace=True)\n",
    "df_test[\"Exterior2nd\"].replace({\"Wd Sdng\":\"WdSdng\"}, inplace=True)\n",
    "df_test[\"Exterior2nd\"].replace({\"Wd Shng\":\"WdShng\"}, inplace=True)\n",
    "df_test[\"Exterior2nd\"].replace({\"Brk Cmn\":\"BrkCmn\"}, inplace=True)\n",
    "df_test[\"HouseStyle\"].replace({\"1.5Fin\":\"1_5Fin\"}, inplace=True)\n",
    "df_test[\"HouseStyle\"].replace({\"1.5Unf\":\"1_5Unf\"}, inplace=True)\n",
    "df_test[\"HouseStyle\"].replace({\"2.5Fin\":\"2_5Fin\"}, inplace=True)\n",
    "df_test[\"HouseStyle\"].replace({\"2.5Unf\":\"2_5Unf\"}, inplace=True)\n",
    "df_test[\"RoofMatl\"].replace({\"Tar&Grv\":\"TarandGrv\"}, inplace=True)\n",
    "\n",
    "##!!!!!!!!!!!!!!!!!!!!!!!!!!!!!!!!!!!!!!!!!!!!!!!!!! 다시 처리\n",
    "#numeric은 0, categoric은 None으로 missing value 처리\n",
    "for c in df_test.columns:\n",
    "    if df_test[c].dtype == \"object\":\n",
    "        mode = df_test[c].mode().values[0]\n",
    "        df_test[c].fillna(mode, inplace = True)\n",
    "    else:\n",
    "        df_test[c].fillna(0, inplace = True)\n",
    "\n",
    "print(df_test.isnull().sum()[df_test.isnull().sum()>0].sort_values())\n",
    "\n",
    "# make new_csv_file\n",
    "df_test.to_csv(\"test_no_missing.csv\", index = False)"
   ]
  }
 ],
 "metadata": {
  "kernelspec": {
   "display_name": "Python 3",
   "language": "python",
   "name": "python3"
  },
  "language_info": {
   "codemirror_mode": {
    "name": "ipython",
    "version": 3
   },
   "file_extension": ".py",
   "mimetype": "text/x-python",
   "name": "python",
   "nbconvert_exporter": "python",
   "pygments_lexer": "ipython3",
   "version": "3.6.3"
  }
 },
 "nbformat": 4,
 "nbformat_minor": 2
}
