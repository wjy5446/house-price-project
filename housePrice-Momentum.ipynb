{
 "cells": [
  {
   "cell_type": "code",
   "execution_count": 317,
   "metadata": {
    "collapsed": true
   },
   "outputs": [],
   "source": [
    "import re\n",
    "import patsy\n",
    "import pickle\n",
    "\n",
    "import pandas as pd\n",
    "import numpy as np\n",
    "import scipy as sp\n",
    "import matplotlib.pylab as plt\n",
    "import seaborn as sns\n",
    "import statsmodels.api as sm\n",
    "\n",
    "from statsmodels.stats.outliers_influence import variance_inflation_factor\n",
    "from statsmodels.graphics import utils\n",
    "\n",
    "from sklearn.preprocessing import scale\n",
    "from sklearn.metrics import r2_score\n",
    "from sklearn.model_selection import train_test_split\n",
    "from sklearn.model_selection import cross_val_score\n",
    "from sklearn.linear_model import LinearRegression, Ridge, Lasso, ElasticNet, RidgeCV\n",
    "\n",
    "import warnings"
   ]
  },
  {
   "cell_type": "code",
   "execution_count": 318,
   "metadata": {
    "collapsed": true
   },
   "outputs": [],
   "source": [
    "def makeFormula(target, numeric=None, categoric=None, noInter = False, scale = False):\n",
    "    formula = \"\"\n",
    "    formula += target\n",
    "    formula += \"~\"\n",
    "    \n",
    "    if(numeric != None):\n",
    "        if scale == True:\n",
    "            numeric = list(map(lambda c :  \"scale(\" + c + \")\", numeric))\n",
    "        formula_numeric = \"+\".join(numeric)\n",
    "        formula += formula_numeric \n",
    "    \n",
    "    if(numeric != None and categoric != None):\n",
    "        formula += \"+\"\n",
    "    \n",
    "    if(categoric != None):\n",
    "        categoric = list(map(lambda c :  \"C(\" + c + \")\", categoric))\n",
    "        formula_categoric = \"+\".join(categoric)\n",
    "        formula += formula_categoric\n",
    "    \n",
    "    if(noInter == True):\n",
    "        formula +=\"+0\"\n",
    "    \n",
    "    return formula"
   ]
  },
  {
   "cell_type": "code",
   "execution_count": 319,
   "metadata": {},
   "outputs": [],
   "source": [
    "def crossValidation(data, formula, split_num = 5, iter_num = 5, debug = False):\n",
    "    rmsd_sum = 0\n",
    "    r2_sum = 0\n",
    "    num_iter=0\n",
    "    \n",
    "    df_Y, df_X = patsy.dmatrices(formula, data=data, return_type='dataframe')\n",
    "    \n",
    "    for idx in range(iter_num):\n",
    "        df_cv_train_Y, df_cv_test_Y, df_cv_train_X, df_cv_test_X = train_test_split(df_Y, df_X, test_size=len(df_train)//split_num)\n",
    "\n",
    "        model = sm.OLS(df_cv_train_Y, df_cv_train_X)\n",
    "        result = model.fit()\n",
    "\n",
    "        predict = result.predict(df_cv_test_X).values[:, np.newaxis]\n",
    "        target = df_cv_test_Y.values\n",
    "        \n",
    "        # get rmsd\n",
    "        square_y = (predict - target) ** 2\n",
    "        rmsd = np.sqrt(square_y.sum() / len(df_cv_test_Y))\n",
    "        \n",
    "        # get r2\n",
    "        r2 = r2_score(target, predict)\n",
    "        \n",
    "        if debug == True:\n",
    "            print(\"{}차 시도!!!\".format(num_iter+1))\n",
    "            print(\"rmsd : \", rmsd)\n",
    "            print(\"r2 : \", r2)\n",
    "            print()\n",
    "\n",
    "        rmsd_sum += rmsd\n",
    "        r2_sum += r2\n",
    "        num_iter +=1\n",
    "    \n",
    "    rmsd_avr = rmsd_sum / iter_num\n",
    "    r2_avr = r2_sum / iter_num\n",
    "    \n",
    "    return rmsd_avr, r2_avr"
   ]
  },
  {
   "cell_type": "markdown",
   "metadata": {},
   "source": [
    "# read file"
   ]
  },
  {
   "cell_type": "code",
   "execution_count": 320,
   "metadata": {},
   "outputs": [
    {
     "name": "stderr",
     "output_type": "stream",
     "text": [
      "C:\\Users\\magenta_jy\\Anaconda3\\lib\\site-packages\\ipykernel_launcher.py:18: SettingWithCopyWarning: \n",
      "A value is trying to be set on a copy of a slice from a DataFrame\n",
      "\n",
      "See the caveats in the documentation: http://pandas.pydata.org/pandas-docs/stable/indexing.html#indexing-view-versus-copy\n"
     ]
    }
   ],
   "source": [
    "df_train = pd.read_csv(\"data/train_no_missing.csv\")\n",
    "df_test = pd.read_csv(\"data/test_no_missing.csv\")\n",
    "\n",
    "nuTocaList = [\"MSSubClass\", \"MoSold\", \"YrSold\", \"OverallQual\", \"OverallCond\"]\n",
    "df_train[nuTocaList] = df_train[nuTocaList].astype(\"str\")\n",
    "df_test[nuTocaList] = df_test[nuTocaList].astype(\"str\")\n",
    "\n",
    "df_all = pd.concat([df_train, df_test])\n",
    "df_all.reset_index(drop = True, inplace = True)\n",
    "\n",
    "df_all = pd.get_dummies(df_all)\n",
    "df_train_dummy = df_all.iloc[:1460]\n",
    "df_test_dummy = df_all.iloc[1460:]\n",
    "\n",
    "df_train_dummy.reset_index(drop=True, inplace =True)\n",
    "df_test_dummy.reset_index(drop=True, inplace =True)\n",
    "\n",
    "df_test_dummy.drop(\"SalePriceLog\", axis = 1, inplace = True)"
   ]
  },
  {
   "cell_type": "code",
   "execution_count": 321,
   "metadata": {},
   "outputs": [
    {
     "data": {
      "text/plain": [
       "((1460, 81), (1459, 80), (1460, 351), (1459, 350))"
      ]
     },
     "execution_count": 321,
     "metadata": {},
     "output_type": "execute_result"
    }
   ],
   "source": [
    "df_train.shape, df_test.shape, df_train_dummy.shape, df_test_dummy.shape"
   ]
  },
  {
   "cell_type": "markdown",
   "metadata": {},
   "source": [
    "# 0. Preprocessing"
   ]
  },
  {
   "cell_type": "markdown",
   "metadata": {},
   "source": [
    "## 0-1. Missing value Treatment"
   ]
  },
  {
   "cell_type": "code",
   "execution_count": 322,
   "metadata": {},
   "outputs": [],
   "source": [
    "df_na = pd.read_csv(\"data/total_missing.csv\")"
   ]
  },
  {
   "cell_type": "code",
   "execution_count": 323,
   "metadata": {},
   "outputs": [
    {
     "data": {
      "text/plain": [
       "<matplotlib.axes._subplots.AxesSubplot at 0x2926113c160>"
      ]
     },
     "execution_count": 323,
     "metadata": {},
     "output_type": "execute_result"
    },
    {
     "data": {
      "image/png": "[encoded data removed]",
      "text/plain": [
       "<matplotlib.figure.Figure at 0x2926113c358>"
      ]
     },
     "metadata": {},
     "output_type": "display_data"
    }
   ],
   "source": [
    "df_missing = df_na.isnull().sum()\n",
    "df_missing = df_missing[df_missing > 0]\n",
    "df_missing.sort_values(inplace = True)\n",
    "df_missing.plot(kind = \"bar\")"
   ]
  },
  {
   "cell_type": "code",
   "execution_count": 324,
   "metadata": {},
   "outputs": [
    {
     "data": {
      "text/plain": [
       "TotalBsmtSF    1\n",
       "GarageArea     1\n",
       "GarageCars     1\n",
       "KitchenQual    1\n",
       "Electrical     1\n",
       "dtype: int64"
      ]
     },
     "execution_count": 324,
     "metadata": {},
     "output_type": "execute_result"
    }
   ],
   "source": [
    "df_missing.head()"
   ]
  },
  {
   "cell_type": "markdown",
   "metadata": {},
   "source": [
    "### 0-1-1. PoolQC"
   ]
  },
  {
   "cell_type": "code",
   "execution_count": 325,
   "metadata": {},
   "outputs": [
    {
     "data": {
      "text/html": [
       "<div>\n",
       "<style>\n",
       "    .dataframe thead tr:only-child th {\n",
       "        text-align: right;\n",
       "    }\n",
       "\n",
       "    .dataframe thead th {\n",
       "        text-align: left;\n",
       "    }\n",
       "\n",
       "    .dataframe tbody tr th {\n",
       "        vertical-align: top;\n",
       "    }\n",
       "</style>\n",
       "<table border=\"1\" class=\"dataframe\">\n",
       "  <thead>\n",
       "    <tr style=\"text-align: right;\">\n",
       "      <th></th>\n",
       "      <th>Id</th>\n",
       "      <th>MSSubClass</th>\n",
       "      <th>MSZoning</th>\n",
       "      <th>LotFrontage</th>\n",
       "      <th>LotArea</th>\n",
       "      <th>Street</th>\n",
       "      <th>Alley</th>\n",
       "      <th>LotShape</th>\n",
       "      <th>LandContour</th>\n",
       "      <th>Utilities</th>\n",
       "      <th>...</th>\n",
       "      <th>ScreenPorch</th>\n",
       "      <th>PoolArea</th>\n",
       "      <th>PoolQC</th>\n",
       "      <th>Fence</th>\n",
       "      <th>MiscFeature</th>\n",
       "      <th>MiscVal</th>\n",
       "      <th>MoSold</th>\n",
       "      <th>YrSold</th>\n",
       "      <th>SaleType</th>\n",
       "      <th>SaleCondition</th>\n",
       "    </tr>\n",
       "  </thead>\n",
       "  <tbody>\n",
       "    <tr>\n",
       "      <th>197</th>\n",
       "      <td>198</td>\n",
       "      <td>75</td>\n",
       "      <td>RL</td>\n",
       "      <td>174.0</td>\n",
       "      <td>25419</td>\n",
       "      <td>Pave</td>\n",
       "      <td>NaN</td>\n",
       "      <td>Reg</td>\n",
       "      <td>Lvl</td>\n",
       "      <td>AllPub</td>\n",
       "      <td>...</td>\n",
       "      <td>0</td>\n",
       "      <td>512</td>\n",
       "      <td>Ex</td>\n",
       "      <td>GdPrv</td>\n",
       "      <td>NaN</td>\n",
       "      <td>0</td>\n",
       "      <td>3</td>\n",
       "      <td>2006</td>\n",
       "      <td>WD</td>\n",
       "      <td>Abnorml</td>\n",
       "    </tr>\n",
       "    <tr>\n",
       "      <th>810</th>\n",
       "      <td>811</td>\n",
       "      <td>20</td>\n",
       "      <td>RL</td>\n",
       "      <td>78.0</td>\n",
       "      <td>10140</td>\n",
       "      <td>Pave</td>\n",
       "      <td>NaN</td>\n",
       "      <td>Reg</td>\n",
       "      <td>Lvl</td>\n",
       "      <td>AllPub</td>\n",
       "      <td>...</td>\n",
       "      <td>0</td>\n",
       "      <td>648</td>\n",
       "      <td>Fa</td>\n",
       "      <td>GdPrv</td>\n",
       "      <td>NaN</td>\n",
       "      <td>0</td>\n",
       "      <td>1</td>\n",
       "      <td>2006</td>\n",
       "      <td>WD</td>\n",
       "      <td>Normal</td>\n",
       "    </tr>\n",
       "    <tr>\n",
       "      <th>1170</th>\n",
       "      <td>1171</td>\n",
       "      <td>80</td>\n",
       "      <td>RL</td>\n",
       "      <td>76.0</td>\n",
       "      <td>9880</td>\n",
       "      <td>Pave</td>\n",
       "      <td>NaN</td>\n",
       "      <td>Reg</td>\n",
       "      <td>Lvl</td>\n",
       "      <td>AllPub</td>\n",
       "      <td>...</td>\n",
       "      <td>0</td>\n",
       "      <td>576</td>\n",
       "      <td>Gd</td>\n",
       "      <td>GdPrv</td>\n",
       "      <td>NaN</td>\n",
       "      <td>0</td>\n",
       "      <td>7</td>\n",
       "      <td>2008</td>\n",
       "      <td>WD</td>\n",
       "      <td>Normal</td>\n",
       "    </tr>\n",
       "    <tr>\n",
       "      <th>1182</th>\n",
       "      <td>1183</td>\n",
       "      <td>60</td>\n",
       "      <td>RL</td>\n",
       "      <td>160.0</td>\n",
       "      <td>15623</td>\n",
       "      <td>Pave</td>\n",
       "      <td>NaN</td>\n",
       "      <td>IR1</td>\n",
       "      <td>Lvl</td>\n",
       "      <td>AllPub</td>\n",
       "      <td>...</td>\n",
       "      <td>0</td>\n",
       "      <td>555</td>\n",
       "      <td>Ex</td>\n",
       "      <td>MnPrv</td>\n",
       "      <td>NaN</td>\n",
       "      <td>0</td>\n",
       "      <td>7</td>\n",
       "      <td>2007</td>\n",
       "      <td>WD</td>\n",
       "      <td>Abnorml</td>\n",
       "    </tr>\n",
       "    <tr>\n",
       "      <th>1298</th>\n",
       "      <td>1299</td>\n",
       "      <td>60</td>\n",
       "      <td>RL</td>\n",
       "      <td>313.0</td>\n",
       "      <td>63887</td>\n",
       "      <td>Pave</td>\n",
       "      <td>NaN</td>\n",
       "      <td>IR3</td>\n",
       "      <td>Bnk</td>\n",
       "      <td>AllPub</td>\n",
       "      <td>...</td>\n",
       "      <td>0</td>\n",
       "      <td>480</td>\n",
       "      <td>Gd</td>\n",
       "      <td>NaN</td>\n",
       "      <td>NaN</td>\n",
       "      <td>0</td>\n",
       "      <td>1</td>\n",
       "      <td>2008</td>\n",
       "      <td>New</td>\n",
       "      <td>Partial</td>\n",
       "    </tr>\n",
       "    <tr>\n",
       "      <th>1386</th>\n",
       "      <td>1387</td>\n",
       "      <td>60</td>\n",
       "      <td>RL</td>\n",
       "      <td>80.0</td>\n",
       "      <td>16692</td>\n",
       "      <td>Pave</td>\n",
       "      <td>NaN</td>\n",
       "      <td>IR1</td>\n",
       "      <td>Lvl</td>\n",
       "      <td>AllPub</td>\n",
       "      <td>...</td>\n",
       "      <td>440</td>\n",
       "      <td>519</td>\n",
       "      <td>Fa</td>\n",
       "      <td>MnPrv</td>\n",
       "      <td>TenC</td>\n",
       "      <td>2000</td>\n",
       "      <td>7</td>\n",
       "      <td>2006</td>\n",
       "      <td>WD</td>\n",
       "      <td>Normal</td>\n",
       "    </tr>\n",
       "    <tr>\n",
       "      <th>1423</th>\n",
       "      <td>1424</td>\n",
       "      <td>80</td>\n",
       "      <td>RL</td>\n",
       "      <td>NaN</td>\n",
       "      <td>19690</td>\n",
       "      <td>Pave</td>\n",
       "      <td>NaN</td>\n",
       "      <td>IR1</td>\n",
       "      <td>Lvl</td>\n",
       "      <td>AllPub</td>\n",
       "      <td>...</td>\n",
       "      <td>0</td>\n",
       "      <td>738</td>\n",
       "      <td>Gd</td>\n",
       "      <td>GdPrv</td>\n",
       "      <td>NaN</td>\n",
       "      <td>0</td>\n",
       "      <td>8</td>\n",
       "      <td>2006</td>\n",
       "      <td>WD</td>\n",
       "      <td>Alloca</td>\n",
       "    </tr>\n",
       "    <tr>\n",
       "      <th>1974</th>\n",
       "      <td>1975</td>\n",
       "      <td>20</td>\n",
       "      <td>RL</td>\n",
       "      <td>106.0</td>\n",
       "      <td>12720</td>\n",
       "      <td>Pave</td>\n",
       "      <td>NaN</td>\n",
       "      <td>Reg</td>\n",
       "      <td>HLS</td>\n",
       "      <td>AllPub</td>\n",
       "      <td>...</td>\n",
       "      <td>216</td>\n",
       "      <td>144</td>\n",
       "      <td>Ex</td>\n",
       "      <td>NaN</td>\n",
       "      <td>NaN</td>\n",
       "      <td>0</td>\n",
       "      <td>2</td>\n",
       "      <td>2008</td>\n",
       "      <td>WD</td>\n",
       "      <td>Normal</td>\n",
       "    </tr>\n",
       "    <tr>\n",
       "      <th>2573</th>\n",
       "      <td>2574</td>\n",
       "      <td>20</td>\n",
       "      <td>RL</td>\n",
       "      <td>70.0</td>\n",
       "      <td>18044</td>\n",
       "      <td>Pave</td>\n",
       "      <td>NaN</td>\n",
       "      <td>IR1</td>\n",
       "      <td>HLS</td>\n",
       "      <td>AllPub</td>\n",
       "      <td>...</td>\n",
       "      <td>0</td>\n",
       "      <td>228</td>\n",
       "      <td>Ex</td>\n",
       "      <td>NaN</td>\n",
       "      <td>NaN</td>\n",
       "      <td>0</td>\n",
       "      <td>8</td>\n",
       "      <td>2007</td>\n",
       "      <td>WD</td>\n",
       "      <td>Normal</td>\n",
       "    </tr>\n",
       "    <tr>\n",
       "      <th>2710</th>\n",
       "      <td>2711</td>\n",
       "      <td>80</td>\n",
       "      <td>RL</td>\n",
       "      <td>100.0</td>\n",
       "      <td>14330</td>\n",
       "      <td>Pave</td>\n",
       "      <td>NaN</td>\n",
       "      <td>IR1</td>\n",
       "      <td>Low</td>\n",
       "      <td>AllPub</td>\n",
       "      <td>...</td>\n",
       "      <td>0</td>\n",
       "      <td>800</td>\n",
       "      <td>Gd</td>\n",
       "      <td>GdPrv</td>\n",
       "      <td>NaN</td>\n",
       "      <td>0</td>\n",
       "      <td>1</td>\n",
       "      <td>2006</td>\n",
       "      <td>WD</td>\n",
       "      <td>Normal</td>\n",
       "    </tr>\n",
       "  </tbody>\n",
       "</table>\n",
       "<p>10 rows × 80 columns</p>\n",
       "</div>"
      ],
      "text/plain": [
       "        Id  MSSubClass MSZoning  LotFrontage  LotArea Street Alley LotShape  \\\n",
       "197    198          75       RL        174.0    25419   Pave   NaN      Reg   \n",
       "810    811          20       RL         78.0    10140   Pave   NaN      Reg   \n",
       "1170  1171          80       RL         76.0     9880   Pave   NaN      Reg   \n",
       "1182  1183          60       RL        160.0    15623   Pave   NaN      IR1   \n",
       "1298  1299          60       RL        313.0    63887   Pave   NaN      IR3   \n",
       "1386  1387          60       RL         80.0    16692   Pave   NaN      IR1   \n",
       "1423  1424          80       RL          NaN    19690   Pave   NaN      IR1   \n",
       "1974  1975          20       RL        106.0    12720   Pave   NaN      Reg   \n",
       "2573  2574          20       RL         70.0    18044   Pave   NaN      IR1   \n",
       "2710  2711          80       RL        100.0    14330   Pave   NaN      IR1   \n",
       "\n",
       "     LandContour Utilities      ...       ScreenPorch PoolArea PoolQC  Fence  \\\n",
       "197          Lvl    AllPub      ...                 0      512     Ex  GdPrv   \n",
       "810          Lvl    AllPub      ...                 0      648     Fa  GdPrv   \n",
       "1170         Lvl    AllPub      ...                 0      576     Gd  GdPrv   \n",
       "1182         Lvl    AllPub      ...                 0      555     Ex  MnPrv   \n",
       "1298         Bnk    AllPub      ...                 0      480     Gd    NaN   \n",
       "1386         Lvl    AllPub      ...               440      519     Fa  MnPrv   \n",
       "1423         Lvl    AllPub      ...                 0      738     Gd  GdPrv   \n",
       "1974         HLS    AllPub      ...               216      144     Ex    NaN   \n",
       "2573         HLS    AllPub      ...                 0      228     Ex    NaN   \n",
       "2710         Low    AllPub      ...                 0      800     Gd  GdPrv   \n",
       "\n",
       "     MiscFeature MiscVal MoSold  YrSold  SaleType  SaleCondition  \n",
       "197          NaN       0      3    2006        WD        Abnorml  \n",
       "810          NaN       0      1    2006        WD         Normal  \n",
       "1170         NaN       0      7    2008        WD         Normal  \n",
       "1182         NaN       0      7    2007        WD        Abnorml  \n",
       "1298         NaN       0      1    2008       New        Partial  \n",
       "1386        TenC    2000      7    2006        WD         Normal  \n",
       "1423         NaN       0      8    2006        WD         Alloca  \n",
       "1974         NaN       0      2    2008        WD         Normal  \n",
       "2573         NaN       0      8    2007        WD         Normal  \n",
       "2710         NaN       0      1    2006        WD         Normal  \n",
       "\n",
       "[10 rows x 80 columns]"
      ]
     },
     "execution_count": 325,
     "metadata": {},
     "output_type": "execute_result"
    }
   ],
   "source": [
    "df_na[df_na[\"PoolQC\"].notnull()]"
   ]
  },
  {
   "cell_type": "markdown",
   "metadata": {},
   "source": [
    "#### PoolArea가 0인 경우 \n",
    "\n",
    "- PoolQC: None category\n",
    "- Pool Area가 있음에도 PoolQC가 Na인 경우는 mode 값 "
   ]
  },
  {
   "cell_type": "code",
   "execution_count": 326,
   "metadata": {},
   "outputs": [],
   "source": [
    "df_na[\"PoolArea\"] != 0\n",
    "df_pool = df_na[df_na[\"PoolArea\"] != 0]"
   ]
  },
  {
   "cell_type": "code",
   "execution_count": 327,
   "metadata": {},
   "outputs": [
    {
     "data": {
      "text/plain": [
       "<matplotlib.axes._subplots.AxesSubplot at 0x2925ade76a0>"
      ]
     },
     "execution_count": 327,
     "metadata": {},
     "output_type": "execute_result"
    },
    {
     "data": {
      "image/png": "[encoded data removed]",
      "text/plain": [
       "<matplotlib.figure.Figure at 0x29262da49e8>"
      ]
     },
     "metadata": {},
     "output_type": "display_data"
    }
   ],
   "source": [
    "sns.countplot(df_na[\"PoolQC\"])"
   ]
  },
  {
   "cell_type": "markdown",
   "metadata": {},
   "source": [
    "#### PoolArea가 0인 아닌 경우\n",
    "- Overall Qual 변수는 집 전체 상태를 본 값으로 수영장이 있는 경우 이도 반영될 것으로 판단해서 이를 참고\n",
    "- 결측값이 있는 집의 경우 overall Qual이 6이하이므로 (Ex 인 경우 8점 이상) mode 값이면서 범위가 큰 Gd 으로 대체 "
   ]
  },
  {
   "cell_type": "code",
   "execution_count": 328,
   "metadata": {},
   "outputs": [
    {
     "data": {
      "text/plain": [
       "<matplotlib.axes._subplots.AxesSubplot at 0x2925d65fa58>"
      ]
     },
     "execution_count": 328,
     "metadata": {},
     "output_type": "execute_result"
    },
    {
     "data": {
      "image/png": "[encoded data removed]",
      "text/plain": [
       "<matplotlib.figure.Figure at 0x29261110ac8>"
      ]
     },
     "metadata": {},
     "output_type": "display_data"
    }
   ],
   "source": [
    "sns.boxplot(x = df_na[\"PoolQC\"], y = df_na[\"OverallQual\"])"
   ]
  },
  {
   "cell_type": "code",
   "execution_count": 329,
   "metadata": {},
   "outputs": [
    {
     "data": {
      "text/html": [
       "<div>\n",
       "<style>\n",
       "    .dataframe thead tr:only-child th {\n",
       "        text-align: right;\n",
       "    }\n",
       "\n",
       "    .dataframe thead th {\n",
       "        text-align: left;\n",
       "    }\n",
       "\n",
       "    .dataframe tbody tr th {\n",
       "        vertical-align: top;\n",
       "    }\n",
       "</style>\n",
       "<table border=\"1\" class=\"dataframe\">\n",
       "  <thead>\n",
       "    <tr style=\"text-align: right;\">\n",
       "      <th></th>\n",
       "      <th>PoolArea</th>\n",
       "      <th>PoolQC</th>\n",
       "      <th>OverallQual</th>\n",
       "    </tr>\n",
       "  </thead>\n",
       "  <tbody>\n",
       "    <tr>\n",
       "      <th>197</th>\n",
       "      <td>512</td>\n",
       "      <td>Ex</td>\n",
       "      <td>8</td>\n",
       "    </tr>\n",
       "    <tr>\n",
       "      <th>810</th>\n",
       "      <td>648</td>\n",
       "      <td>Fa</td>\n",
       "      <td>6</td>\n",
       "    </tr>\n",
       "    <tr>\n",
       "      <th>1170</th>\n",
       "      <td>576</td>\n",
       "      <td>Gd</td>\n",
       "      <td>6</td>\n",
       "    </tr>\n",
       "    <tr>\n",
       "      <th>1182</th>\n",
       "      <td>555</td>\n",
       "      <td>Ex</td>\n",
       "      <td>10</td>\n",
       "    </tr>\n",
       "    <tr>\n",
       "      <th>1298</th>\n",
       "      <td>480</td>\n",
       "      <td>Gd</td>\n",
       "      <td>10</td>\n",
       "    </tr>\n",
       "    <tr>\n",
       "      <th>1386</th>\n",
       "      <td>519</td>\n",
       "      <td>Fa</td>\n",
       "      <td>7</td>\n",
       "    </tr>\n",
       "    <tr>\n",
       "      <th>1423</th>\n",
       "      <td>738</td>\n",
       "      <td>Gd</td>\n",
       "      <td>6</td>\n",
       "    </tr>\n",
       "    <tr>\n",
       "      <th>1974</th>\n",
       "      <td>144</td>\n",
       "      <td>Ex</td>\n",
       "      <td>10</td>\n",
       "    </tr>\n",
       "    <tr>\n",
       "      <th>2420</th>\n",
       "      <td>368</td>\n",
       "      <td>NaN</td>\n",
       "      <td>4</td>\n",
       "    </tr>\n",
       "    <tr>\n",
       "      <th>2503</th>\n",
       "      <td>444</td>\n",
       "      <td>NaN</td>\n",
       "      <td>6</td>\n",
       "    </tr>\n",
       "    <tr>\n",
       "      <th>2573</th>\n",
       "      <td>228</td>\n",
       "      <td>Ex</td>\n",
       "      <td>8</td>\n",
       "    </tr>\n",
       "    <tr>\n",
       "      <th>2599</th>\n",
       "      <td>561</td>\n",
       "      <td>NaN</td>\n",
       "      <td>3</td>\n",
       "    </tr>\n",
       "    <tr>\n",
       "      <th>2710</th>\n",
       "      <td>800</td>\n",
       "      <td>Gd</td>\n",
       "      <td>7</td>\n",
       "    </tr>\n",
       "  </tbody>\n",
       "</table>\n",
       "</div>"
      ],
      "text/plain": [
       "      PoolArea PoolQC  OverallQual\n",
       "197        512     Ex            8\n",
       "810        648     Fa            6\n",
       "1170       576     Gd            6\n",
       "1182       555     Ex           10\n",
       "1298       480     Gd           10\n",
       "1386       519     Fa            7\n",
       "1423       738     Gd            6\n",
       "1974       144     Ex           10\n",
       "2420       368    NaN            4\n",
       "2503       444    NaN            6\n",
       "2573       228     Ex            8\n",
       "2599       561    NaN            3\n",
       "2710       800     Gd            7"
      ]
     },
     "execution_count": 329,
     "metadata": {},
     "output_type": "execute_result"
    }
   ],
   "source": [
    "df_pool_qual = pd.DataFrame(df_pool, columns = [\"PoolArea\", \"PoolQC\", \"OverallQual\"] )\n",
    "df_pool_qual"
   ]
  },
  {
   "cell_type": "markdown",
   "metadata": {},
   "source": [
    "### 0-1-2. MiscFeature"
   ]
  },
  {
   "cell_type": "markdown",
   "metadata": {},
   "source": [
    "- MiscVal가 없는 경우 : MiscFeature None으로 처리 \n",
    "- MiscFeature가 Shed,other 이지만 0인 경우: Shed와 other 의 평균값으로 대체 \n",
    "- MiscVal가 17000이고 MiscFeature가 Na인 경우: MiscVal의 range에 해당되는 Gar2로 대체 "
   ]
  },
  {
   "cell_type": "code",
   "execution_count": 330,
   "metadata": {},
   "outputs": [
    {
     "data": {
      "text/plain": [
       "<matplotlib.axes._subplots.AxesSubplot at 0x29262beb940>"
      ]
     },
     "execution_count": 330,
     "metadata": {},
     "output_type": "execute_result"
    },
    {
     "data": {
      "image/png": "[encoded data removed]",
      "text/plain": [
       "<matplotlib.figure.Figure at 0x2925dc01d30>"
      ]
     },
     "metadata": {},
     "output_type": "display_data"
    }
   ],
   "source": [
    "sns.boxplot(x = df_na[\"MiscFeature\"], y = df_na[\"MiscVal\"])"
   ]
  },
  {
   "cell_type": "markdown",
   "metadata": {},
   "source": [
    "### 0-1-3. LotFrontage"
   ]
  },
  {
   "cell_type": "markdown",
   "metadata": {},
   "source": [
    "- LotFrontage는 LotShape, LotConfig를 고려해서 해당되는 median값으로 대체 "
   ]
  },
  {
   "cell_type": "code",
   "execution_count": 331,
   "metadata": {},
   "outputs": [
    {
     "data": {
      "text/html": [
       "<div>\n",
       "<style>\n",
       "    .dataframe thead tr:only-child th {\n",
       "        text-align: right;\n",
       "    }\n",
       "\n",
       "    .dataframe thead th {\n",
       "        text-align: left;\n",
       "    }\n",
       "\n",
       "    .dataframe tbody tr th {\n",
       "        vertical-align: top;\n",
       "    }\n",
       "</style>\n",
       "<table border=\"1\" class=\"dataframe\">\n",
       "  <thead>\n",
       "    <tr style=\"text-align: right;\">\n",
       "      <th>LotConfig</th>\n",
       "      <th>Corner</th>\n",
       "      <th>CulDSac</th>\n",
       "      <th>FR2</th>\n",
       "      <th>FR3</th>\n",
       "      <th>Inside</th>\n",
       "    </tr>\n",
       "    <tr>\n",
       "      <th>LotShape</th>\n",
       "      <th></th>\n",
       "      <th></th>\n",
       "      <th></th>\n",
       "      <th></th>\n",
       "      <th></th>\n",
       "    </tr>\n",
       "  </thead>\n",
       "  <tbody>\n",
       "    <tr>\n",
       "      <th>IR1</th>\n",
       "      <td>92.0</td>\n",
       "      <td>50.0</td>\n",
       "      <td>60.0</td>\n",
       "      <td>80.5</td>\n",
       "      <td>71.0</td>\n",
       "    </tr>\n",
       "    <tr>\n",
       "      <th>IR2</th>\n",
       "      <td>96.0</td>\n",
       "      <td>47.5</td>\n",
       "      <td>44.5</td>\n",
       "      <td>NaN</td>\n",
       "      <td>66.0</td>\n",
       "    </tr>\n",
       "    <tr>\n",
       "      <th>IR3</th>\n",
       "      <td>158.5</td>\n",
       "      <td>113.5</td>\n",
       "      <td>NaN</td>\n",
       "      <td>NaN</td>\n",
       "      <td>66.0</td>\n",
       "    </tr>\n",
       "    <tr>\n",
       "      <th>Reg</th>\n",
       "      <td>74.0</td>\n",
       "      <td>33.0</td>\n",
       "      <td>64.5</td>\n",
       "      <td>65.0</td>\n",
       "      <td>65.0</td>\n",
       "    </tr>\n",
       "  </tbody>\n",
       "</table>\n",
       "</div>"
      ],
      "text/plain": [
       "LotConfig  Corner  CulDSac   FR2   FR3  Inside\n",
       "LotShape                                      \n",
       "IR1          92.0     50.0  60.0  80.5    71.0\n",
       "IR2          96.0     47.5  44.5   NaN    66.0\n",
       "IR3         158.5    113.5   NaN   NaN    66.0\n",
       "Reg          74.0     33.0  64.5  65.0    65.0"
      ]
     },
     "execution_count": 331,
     "metadata": {},
     "output_type": "execute_result"
    }
   ],
   "source": [
    "df_na.pivot_table(values=\"LotFrontage\", index=[\"LotShape\"], columns=[\"LotConfig\"], aggfunc=np.median)"
   ]
  },
  {
   "cell_type": "markdown",
   "metadata": {},
   "source": [
    "### 0-1-4. Garage-related features"
   ]
  },
  {
   "cell_type": "markdown",
   "metadata": {},
   "source": [
    "- Garage가 없는 경우 : None 클래스 생성\n",
    "- Garage Yearbuilt인 경우 : YearRemodbuilt 년도로 대체"
   ]
  },
  {
   "cell_type": "markdown",
   "metadata": {},
   "source": [
    "### 0-1-5. Basement-related features"
   ]
  },
  {
   "cell_type": "markdown",
   "metadata": {},
   "source": [
    "- BsmtFinSF1 +\tBsmtFinSF2\t+ BsmtUnfSF\t= TotalBsmtSF\n",
    "- Basement(FinType 1, 2, Qual, condition, Exposure)가 모두 Nan인 경우 : None 클래스 생성 \n",
    "- Basement가 있음에도 Quality, Condition이 없은 경우 : 최빈값으로 대체 (TA) \n",
    "- Basement halfbath, fullbath: basement가 없는 경우 : 0으로 대체 "
   ]
  },
  {
   "cell_type": "code",
   "execution_count": 332,
   "metadata": {},
   "outputs": [
    {
     "data": {
      "image/png": "[encoded data removed]",
      "text/plain": [
       "<matplotlib.figure.Figure at 0x292604e8198>"
      ]
     },
     "metadata": {},
     "output_type": "display_data"
    }
   ],
   "source": [
    "fig, axes = plt.subplots(1, 2, figsize = (10, 5))\n",
    "sns.countplot(df_na[\"BsmtCond\"], ax = axes[0])\n",
    "sns.countplot(df_na[\"BsmtQual\"], ax =axes[1])\n",
    "plt.show()"
   ]
  },
  {
   "cell_type": "markdown",
   "metadata": {},
   "source": [
    "### 0-1-6. MasVeneer-related features"
   ]
  },
  {
   "cell_type": "markdown",
   "metadata": {},
   "source": [
    "- MasVnrType과 MasVnrArea과 같이 Nan인 경우: None과 0으로 대체\n",
    "- MasVnrArea가 있는데 Type이 Nan인 경우는 None을 제외한 mode값 BrkFace로 대체 "
   ]
  },
  {
   "cell_type": "code",
   "execution_count": 333,
   "metadata": {},
   "outputs": [
    {
     "data": {
      "text/plain": [
       "<matplotlib.axes._subplots.AxesSubplot at 0x2925d5733c8>"
      ]
     },
     "execution_count": 333,
     "metadata": {},
     "output_type": "execute_result"
    },
    {
     "data": {
      "image/png": "[encoded data removed]",
      "text/plain": [
       "<matplotlib.figure.Figure at 0x2925ee5cc88>"
      ]
     },
     "metadata": {},
     "output_type": "display_data"
    }
   ],
   "source": [
    "sns.countplot(df_na[\"MasVnrType\"])"
   ]
  },
  {
   "cell_type": "markdown",
   "metadata": {},
   "source": [
    "### 0-1-7. FireplaceQu, Fence, Alley"
   ]
  },
  {
   "cell_type": "markdown",
   "metadata": {},
   "source": [
    "- None cagtegory으로 분류"
   ]
  },
  {
   "cell_type": "markdown",
   "metadata": {},
   "source": [
    "### 0-1-8. MsZoning, Utilities, Functional etc."
   ]
  },
  {
   "cell_type": "markdown",
   "metadata": {},
   "source": [
    "- MsZoing : mode값 'RL'를 사용"
   ]
  },
  {
   "cell_type": "code",
   "execution_count": 334,
   "metadata": {},
   "outputs": [
    {
     "data": {
      "text/plain": [
       "<matplotlib.axes._subplots.AxesSubplot at 0x2925d7b6f28>"
      ]
     },
     "execution_count": 334,
     "metadata": {},
     "output_type": "execute_result"
    },
    {
     "data": {
      "image/png": "[encoded data removed]",
      "text/plain": [
       "<matplotlib.figure.Figure at 0x2925ee5c780>"
      ]
     },
     "metadata": {},
     "output_type": "display_data"
    }
   ],
   "source": [
    "sns.countplot(df_na[\"MSZoning\"])"
   ]
  },
  {
   "cell_type": "markdown",
   "metadata": {},
   "source": [
    "- Utitlites : mode값 'AllPub'를 사용"
   ]
  },
  {
   "cell_type": "code",
   "execution_count": 335,
   "metadata": {},
   "outputs": [
    {
     "data": {
      "text/plain": [
       "<matplotlib.axes._subplots.AxesSubplot at 0x2925b2c2d30>"
      ]
     },
     "execution_count": 335,
     "metadata": {},
     "output_type": "execute_result"
    },
    {
     "data": {
      "image/png": "[encoded data removed]",
      "text/plain": [
       "<matplotlib.figure.Figure at 0x2925adc2630>"
      ]
     },
     "metadata": {},
     "output_type": "display_data"
    }
   ],
   "source": [
    "sns.countplot(df_na[\"Utilities\"])"
   ]
  },
  {
   "cell_type": "markdown",
   "metadata": {},
   "source": [
    "- Functional : mode값 'Typ'를 사용"
   ]
  },
  {
   "cell_type": "code",
   "execution_count": 336,
   "metadata": {},
   "outputs": [
    {
     "data": {
      "text/plain": [
       "<matplotlib.axes._subplots.AxesSubplot at 0x2925b1cd588>"
      ]
     },
     "execution_count": 336,
     "metadata": {},
     "output_type": "execute_result"
    },
    {
     "data": {
      "image/png": "[encoded data removed]",
      "text/plain": [
       "<matplotlib.figure.Figure at 0x2925b461e48>"
      ]
     },
     "metadata": {},
     "output_type": "display_data"
    }
   ],
   "source": [
    "sns.countplot(df_na[\"Functional\"])"
   ]
  },
  {
   "cell_type": "markdown",
   "metadata": {},
   "source": [
    "## 0-2. Feature Transformation"
   ]
  },
  {
   "cell_type": "markdown",
   "metadata": {},
   "source": [
    "### 0-2-1. Logarithm"
   ]
  },
  {
   "cell_type": "markdown",
   "metadata": {},
   "source": [
    "#### SalePrice"
   ]
  },
  {
   "cell_type": "code",
   "execution_count": 337,
   "metadata": {},
   "outputs": [
    {
     "data": {
      "image/png": "[encoded data removed]",
      "text/plain": [
       "<matplotlib.figure.Figure at 0x2925b04c160>"
      ]
     },
     "metadata": {},
     "output_type": "display_data"
    }
   ],
   "source": [
    "fig, axes = plt.subplots(1, 2, figsize=(10, 5))\n",
    "\n",
    "sp.stats.probplot(np.exp(df_train[\"SalePriceLog\"]), plot = axes[0])\n",
    "sp.stats.probplot(df_train[\"SalePriceLog\"], plot = axes[1])\n",
    "\n",
    "plt.show()"
   ]
  },
  {
   "cell_type": "markdown",
   "metadata": {},
   "source": [
    "#### LotFrontage"
   ]
  },
  {
   "cell_type": "code",
   "execution_count": 338,
   "metadata": {},
   "outputs": [
    {
     "data": {
      "image/png": "[encoded data removed]",
      "text/plain": [
       "<matplotlib.figure.Figure at 0x2925d598668>"
      ]
     },
     "metadata": {},
     "output_type": "display_data"
    }
   ],
   "source": [
    "fig, axes = plt.subplots(1, 2, figsize=(10, 5))\n",
    "\n",
    "sp.stats.probplot(np.exp(df_train[\"LotFrontageLog\"]), plot = axes[0])\n",
    "sp.stats.probplot(df_train[\"LotFrontageLog\"], plot = axes[1])\n",
    "\n",
    "plt.show()"
   ]
  },
  {
   "cell_type": "markdown",
   "metadata": {},
   "source": [
    "#### LotArea"
   ]
  },
  {
   "cell_type": "code",
   "execution_count": 339,
   "metadata": {},
   "outputs": [
    {
     "data": {
      "image/png": "[encoded data removed]",
      "text/plain": [
       "<matplotlib.figure.Figure at 0x2925a5a6f60>"
      ]
     },
     "metadata": {},
     "output_type": "display_data"
    }
   ],
   "source": [
    "fig, axes = plt.subplots(1, 2, figsize=(10, 5))\n",
    "\n",
    "sp.stats.probplot(np.exp(df_train[\"LotAreaLog\"]), plot = axes[0])\n",
    "sp.stats.probplot(df_train[\"LotAreaLog\"], plot = axes[1])\n",
    "\n",
    "plt.show()"
   ]
  },
  {
   "cell_type": "markdown",
   "metadata": {},
   "source": [
    "#### FirstFlrSF"
   ]
  },
  {
   "cell_type": "code",
   "execution_count": 340,
   "metadata": {},
   "outputs": [
    {
     "data": {
      "image/png": "[encoded data removed]",
      "text/plain": [
       "<matplotlib.figure.Figure at 0x292604b48d0>"
      ]
     },
     "metadata": {},
     "output_type": "display_data"
    }
   ],
   "source": [
    "fig, axes = plt.subplots(1, 2, figsize=(10, 5))\n",
    "\n",
    "sp.stats.probplot(np.exp(df_train[\"FirstFlrSFLog\"]), plot = axes[0])\n",
    "sp.stats.probplot(df_train[\"FirstFlrSFLog\"], plot = axes[1])\n",
    "\n",
    "plt.show()"
   ]
  },
  {
   "cell_type": "markdown",
   "metadata": {},
   "source": [
    "#### GrLivArea"
   ]
  },
  {
   "cell_type": "code",
   "execution_count": 341,
   "metadata": {},
   "outputs": [
    {
     "data": {
      "image/png": "[encoded data removed]",
      "text/plain": [
       "<matplotlib.figure.Figure at 0x2925d638780>"
      ]
     },
     "metadata": {},
     "output_type": "display_data"
    }
   ],
   "source": [
    "fig, axes = plt.subplots(1, 2, figsize=(10, 5))\n",
    "\n",
    "sp.stats.probplot(np.exp(df_train[\"GrLivAreaLog\"]), plot = axes[0])\n",
    "sp.stats.probplot(df_train[\"GrLivAreaLog\"], plot = axes[1])\n",
    "\n",
    "plt.show()"
   ]
  },
  {
   "cell_type": "markdown",
   "metadata": {},
   "source": [
    "### 0-2-2. Scaling"
   ]
  },
  {
   "cell_type": "code",
   "execution_count": 342,
   "metadata": {},
   "outputs": [
    {
     "name": "stdout",
     "output_type": "stream",
     "text": [
      "32\n"
     ]
    }
   ],
   "source": [
    "#get numeric data and categoric data\n",
    "numerics = ['int16', 'int32', 'int64', 'float16', 'float32', 'float64']\n",
    "numeric_list = list(df_test.select_dtypes(include=numerics).columns)\n",
    "print(len(numeric_list))"
   ]
  },
  {
   "cell_type": "code",
   "execution_count": 343,
   "metadata": {},
   "outputs": [
    {
     "name": "stderr",
     "output_type": "stream",
     "text": [
      "C:\\Users\\magenta_jy\\Anaconda3\\lib\\site-packages\\sklearn\\utils\\validation.py:475: DataConversionWarning: Data with input dtype int64 was converted to float64 by the scale function.\n",
      "  warnings.warn(msg, DataConversionWarning)\n"
     ]
    }
   ],
   "source": [
    "df_scale_numeric = pd.DataFrame()\n",
    "# scale지정\n",
    "for c in numeric_list:\n",
    "    if c == \"Id\":\n",
    "        continue\n",
    "    df_scale_numeric[c+\"Scale\"] = scale(df_train[c])"
   ]
  },
  {
   "cell_type": "markdown",
   "metadata": {},
   "source": [
    "## 0-3. Delete Features"
   ]
  },
  {
   "cell_type": "code",
   "execution_count": 344,
   "metadata": {
    "collapsed": true
   },
   "outputs": [],
   "source": [
    "df_scale_numeric.drop(\"TotalBsmtSFScale\", axis = 1, inplace = True)\n",
    "df_scale_numeric.drop(\"GrLivAreaLogScale\", axis = 1, inplace = True)\n",
    "\n",
    "df_scale_numeric[\"SalePriceLog\"] = df_train[\"SalePriceLog\"]"
   ]
  },
  {
   "cell_type": "markdown",
   "metadata": {},
   "source": [
    "### 0-3-1. VIF"
   ]
  },
  {
   "cell_type": "code",
   "execution_count": 345,
   "metadata": {},
   "outputs": [
    {
     "data": {
      "text/html": [
       "<div>\n",
       "<style>\n",
       "    .dataframe thead tr:only-child th {\n",
       "        text-align: right;\n",
       "    }\n",
       "\n",
       "    .dataframe thead th {\n",
       "        text-align: left;\n",
       "    }\n",
       "\n",
       "    .dataframe tbody tr th {\n",
       "        vertical-align: top;\n",
       "    }\n",
       "</style>\n",
       "<table border=\"1\" class=\"dataframe\">\n",
       "  <thead>\n",
       "    <tr style=\"text-align: right;\">\n",
       "      <th></th>\n",
       "      <th>VIF Factor</th>\n",
       "      <th>features</th>\n",
       "    </tr>\n",
       "  </thead>\n",
       "  <tbody>\n",
       "    <tr>\n",
       "      <th>0</th>\n",
       "      <td>5.636438</td>\n",
       "      <td>GarageAreaScale</td>\n",
       "    </tr>\n",
       "    <tr>\n",
       "      <th>1</th>\n",
       "      <td>5.410893</td>\n",
       "      <td>GarageCarsScale</td>\n",
       "    </tr>\n",
       "    <tr>\n",
       "      <th>2</th>\n",
       "      <td>5.173915</td>\n",
       "      <td>YearBuiltScale</td>\n",
       "    </tr>\n",
       "    <tr>\n",
       "      <th>3</th>\n",
       "      <td>5.111513</td>\n",
       "      <td>SecondFlrSFScale</td>\n",
       "    </tr>\n",
       "    <tr>\n",
       "      <th>4</th>\n",
       "      <td>5.074890</td>\n",
       "      <td>FirstFlrSFLogScale</td>\n",
       "    </tr>\n",
       "    <tr>\n",
       "      <th>5</th>\n",
       "      <td>4.866382</td>\n",
       "      <td>GarageYrBltScale</td>\n",
       "    </tr>\n",
       "    <tr>\n",
       "      <th>6</th>\n",
       "      <td>4.659438</td>\n",
       "      <td>TotRmsAbvGrdScale</td>\n",
       "    </tr>\n",
       "    <tr>\n",
       "      <th>7</th>\n",
       "      <td>4.516974</td>\n",
       "      <td>BsmtFinSF1Scale</td>\n",
       "    </tr>\n",
       "    <tr>\n",
       "      <th>8</th>\n",
       "      <td>3.464309</td>\n",
       "      <td>BsmtUnfSFScale</td>\n",
       "    </tr>\n",
       "    <tr>\n",
       "      <th>9</th>\n",
       "      <td>2.849796</td>\n",
       "      <td>FullBathScale</td>\n",
       "    </tr>\n",
       "    <tr>\n",
       "      <th>10</th>\n",
       "      <td>2.255607</td>\n",
       "      <td>BedroomAbvGrScale</td>\n",
       "    </tr>\n",
       "    <tr>\n",
       "      <th>11</th>\n",
       "      <td>2.186771</td>\n",
       "      <td>BsmtFullBathScale</td>\n",
       "    </tr>\n",
       "    <tr>\n",
       "      <th>12</th>\n",
       "      <td>2.159336</td>\n",
       "      <td>HalfBathScale</td>\n",
       "    </tr>\n",
       "    <tr>\n",
       "      <th>13</th>\n",
       "      <td>2.046117</td>\n",
       "      <td>LotAreaLogScale</td>\n",
       "    </tr>\n",
       "    <tr>\n",
       "      <th>14</th>\n",
       "      <td>1.870366</td>\n",
       "      <td>YearRemodAddScale</td>\n",
       "    </tr>\n",
       "    <tr>\n",
       "      <th>15</th>\n",
       "      <td>1.782133</td>\n",
       "      <td>LotFrontageLogScale</td>\n",
       "    </tr>\n",
       "    <tr>\n",
       "      <th>16</th>\n",
       "      <td>1.543213</td>\n",
       "      <td>FireplacesScale</td>\n",
       "    </tr>\n",
       "    <tr>\n",
       "      <th>17</th>\n",
       "      <td>1.459921</td>\n",
       "      <td>BsmtFinSF2Scale</td>\n",
       "    </tr>\n",
       "    <tr>\n",
       "      <th>18</th>\n",
       "      <td>1.378780</td>\n",
       "      <td>MasVnrAreaScale</td>\n",
       "    </tr>\n",
       "    <tr>\n",
       "      <th>19</th>\n",
       "      <td>1.326213</td>\n",
       "      <td>KitchenAbvGrScale</td>\n",
       "    </tr>\n",
       "    <tr>\n",
       "      <th>20</th>\n",
       "      <td>1.253668</td>\n",
       "      <td>EnclosedPorchScale</td>\n",
       "    </tr>\n",
       "    <tr>\n",
       "      <th>21</th>\n",
       "      <td>1.218459</td>\n",
       "      <td>WoodDeckSFScale</td>\n",
       "    </tr>\n",
       "    <tr>\n",
       "      <th>22</th>\n",
       "      <td>1.209309</td>\n",
       "      <td>OpenPorchSFScale</td>\n",
       "    </tr>\n",
       "    <tr>\n",
       "      <th>23</th>\n",
       "      <td>1.141620</td>\n",
       "      <td>BsmtHalfBathScale</td>\n",
       "    </tr>\n",
       "    <tr>\n",
       "      <th>24</th>\n",
       "      <td>1.109082</td>\n",
       "      <td>ScreenPorchScale</td>\n",
       "    </tr>\n",
       "    <tr>\n",
       "      <th>25</th>\n",
       "      <td>1.097814</td>\n",
       "      <td>LowQualFinSFScale</td>\n",
       "    </tr>\n",
       "    <tr>\n",
       "      <th>26</th>\n",
       "      <td>1.070106</td>\n",
       "      <td>PoolAreaScale</td>\n",
       "    </tr>\n",
       "    <tr>\n",
       "      <th>27</th>\n",
       "      <td>1.022062</td>\n",
       "      <td>MiscValScale</td>\n",
       "    </tr>\n",
       "    <tr>\n",
       "      <th>28</th>\n",
       "      <td>1.021687</td>\n",
       "      <td>ThreeSsnPorchScale</td>\n",
       "    </tr>\n",
       "    <tr>\n",
       "      <th>29</th>\n",
       "      <td>1.000924</td>\n",
       "      <td>SalePriceLog</td>\n",
       "    </tr>\n",
       "  </tbody>\n",
       "</table>\n",
       "</div>"
      ],
      "text/plain": [
       "    VIF Factor             features\n",
       "0     5.636438      GarageAreaScale\n",
       "1     5.410893      GarageCarsScale\n",
       "2     5.173915       YearBuiltScale\n",
       "3     5.111513     SecondFlrSFScale\n",
       "4     5.074890   FirstFlrSFLogScale\n",
       "5     4.866382     GarageYrBltScale\n",
       "6     4.659438    TotRmsAbvGrdScale\n",
       "7     4.516974      BsmtFinSF1Scale\n",
       "8     3.464309       BsmtUnfSFScale\n",
       "9     2.849796        FullBathScale\n",
       "10    2.255607    BedroomAbvGrScale\n",
       "11    2.186771    BsmtFullBathScale\n",
       "12    2.159336        HalfBathScale\n",
       "13    2.046117      LotAreaLogScale\n",
       "14    1.870366    YearRemodAddScale\n",
       "15    1.782133  LotFrontageLogScale\n",
       "16    1.543213      FireplacesScale\n",
       "17    1.459921      BsmtFinSF2Scale\n",
       "18    1.378780      MasVnrAreaScale\n",
       "19    1.326213    KitchenAbvGrScale\n",
       "20    1.253668   EnclosedPorchScale\n",
       "21    1.218459      WoodDeckSFScale\n",
       "22    1.209309     OpenPorchSFScale\n",
       "23    1.141620    BsmtHalfBathScale\n",
       "24    1.109082     ScreenPorchScale\n",
       "25    1.097814    LowQualFinSFScale\n",
       "26    1.070106        PoolAreaScale\n",
       "27    1.022062         MiscValScale\n",
       "28    1.021687   ThreeSsnPorchScale\n",
       "29    1.000924         SalePriceLog"
      ]
     },
     "execution_count": 345,
     "metadata": {},
     "output_type": "execute_result"
    }
   ],
   "source": [
    "df_X0 = df_scale_numeric.copy()\n",
    "df_vif = pd.DataFrame()\n",
    "df_vif[\"VIF Factor\"] = [variance_inflation_factor(df_X0.values, i) for i in range(df_X0.shape[1])]\n",
    "df_vif[\"features\"] = df_X0.columns\n",
    "\n",
    "df_vif.sort_values(by = \"VIF Factor\", ascending = False, inplace=True)\n",
    "df_vif.reset_index(drop=True, inplace=True)\n",
    "df_vif"
   ]
  },
  {
   "cell_type": "markdown",
   "metadata": {},
   "source": [
    "# 1. Cleaning Numeric data"
   ]
  },
  {
   "cell_type": "markdown",
   "metadata": {},
   "source": [
    "## 1-1. Cleaing the numueric data using t-test"
   ]
  },
  {
   "cell_type": "code",
   "execution_count": 346,
   "metadata": {},
   "outputs": [],
   "source": [
    "numeric_list = list(df_scale_numeric.columns)\n",
    "numeric_list.remove(\"SalePriceLog\")"
   ]
  },
  {
   "cell_type": "code",
   "execution_count": 347,
   "metadata": {},
   "outputs": [
    {
     "data": {
      "text/plain": [
       "OpenPorchSFScale       0.977612\n",
       "GarageYrBltScale       0.833024\n",
       "GarageAreaScale        0.708739\n",
       "MiscValScale           0.667096\n",
       "LotFrontageLogScale    0.615688\n",
       "BsmtHalfBathScale      0.321010\n",
       "ThreeSsnPorchScale     0.246489\n",
       "HalfBathScale          0.136053\n",
       "LowQualFinSFScale      0.116791\n",
       "MasVnrAreaScale        0.072925\n",
       "dtype: float64"
      ]
     },
     "execution_count": 347,
     "metadata": {},
     "output_type": "execute_result"
    }
   ],
   "source": [
    "model = sm.OLS.from_formula(makeFormula(\"SalePriceLog\", numeric_list, None, False), df_scale_numeric)\n",
    "result = model.fit()\n",
    "ttest = result.pvalues\n",
    "ttest.sort_values(ascending = False, inplace = True)\n",
    "ttest_list = list(ttest.index)\n",
    "ttest.head(10)"
   ]
  },
  {
   "cell_type": "code",
   "execution_count": 348,
   "metadata": {
    "collapsed": true
   },
   "outputs": [],
   "source": [
    "# cross validation\n",
    "df_y_test = df_scale_numeric[\"SalePriceLog\"]\n",
    "r2_test_list = []\n",
    "\n",
    "for i in range(len(ttest_list)-1):\n",
    "    df_X_test = df_scale_numeric[ttest_list[i:-1]]\n",
    "    model = LinearRegression(fit_intercept = True)\n",
    "    \n",
    "    r2_sum = cross_val_score(model, df_X_test, df_y_test, scoring=\"r2\", cv=5).sum()\n",
    "    r2_test = r2_sum / 5\n",
    "    r2_test_list.append(r2_test)"
   ]
  },
  {
   "cell_type": "code",
   "execution_count": 349,
   "metadata": {},
   "outputs": [
    {
     "data": {
      "text/plain": [
       "array([ 0.81679877,  0.81781677,  0.81804654,  0.82038784,  0.82103218,\n",
       "        0.82180218,  0.82215672,  0.82292433,  0.82273581,  0.8223479 ,\n",
       "        0.82201871,  0.82252138,  0.82204421,  0.8219008 ,  0.82247012,\n",
       "        0.82232128,  0.82171235,  0.82074863,  0.8190438 ,  0.81730951,\n",
       "        0.81311136,  0.81536134,  0.79794047,  0.79380904,  0.78299192,\n",
       "        0.73071933,  0.70285149,  0.57918392,  0.36631022])"
      ]
     },
     "execution_count": 349,
     "metadata": {},
     "output_type": "execute_result"
    }
   ],
   "source": [
    "np.array(r2_test_list)"
   ]
  },
  {
   "cell_type": "code",
   "execution_count": 350,
   "metadata": {},
   "outputs": [
    {
     "data": {
      "text/plain": [
       "(0.8, 0.85)"
      ]
     },
     "execution_count": 350,
     "metadata": {},
     "output_type": "execute_result"
    },
    {
     "data": {
      "image/png": "[encoded data removed]",
      "text/plain": [
       "<matplotlib.figure.Figure at 0x2925b22db38>"
      ]
     },
     "metadata": {},
     "output_type": "display_data"
    }
   ],
   "source": [
    "r2_test_list = np.array(r2_test_list)\n",
    "r2_test_idx = np.where(r2_test_list > 0)\n",
    "plt.plot(np.arange(len(ttest_list)-1)[r2_test_idx[0]], r2_test_list[r2_test_idx[0]])\n",
    "plt.ylim([0.8, 0.85])"
   ]
  },
  {
   "cell_type": "code",
   "execution_count": 351,
   "metadata": {
    "collapsed": true
   },
   "outputs": [],
   "source": [
    "#remove\n",
    "numeric_list = ttest_list[9:-1]"
   ]
  },
  {
   "cell_type": "markdown",
   "metadata": {},
   "source": [
    "# 2. Cleaning the categorical data using one-way-table"
   ]
  },
  {
   "cell_type": "markdown",
   "metadata": {},
   "source": [
    "## 2-1. Make dummy datas"
   ]
  },
  {
   "cell_type": "code",
   "execution_count": 352,
   "metadata": {},
   "outputs": [
    {
     "data": {
      "text/plain": [
       "(48, 318, (1460, 78), (1460, 348))"
      ]
     },
     "execution_count": 352,
     "metadata": {},
     "output_type": "execute_result"
    }
   ],
   "source": [
    "categoric_list = list(df_train.select_dtypes(include = [\"object\"]).columns)\n",
    "categoric_dummy_list = list(df_train_dummy.filter(regex = \"_\").columns)\n",
    "\n",
    "df_scale_cate = pd.concat([df_scale_numeric, df_train[categoric_list]], axis = 1)\n",
    "df_scale_cate_dummy = pd.concat([df_scale_numeric, df_train_dummy[categoric_dummy_list]], axis = 1)\n",
    "\n",
    "len(categoric_list), len(categoric_dummy_list), df_scale_cate.shape, df_scale_cate_dummy.shape "
   ]
  },
  {
   "cell_type": "markdown",
   "metadata": {},
   "source": [
    "## 2-2. One-way table"
   ]
  },
  {
   "cell_type": "code",
   "execution_count": 353,
   "metadata": {},
   "outputs": [
    {
     "name": "stderr",
     "output_type": "stream",
     "text": [
      "C:\\Users\\magenta_jy\\Anaconda3\\lib\\site-packages\\scipy\\stats\\_distn_infrastructure.py:879: RuntimeWarning: invalid value encountered in greater\n",
      "  return (self.a < x) & (x < self.b)\n",
      "C:\\Users\\magenta_jy\\Anaconda3\\lib\\site-packages\\scipy\\stats\\_distn_infrastructure.py:879: RuntimeWarning: invalid value encountered in less\n",
      "  return (self.a < x) & (x < self.b)\n",
      "C:\\Users\\magenta_jy\\Anaconda3\\lib\\site-packages\\scipy\\stats\\_distn_infrastructure.py:1818: RuntimeWarning: invalid value encountered in less_equal\n",
      "  cond2 = cond0 & (x <= self.a)\n"
     ]
    },
    {
     "data": {
      "text/html": [
       "<div>\n",
       "<style>\n",
       "    .dataframe thead tr:only-child th {\n",
       "        text-align: right;\n",
       "    }\n",
       "\n",
       "    .dataframe thead th {\n",
       "        text-align: left;\n",
       "    }\n",
       "\n",
       "    .dataframe tbody tr th {\n",
       "        vertical-align: top;\n",
       "    }\n",
       "</style>\n",
       "<table border=\"1\" class=\"dataframe\">\n",
       "  <thead>\n",
       "    <tr style=\"text-align: right;\">\n",
       "      <th></th>\n",
       "      <th>name</th>\n",
       "      <th>Fvalue</th>\n",
       "    </tr>\n",
       "  </thead>\n",
       "  <tbody>\n",
       "    <tr>\n",
       "      <th>0</th>\n",
       "      <td>Utilities</td>\n",
       "      <td>0.629609</td>\n",
       "    </tr>\n",
       "    <tr>\n",
       "      <th>1</th>\n",
       "      <td>YrSold</td>\n",
       "      <td>0.565639</td>\n",
       "    </tr>\n",
       "    <tr>\n",
       "      <th>2</th>\n",
       "      <td>MoSold</td>\n",
       "      <td>0.449661</td>\n",
       "    </tr>\n",
       "    <tr>\n",
       "      <th>3</th>\n",
       "      <td>LandSlope</td>\n",
       "      <td>0.338834</td>\n",
       "    </tr>\n",
       "    <tr>\n",
       "      <th>4</th>\n",
       "      <td>Street</td>\n",
       "      <td>0.028380</td>\n",
       "    </tr>\n",
       "    <tr>\n",
       "      <th>5</th>\n",
       "      <td>Condition2</td>\n",
       "      <td>0.013820</td>\n",
       "    </tr>\n",
       "    <tr>\n",
       "      <th>6</th>\n",
       "      <td>PoolQC</td>\n",
       "      <td>0.007695</td>\n",
       "    </tr>\n",
       "    <tr>\n",
       "      <th>7</th>\n",
       "      <td>MiscFeature</td>\n",
       "      <td>0.006060</td>\n",
       "    </tr>\n",
       "  </tbody>\n",
       "</table>\n",
       "</div>"
      ],
      "text/plain": [
       "          name    Fvalue\n",
       "0    Utilities  0.629609\n",
       "1       YrSold  0.565639\n",
       "2       MoSold  0.449661\n",
       "3    LandSlope  0.338834\n",
       "4       Street  0.028380\n",
       "5   Condition2  0.013820\n",
       "6       PoolQC  0.007695\n",
       "7  MiscFeature  0.006060"
      ]
     },
     "execution_count": 353,
     "metadata": {},
     "output_type": "execute_result"
    }
   ],
   "source": [
    "df_one_anova_Fvalue = pd.DataFrame(columns = [\"name\", \"Fvalue\"])\n",
    "\n",
    "for idx, c in enumerate(categoric_list):\n",
    "    model = sm.OLS.from_formula(\"SalePriceLog ~ C({})\".format(c), data=df_train)\n",
    "    result = model.fit()\n",
    "    df_tmp=sm.stats.anova_lm(result)\n",
    "    df_one_anova_Fvalue.loc[idx] = {\"name\":c, \"Fvalue\":df_tmp['PR(>F)'][0]}   \n",
    "\n",
    "df_one_anova_Fvalue.sort_values(by=[\"Fvalue\"], ascending=False, inplace=True)\n",
    "df_one_anova_Fvalue.reset_index(drop=True, inplace=True)\n",
    "df_one_anova_Fvalue.head(8)"
   ]
  },
  {
   "cell_type": "code",
   "execution_count": 354,
   "metadata": {
    "collapsed": true
   },
   "outputs": [],
   "source": [
    "over_one_Fvalue_list = list(df_one_anova_Fvalue[:6][\"name\"])\n",
    "# over_one_Fvalue_list"
   ]
  },
  {
   "cell_type": "code",
   "execution_count": 355,
   "metadata": {
    "collapsed": true
   },
   "outputs": [],
   "source": [
    "over_one_Fvalue_dummy_list=[]\n",
    "for c in over_one_Fvalue_list:\n",
    "    reg = c+\"_\"\n",
    "    tmp = list(df_test_dummy.filter(regex = reg))\n",
    "    for a in tmp:\n",
    "        over_one_Fvalue_dummy_list.append(a)\n",
    "        \n",
    "# over_one_Fvalue_dummy_list"
   ]
  },
  {
   "cell_type": "code",
   "execution_count": 356,
   "metadata": {
    "collapsed": true
   },
   "outputs": [],
   "source": [
    "# 제거 high one-way Fvalue\n",
    "for c in over_one_Fvalue_list:\n",
    "    categoric_list.remove(c)\n",
    "    \n",
    "for c in over_one_Fvalue_dummy_list:\n",
    "    categoric_dummy_list.remove(c)"
   ]
  },
  {
   "cell_type": "code",
   "execution_count": 357,
   "metadata": {},
   "outputs": [
    {
     "data": {
      "text/plain": [
       "(42, 6, 286, 32)"
      ]
     },
     "execution_count": 357,
     "metadata": {},
     "output_type": "execute_result"
    }
   ],
   "source": [
    "len(categoric_list), len(over_one_Fvalue_list), len(categoric_dummy_list), len(over_one_Fvalue_dummy_list)"
   ]
  },
  {
   "cell_type": "markdown",
   "metadata": {},
   "source": [
    "## 2-3. Delete categoric data using ANOVA"
   ]
  },
  {
   "cell_type": "code",
   "execution_count": 359,
   "metadata": {},
   "outputs": [
    {
     "name": "stdout",
     "output_type": "stream",
     "text": [
      "['Alley', 'BsmtCond', 'BsmtExposure', 'Condition1', 'Electrical', 'Exterior1st', 'Functional', 'MSZoning', 'Neighborhood', 'OverallCond', 'OverallQual', 'RoofMatl', 'SaleCondition']\n"
     ]
    }
   ],
   "source": [
    "categoric_test_list = categoric_list.copy()\n",
    "isLoop = True\n",
    "\n",
    "while isLoop:\n",
    "    model = sm.OLS.from_formula(makeFormula(\"SalePriceLog\", numeric_list, categoric_test_list, True), df_scale_cate)\n",
    "    result = model.fit()\n",
    "\n",
    "    df_anova_cate = sm.stats.anova_lm(result, typ = 2)\n",
    "    \n",
    "    rm_idx_list = []\n",
    "    max_value = df_anova_cate[\"PR(>F)\"][0]\n",
    "    tmp_idx_list = list(df_anova_cate[df_anova_cate[\"PR(>F)\"] > 0.01].index)\n",
    "    tmp_value_list = list(df_anova_cate[df_anova_cate[\"PR(>F)\"] > 0.01].values)\n",
    "    \n",
    "    for idx in tmp_idx_list:\n",
    "        if re.match(r'C\\((\\w+)\\)\\S*', idx):\n",
    "            tmp_index = re.sub(r\"C\\((\\w+)\\)\\S*\", r\"\\g<1>\", idx)\n",
    "            rm_idx_list.append(tmp_index)\n",
    "    \n",
    "    if len(rm_idx_list) > 0:\n",
    "        for idx in rm_idx_list:\n",
    "            categoric_test_list.remove(idx)\n",
    "            isLoop = True\n",
    "    else:\n",
    "        isLoop = False\n",
    "    \n",
    "print(categoric_test_list)\n",
    "# df_ttest_cate_dummy.sort_values(by = [\"t-value\"], inplace = True)\n",
    "# df_ttest_cate_dummy.reset_index(drop=True, inplace=True)"
   ]
  },
  {
   "cell_type": "code",
   "execution_count": 360,
   "metadata": {},
   "outputs": [
    {
     "data": {
      "text/html": [
       "<div>\n",
       "<style>\n",
       "    .dataframe thead tr:only-child th {\n",
       "        text-align: right;\n",
       "    }\n",
       "\n",
       "    .dataframe thead th {\n",
       "        text-align: left;\n",
       "    }\n",
       "\n",
       "    .dataframe tbody tr th {\n",
       "        vertical-align: top;\n",
       "    }\n",
       "</style>\n",
       "<table border=\"1\" class=\"dataframe\">\n",
       "  <thead>\n",
       "    <tr style=\"text-align: right;\">\n",
       "      <th></th>\n",
       "      <th>sum_sq</th>\n",
       "      <th>df</th>\n",
       "      <th>F</th>\n",
       "      <th>PR(&gt;F)</th>\n",
       "    </tr>\n",
       "  </thead>\n",
       "  <tbody>\n",
       "    <tr>\n",
       "      <th>C(Alley)</th>\n",
       "      <td>29.554029</td>\n",
       "      <td>3.0</td>\n",
       "      <td>816.084885</td>\n",
       "      <td>6.408829e-302</td>\n",
       "    </tr>\n",
       "    <tr>\n",
       "      <th>C(BsmtCond)</th>\n",
       "      <td>3.555941</td>\n",
       "      <td>4.0</td>\n",
       "      <td>73.643509</td>\n",
       "      <td>1.805823e-56</td>\n",
       "    </tr>\n",
       "    <tr>\n",
       "      <th>C(BsmtExposure)</th>\n",
       "      <td>0.184842</td>\n",
       "      <td>4.0</td>\n",
       "      <td>3.828077</td>\n",
       "      <td>4.234195e-03</td>\n",
       "    </tr>\n",
       "    <tr>\n",
       "      <th>C(Condition1)</th>\n",
       "      <td>0.525309</td>\n",
       "      <td>8.0</td>\n",
       "      <td>5.439574</td>\n",
       "      <td>9.088958e-07</td>\n",
       "    </tr>\n",
       "    <tr>\n",
       "      <th>C(Electrical)</th>\n",
       "      <td>2.031209</td>\n",
       "      <td>4.0</td>\n",
       "      <td>42.066313</td>\n",
       "      <td>2.861903e-33</td>\n",
       "    </tr>\n",
       "    <tr>\n",
       "      <th>C(Exterior1st)</th>\n",
       "      <td>0.519860</td>\n",
       "      <td>14.0</td>\n",
       "      <td>3.076082</td>\n",
       "      <td>1.000683e-04</td>\n",
       "    </tr>\n",
       "    <tr>\n",
       "      <th>C(Functional)</th>\n",
       "      <td>0.707204</td>\n",
       "      <td>6.0</td>\n",
       "      <td>9.764128</td>\n",
       "      <td>1.496998e-10</td>\n",
       "    </tr>\n",
       "    <tr>\n",
       "      <th>C(MSZoning)</th>\n",
       "      <td>0.918050</td>\n",
       "      <td>4.0</td>\n",
       "      <td>19.012796</td>\n",
       "      <td>3.196749e-15</td>\n",
       "    </tr>\n",
       "    <tr>\n",
       "      <th>C(Neighborhood)</th>\n",
       "      <td>1.749164</td>\n",
       "      <td>24.0</td>\n",
       "      <td>6.037530</td>\n",
       "      <td>4.007256e-18</td>\n",
       "    </tr>\n",
       "    <tr>\n",
       "      <th>C(OverallCond)</th>\n",
       "      <td>14.147121</td>\n",
       "      <td>8.0</td>\n",
       "      <td>146.493375</td>\n",
       "      <td>6.262589e-177</td>\n",
       "    </tr>\n",
       "    <tr>\n",
       "      <th>C(OverallQual)</th>\n",
       "      <td>2.204970</td>\n",
       "      <td>9.0</td>\n",
       "      <td>20.295518</td>\n",
       "      <td>2.737056e-32</td>\n",
       "    </tr>\n",
       "    <tr>\n",
       "      <th>C(RoofMatl)</th>\n",
       "      <td>2.825800</td>\n",
       "      <td>7.0</td>\n",
       "      <td>33.441309</td>\n",
       "      <td>4.286201e-43</td>\n",
       "    </tr>\n",
       "    <tr>\n",
       "      <th>C(SaleCondition)</th>\n",
       "      <td>0.544815</td>\n",
       "      <td>5.0</td>\n",
       "      <td>9.026495</td>\n",
       "      <td>1.885865e-08</td>\n",
       "    </tr>\n",
       "    <tr>\n",
       "      <th>MasVnrAreaScale</th>\n",
       "      <td>0.000266</td>\n",
       "      <td>1.0</td>\n",
       "      <td>0.022047</td>\n",
       "      <td>8.819841e-01</td>\n",
       "    </tr>\n",
       "    <tr>\n",
       "      <th>TotRmsAbvGrdScale</th>\n",
       "      <td>0.066110</td>\n",
       "      <td>1.0</td>\n",
       "      <td>5.476585</td>\n",
       "      <td>1.941877e-02</td>\n",
       "    </tr>\n",
       "    <tr>\n",
       "      <th>EnclosedPorchScale</th>\n",
       "      <td>0.079546</td>\n",
       "      <td>1.0</td>\n",
       "      <td>6.589557</td>\n",
       "      <td>1.036546e-02</td>\n",
       "    </tr>\n",
       "    <tr>\n",
       "      <th>WoodDeckSFScale</th>\n",
       "      <td>0.088999</td>\n",
       "      <td>1.0</td>\n",
       "      <td>7.372664</td>\n",
       "      <td>6.707214e-03</td>\n",
       "    </tr>\n",
       "    <tr>\n",
       "      <th>BsmtFinSF2Scale</th>\n",
       "      <td>0.211366</td>\n",
       "      <td>1.0</td>\n",
       "      <td>17.509537</td>\n",
       "      <td>3.044521e-05</td>\n",
       "    </tr>\n",
       "    <tr>\n",
       "      <th>BedroomAbvGrScale</th>\n",
       "      <td>0.005435</td>\n",
       "      <td>1.0</td>\n",
       "      <td>0.450196</td>\n",
       "      <td>5.023573e-01</td>\n",
       "    </tr>\n",
       "    <tr>\n",
       "      <th>FullBathScale</th>\n",
       "      <td>0.036553</td>\n",
       "      <td>1.0</td>\n",
       "      <td>3.028043</td>\n",
       "      <td>8.206591e-02</td>\n",
       "    </tr>\n",
       "    <tr>\n",
       "      <th>PoolAreaScale</th>\n",
       "      <td>0.054045</td>\n",
       "      <td>1.0</td>\n",
       "      <td>4.477113</td>\n",
       "      <td>3.453546e-02</td>\n",
       "    </tr>\n",
       "    <tr>\n",
       "      <th>BsmtFullBathScale</th>\n",
       "      <td>0.121423</td>\n",
       "      <td>1.0</td>\n",
       "      <td>10.058713</td>\n",
       "      <td>1.550621e-03</td>\n",
       "    </tr>\n",
       "    <tr>\n",
       "      <th>ScreenPorchScale</th>\n",
       "      <td>0.246971</td>\n",
       "      <td>1.0</td>\n",
       "      <td>20.459073</td>\n",
       "      <td>6.629981e-06</td>\n",
       "    </tr>\n",
       "    <tr>\n",
       "      <th>LotAreaLogScale</th>\n",
       "      <td>0.707484</td>\n",
       "      <td>1.0</td>\n",
       "      <td>58.607964</td>\n",
       "      <td>3.660665e-14</td>\n",
       "    </tr>\n",
       "    <tr>\n",
       "      <th>BsmtUnfSFScale</th>\n",
       "      <td>0.222905</td>\n",
       "      <td>1.0</td>\n",
       "      <td>18.465423</td>\n",
       "      <td>1.854944e-05</td>\n",
       "    </tr>\n",
       "    <tr>\n",
       "      <th>GarageCarsScale</th>\n",
       "      <td>0.944699</td>\n",
       "      <td>1.0</td>\n",
       "      <td>78.258812</td>\n",
       "      <td>2.788533e-18</td>\n",
       "    </tr>\n",
       "    <tr>\n",
       "      <th>BsmtFinSF1Scale</th>\n",
       "      <td>0.692471</td>\n",
       "      <td>1.0</td>\n",
       "      <td>57.364289</td>\n",
       "      <td>6.710447e-14</td>\n",
       "    </tr>\n",
       "    <tr>\n",
       "      <th>FireplacesScale</th>\n",
       "      <td>0.262718</td>\n",
       "      <td>1.0</td>\n",
       "      <td>21.763552</td>\n",
       "      <td>3.392072e-06</td>\n",
       "    </tr>\n",
       "    <tr>\n",
       "      <th>YearBuiltScale</th>\n",
       "      <td>0.986686</td>\n",
       "      <td>1.0</td>\n",
       "      <td>81.737058</td>\n",
       "      <td>5.295235e-19</td>\n",
       "    </tr>\n",
       "    <tr>\n",
       "      <th>KitchenAbvGrScale</th>\n",
       "      <td>0.295549</td>\n",
       "      <td>1.0</td>\n",
       "      <td>24.483254</td>\n",
       "      <td>8.445018e-07</td>\n",
       "    </tr>\n",
       "    <tr>\n",
       "      <th>YearRemodAddScale</th>\n",
       "      <td>0.280902</td>\n",
       "      <td>1.0</td>\n",
       "      <td>23.269907</td>\n",
       "      <td>1.568702e-06</td>\n",
       "    </tr>\n",
       "    <tr>\n",
       "      <th>SecondFlrSFScale</th>\n",
       "      <td>3.075479</td>\n",
       "      <td>1.0</td>\n",
       "      <td>254.772559</td>\n",
       "      <td>1.204167e-52</td>\n",
       "    </tr>\n",
       "    <tr>\n",
       "      <th>FirstFlrSFLogScale</th>\n",
       "      <td>1.798419</td>\n",
       "      <td>1.0</td>\n",
       "      <td>148.980999</td>\n",
       "      <td>1.436955e-32</td>\n",
       "    </tr>\n",
       "    <tr>\n",
       "      <th>Residual</th>\n",
       "      <td>16.199911</td>\n",
       "      <td>1342.0</td>\n",
       "      <td>NaN</td>\n",
       "      <td>NaN</td>\n",
       "    </tr>\n",
       "  </tbody>\n",
       "</table>\n",
       "</div>"
      ],
      "text/plain": [
       "                       sum_sq      df           F         PR(>F)\n",
       "C(Alley)            29.554029     3.0  816.084885  6.408829e-302\n",
       "C(BsmtCond)          3.555941     4.0   73.643509   1.805823e-56\n",
       "C(BsmtExposure)      0.184842     4.0    3.828077   4.234195e-03\n",
       "C(Condition1)        0.525309     8.0    5.439574   9.088958e-07\n",
       "C(Electrical)        2.031209     4.0   42.066313   2.861903e-33\n",
       "C(Exterior1st)       0.519860    14.0    3.076082   1.000683e-04\n",
       "C(Functional)        0.707204     6.0    9.764128   1.496998e-10\n",
       "C(MSZoning)          0.918050     4.0   19.012796   3.196749e-15\n",
       "C(Neighborhood)      1.749164    24.0    6.037530   4.007256e-18\n",
       "C(OverallCond)      14.147121     8.0  146.493375  6.262589e-177\n",
       "C(OverallQual)       2.204970     9.0   20.295518   2.737056e-32\n",
       "C(RoofMatl)          2.825800     7.0   33.441309   4.286201e-43\n",
       "C(SaleCondition)     0.544815     5.0    9.026495   1.885865e-08\n",
       "MasVnrAreaScale      0.000266     1.0    0.022047   8.819841e-01\n",
       "TotRmsAbvGrdScale    0.066110     1.0    5.476585   1.941877e-02\n",
       "EnclosedPorchScale   0.079546     1.0    6.589557   1.036546e-02\n",
       "WoodDeckSFScale      0.088999     1.0    7.372664   6.707214e-03\n",
       "BsmtFinSF2Scale      0.211366     1.0   17.509537   3.044521e-05\n",
       "BedroomAbvGrScale    0.005435     1.0    0.450196   5.023573e-01\n",
       "FullBathScale        0.036553     1.0    3.028043   8.206591e-02\n",
       "PoolAreaScale        0.054045     1.0    4.477113   3.453546e-02\n",
       "BsmtFullBathScale    0.121423     1.0   10.058713   1.550621e-03\n",
       "ScreenPorchScale     0.246971     1.0   20.459073   6.629981e-06\n",
       "LotAreaLogScale      0.707484     1.0   58.607964   3.660665e-14\n",
       "BsmtUnfSFScale       0.222905     1.0   18.465423   1.854944e-05\n",
       "GarageCarsScale      0.944699     1.0   78.258812   2.788533e-18\n",
       "BsmtFinSF1Scale      0.692471     1.0   57.364289   6.710447e-14\n",
       "FireplacesScale      0.262718     1.0   21.763552   3.392072e-06\n",
       "YearBuiltScale       0.986686     1.0   81.737058   5.295235e-19\n",
       "KitchenAbvGrScale    0.295549     1.0   24.483254   8.445018e-07\n",
       "YearRemodAddScale    0.280902     1.0   23.269907   1.568702e-06\n",
       "SecondFlrSFScale     3.075479     1.0  254.772559   1.204167e-52\n",
       "FirstFlrSFLogScale   1.798419     1.0  148.980999   1.436955e-32\n",
       "Residual            16.199911  1342.0         NaN            NaN"
      ]
     },
     "execution_count": 360,
     "metadata": {},
     "output_type": "execute_result"
    }
   ],
   "source": [
    "model = sm.OLS.from_formula(makeFormula(\"SalePriceLog\", numeric_list, categoric_test_list, True), df_scale_cate)\n",
    "result = model.fit()\n",
    "df_anova_cate = sm.stats.anova_lm(result, typ = 2)\n",
    "df_anova_cate"
   ]
  },
  {
   "cell_type": "code",
   "execution_count": null,
   "metadata": {},
   "outputs": [],
   "source": [
    "categoric_dummy_test_list=[]\n",
    "for c in categoric_test_list:\n",
    "    reg = c+\"_\"\n",
    "    tmp = list(df_test_dummy.filter(regex = reg))\n",
    "    for a in tmp:\n",
    "        categoric_dummy_test_list.append(a)"
   ]
  },
  {
   "cell_type": "code",
   "execution_count": null,
   "metadata": {},
   "outputs": [],
   "source": [
    "categoric_list = categoric_test_list.copy()\n",
    "categoric_dummy_list = categoric_dummy_test_list.copy()"
   ]
  },
  {
   "cell_type": "markdown",
   "metadata": {},
   "source": [
    "# 3. Stepwise method : Backward Elimination"
   ]
  },
  {
   "cell_type": "code",
   "execution_count": null,
   "metadata": {
    "collapsed": true
   },
   "outputs": [],
   "source": [
    "numeric_test_list = numeric_list.copy()\n",
    "categoric_dummy_test_list = categoric_dummy_list.copy()"
   ]
  },
  {
   "cell_type": "markdown",
   "metadata": {},
   "source": [
    "## 3-1.한번에 제거"
   ]
  },
  {
   "cell_type": "code",
   "execution_count": null,
   "metadata": {
    "collapsed": true
   },
   "outputs": [],
   "source": [
    "debug = True\n",
    "\n",
    "num_iter = 0\n",
    "isLoop = True\n",
    "\n",
    "while(isLoop):\n",
    "    num_iter += 1\n",
    "\n",
    "    model = sm.OLS.from_formula(makeFormula(\"SalePriceLog\", numeric_test_list + categoric_dummy_test_list, None, True), df_scale_cate_dummy)\n",
    "    result = model.fit()\n",
    "\n",
    "    pvalues = result.pvalues\n",
    "    pvalues.sort_values(ascending = False, inplace = True)\n",
    "    max_value = pvalues.values[0]\n",
    "    rm_index_list = list(pvalues[pvalues > 0.01].index)\n",
    "    rm_value_list = list(pvalues[pvalues > 0.01].values)\n",
    "    \n",
    "    if(len(rm_index_list) > 0):\n",
    "        # C()제거\n",
    "        rm_cate_list = []\n",
    "        rm_numeric_list = []\n",
    "        \n",
    "        for idx in rm_index_list:\n",
    "            if \"_\" in list(idx):\n",
    "                tmp_index = re.sub(r\"C\\((\\w+)\\)\\S*\", r\"\\g<1>\", idx)\n",
    "                rm_cate_list.append(tmp_index)\n",
    "            else:\n",
    "                rm_numeric_list.append(idx)\n",
    "\n",
    "        if len(rm_numeric_list) > 0:\n",
    "            for index in rm_numeric_list:\n",
    "                numeric_test_list.remove(index)\n",
    "        \n",
    "        if len(rm_cate_list) > 0:\n",
    "            for index in rm_cate_list:\n",
    "                categoric_dummy_test_list.remove(index)\n",
    "        \n",
    "        if debug == True:\n",
    "            print(\"{} 단계 제거 목록: \".format(num_iter))\n",
    "            for i in range(len(rm_index_list)):\n",
    "                print(\"({}, {}) \\n\".format(rm_index_list[i], rm_value_list[i]), end=\" \")\n",
    "            print()\n",
    "\n",
    "        isLoop = True\n",
    "    else:\n",
    "        isLoop = False\n",
    "\n",
    "print(\"{} 시도만에 작업 끝!! : 정제된 목록 리스트 \".format(num_iter))\n",
    "print(\"numeric list : \", numeric_test_list)\n",
    "print(\"categoric list : \", categoric_dummy_test_list)\n",
    "print(\"{} {} -> {} {}\".format(len(numeric_list), len(categoric_dummy_list), len(numeric_test_list), len(categoric_dummy_test_list)))"
   ]
  },
  {
   "cell_type": "code",
   "execution_count": null,
   "metadata": {},
   "outputs": [],
   "source": []
  },
  {
   "cell_type": "code",
   "execution_count": null,
   "metadata": {
    "collapsed": true
   },
   "outputs": [],
   "source": [
    "numeric_list = numeric_test_list.copy()\n",
    "categoric_dummy_list = categoric_dummy_test_list.copy()"
   ]
  },
  {
   "cell_type": "markdown",
   "metadata": {},
   "source": [
    "Kaggle : 0.13085"
   ]
  },
  {
   "cell_type": "markdown",
   "metadata": {},
   "source": [
    "# 4. Remove Outlier"
   ]
  },
  {
   "cell_type": "code",
   "execution_count": null,
   "metadata": {},
   "outputs": [],
   "source": [
    "model = sm.OLS.from_formula(makeFormula(\"SalePriceLog\", numeric_list + categoric_dummy_list, None, False), df_scale_cate_dummy)\n",
    "result = model.fit()\n",
    "\n",
    "predict = result.predict(df_scale_cate_dummy).values\n",
    "target = df_scale_cate_dummy[\"SalePriceLog\"].values"
   ]
  },
  {
   "cell_type": "markdown",
   "metadata": {},
   "source": [
    "## 4-1. Leverage - Standard residual"
   ]
  },
  {
   "cell_type": "markdown",
   "metadata": {},
   "source": [
    "### 4-1-1. Leverage"
   ]
  },
  {
   "cell_type": "code",
   "execution_count": null,
   "metadata": {},
   "outputs": [],
   "source": [
    "influence = result.get_influence()\n",
    "hat = influence.hat_matrix_diag\n",
    "plt.figure(figsize=(10,2))\n",
    "plt.stem(hat)\n",
    "plt.show()"
   ]
  },
  {
   "cell_type": "markdown",
   "metadata": {},
   "source": [
    "### 4-1-2. Standard residual"
   ]
  },
  {
   "cell_type": "code",
   "execution_count": null,
   "metadata": {},
   "outputs": [],
   "source": [
    "plt.figure(figsize=(10,2))\n",
    "plt.stem(result.resid_pearson)\n",
    "plt.show()"
   ]
  },
  {
   "cell_type": "markdown",
   "metadata": {},
   "source": [
    "## 4-2. Cook's distance"
   ]
  },
  {
   "cell_type": "code",
   "execution_count": null,
   "metadata": {},
   "outputs": [],
   "source": [
    "influence = result.get_influence()\n",
    "\n",
    "cooks_d2, pvals = influence.cooks_distance\n",
    "fox_cr = 4 / (len(target) -len(numeric_list+categoric_dummy_list) +1 - 1)\n",
    "idx = np.where(cooks_d2 > fox_cr)[0]\n",
    "\n",
    "ax = plt.subplot()\n",
    "\n",
    "plt.scatter(target[idx], predict[idx], s=300, c=\"r\", alpha=0.5)\n",
    "utils.annotate_axes(range(len(idx)), idx, \n",
    "                    list(zip(target[idx], predict[idx])), [(-20, 15)] * len(idx), size=\"small\", ax=ax)\n",
    "\n",
    "plt.scatter(target, predict)\n",
    "\n",
    "outlier_idx_list = idx\n",
    "outlier_cooks_d2_list = cooks_d2[idx]\n",
    "outlier_hat_list = hat[idx]\n",
    "outlier_resid_list = result.resid_pearson[idx]\n",
    "\n",
    "df_cooks_d2 = pd.DataFrame(index = outlier_idx_list, columns = [\"cooks\", \"Levearge\", \"Residual\"])\n",
    "df_cooks_d2[\"cooks\"] = outlier_cooks_d2_list\n",
    "df_cooks_d2[\"Levearge\"] = outlier_hat_list\n",
    "df_cooks_d2[\"Residual\"] = outlier_resid_list"
   ]
  },
  {
   "cell_type": "code",
   "execution_count": null,
   "metadata": {},
   "outputs": [],
   "source": [
    "df_cooks_d2.sort_values(by=[\"cooks\"], ascending = False, inplace = True)\n",
    "df_cooks_d2.head(20)"
   ]
  },
  {
   "cell_type": "markdown",
   "metadata": {},
   "source": [
    "## 3-4. Remove outlier"
   ]
  },
  {
   "cell_type": "code",
   "execution_count": null,
   "metadata": {},
   "outputs": [],
   "source": [
    "df_train_tmp = df_scale_cate_dummy.copy()\n",
    "df_train_tmp.reset_index(inplace = True)"
   ]
  },
  {
   "cell_type": "code",
   "execution_count": null,
   "metadata": {},
   "outputs": [],
   "source": [
    "rmse_list = []\n",
    "r2_list = []"
   ]
  },
  {
   "cell_type": "code",
   "execution_count": null,
   "metadata": {},
   "outputs": [],
   "source": [
    "for idx in list(df_cooks_d2.index[:19]):\n",
    "    df_train_tmp = df_train_tmp[df_train_tmp[\"index\"] != idx]\n",
    "    \n",
    "print(df_train_tmp.shape)\n",
    "print(df_scale_cate_dummy.shape)"
   ]
  },
  {
   "cell_type": "markdown",
   "metadata": {},
   "source": [
    "## 3-5. Compare Models"
   ]
  },
  {
   "cell_type": "code",
   "execution_count": null,
   "metadata": {},
   "outputs": [],
   "source": [
    "model_origin = sm.OLS.from_formula(makeFormula(\"SalePriceLog\", numeric_list + categoric_dummy_list, None, True), df_scale_cate_dummy)\n",
    "result_origin = model_origin.fit()\n",
    "model_remove = sm.OLS.from_formula(makeFormula(\"SalePriceLog\", numeric_list + categoric_dummy_list, None, True), df_train_tmp)\n",
    "result_remove = model_remove.fit()\n",
    "\n",
    "target_origin = df_scale_cate_dummy[\"SalePriceLog\"].values\n",
    "predict_origin = result_origin.predict(df_scale_cate_dummy).values\n",
    "target_remove = df_train_tmp[\"SalePriceLog\"].values\n",
    "predict_remove = result_remove.predict(df_train_tmp).values"
   ]
  },
  {
   "cell_type": "markdown",
   "metadata": {},
   "source": [
    "### 3-5-1. Predict - Target plot"
   ]
  },
  {
   "cell_type": "code",
   "execution_count": null,
   "metadata": {},
   "outputs": [],
   "source": [
    "fig, axes = plt.subplots(1, 2, figsize = (10, 5))\n",
    "axes[0].scatter(target_origin, predict_origin)\n",
    "axes[0].set_title(\"Origin\")\n",
    "axes[1].scatter(target_remove, predict_remove)\n",
    "axes[1].set_title(\"Remove\")"
   ]
  },
  {
   "cell_type": "markdown",
   "metadata": {},
   "source": [
    "### 3-5-2. residual q-q plot"
   ]
  },
  {
   "cell_type": "code",
   "execution_count": null,
   "metadata": {},
   "outputs": [],
   "source": [
    "fig, axes = plt.subplots(1, 2, figsize = (10, 5))\n",
    "sp.stats.probplot(result_origin.resid, plot =axes[0])\n",
    "sp.stats.probplot(result_remove.resid, plot =axes[1])\n",
    "axes[0].set_title(\"Origin\")\n",
    "axes[1].set_title(\"Remove\")\n",
    "plt.show()"
   ]
  },
  {
   "cell_type": "markdown",
   "metadata": {},
   "source": [
    "### 3-5-3. R2 Score"
   ]
  },
  {
   "cell_type": "code",
   "execution_count": null,
   "metadata": {},
   "outputs": [],
   "source": [
    "result_remove.summary()"
   ]
  },
  {
   "cell_type": "code",
   "execution_count": null,
   "metadata": {},
   "outputs": [],
   "source": [
    "print(\"r2 origin : {}, r2 remove : {}\".format(result_origin.rsquared, result_remove.rsquared)) \n",
    "\n",
    "plt.bar([\"r2 origin\", \"r2 remove\"], [result_origin.rsquared, result_remove.rsquared])\n",
    "plt.ylim([0.9, 0.96])"
   ]
  },
  {
   "cell_type": "code",
   "execution_count": null,
   "metadata": {},
   "outputs": [],
   "source": [
    "# copy df_train_tmp\n",
    "df_scale_numeric = df_train_tmp[numeric_list]\n",
    "df_scale_numeric[\"SalePriceLog\"] = df_train_tmp[\"SalePriceLog\"]\n",
    "df_train_dummy = df_train_tmp[categoric_dummy_list]"
   ]
  },
  {
   "cell_type": "code",
   "execution_count": null,
   "metadata": {},
   "outputs": [],
   "source": [
    "# remove하면서 생기는 필요없는 속성 제거\n",
    "rm_categoric_list = [\"RoofMatl_ClyTile\", \"RoofMatl_Membran\", \"RoofMatl_Metal\", \"RoofMatl_Roll\", \"Exterior1st_AsphShn\", \"Exterior1st_BrkComm\", \"Functional_Sev\"]\n",
    "\n",
    "for c in rm_categoric_list:\n",
    "    categoric_dummy_list.remove(c) "
   ]
  },
  {
   "cell_type": "code",
   "execution_count": null,
   "metadata": {},
   "outputs": [],
   "source": [
    "df_scale_numeric.reset_index(drop=True, inplace=True)\n",
    "df_train_dummy.reset_index(drop=True, inplace=True)"
   ]
  },
  {
   "cell_type": "code",
   "execution_count": null,
   "metadata": {},
   "outputs": [],
   "source": [
    "# make all_features\n",
    "df_all_feature = df_scale_numeric.copy()\n",
    "\n",
    "# make all feature dataframe (scale + scale ** 2 + scale ** 3. categoric)\n",
    "df_all_feature = pd.concat([df_scale_numeric[numeric_list], df_train_dummy[categoric_dummy_list]], axis = 1)\n",
    "df_all_feature = pd.concat([df_all_feature, df_scale_numeric[\"SalePriceLog\"]], axis = 1)\n",
    "print(df_all_feature.shape)\n",
    "print(len(numeric_list), len(categoric_dummy_list), 1)"
   ]
  },
  {
   "cell_type": "code",
   "execution_count": null,
   "metadata": {},
   "outputs": [],
   "source": [
    "all_feature_list = list(df_all_feature.columns)\n",
    "all_feature_list.remove(\"SalePriceLog\")"
   ]
  },
  {
   "cell_type": "code",
   "execution_count": null,
   "metadata": {},
   "outputs": [],
   "source": [
    "model = sm.OLS.from_formula(makeFormula(\"SalePriceLog\", all_feature_list, None, False), df_all_feature)\n",
    "result = model.fit()"
   ]
  },
  {
   "cell_type": "markdown",
   "metadata": {},
   "source": [
    "# 5. Multinomial regression - Lasso, Ridge, Elastic Net"
   ]
  },
  {
   "cell_type": "code",
   "execution_count": null,
   "metadata": {},
   "outputs": [],
   "source": [
    "#make square data\n",
    "df_scale_pow2 = pd.DataFrame()\n",
    "for c in numeric_list:\n",
    "    if c == \"SalePriceLog\":\n",
    "        continue \n",
    "    df_scale_pow2[c+\"pow2\"] = df_scale_numeric[c].values ** 2\n",
    "df_scale_pow2.shape\n",
    "\n",
    "df_all_feature = pd.concat([df_all_feature, df_scale_pow2], axis = 1)\n",
    "all_feature_list = list(df_all_feature.columns)\n",
    "all_feature_list.remove(\"SalePriceLog\")"
   ]
  },
  {
   "cell_type": "markdown",
   "metadata": {},
   "source": [
    "## 5-1. Lasso Regression"
   ]
  },
  {
   "cell_type": "code",
   "execution_count": null,
   "metadata": {
    "collapsed": true
   },
   "outputs": [],
   "source": [
    "df_y_lasso = df_all_feature[\"SalePriceLog\"]\n",
    "df_X_lasso = df_all_feature[all_feature_list]"
   ]
  },
  {
   "cell_type": "code",
   "execution_count": null,
   "metadata": {
    "collapsed": true
   },
   "outputs": [],
   "source": [
    "# setting lasso regression\n",
    "alpha_lasso_list = np.logspace(-6, -1, 400)"
   ]
  },
  {
   "cell_type": "code",
   "execution_count": null,
   "metadata": {
    "collapsed": true
   },
   "outputs": [],
   "source": [
    "# params_lasso_list = [] # lasso 확인 시 사용\n",
    "# r2_lasso_list = []\n",
    "# debug = False\n",
    "\n",
    "# for idx, a in enumerate(alpha_lasso_list):\n",
    "#     model = Lasso(alpha=a, fit_intercept = True).fit(df_X_lasso, df_y_lasso)\n",
    "    \n",
    "#     r2_sum = cross_val_score(model, df_X_lasso, df_y_lasso, scoring=\"r2\", cv=3).sum()\n",
    "#     r2_test = r2_sum / 3\n",
    "            \n",
    "#     r2_lasso_list.append(r2_test)\n",
    "#     params_lasso_list.append(model.coef_)\n",
    "    \n",
    "#     if(debug == True):\n",
    "#         print(\"{} 차 시도 !!\".format(idx))\n",
    "#         print(\"r2_lasso : {}\".format(r2_test))\n",
    "#         print()\n",
    "        \n",
    "# print(\"끝!!\")"
   ]
  },
  {
   "cell_type": "code",
   "execution_count": null,
   "metadata": {
    "collapsed": true
   },
   "outputs": [],
   "source": [
    "# # 결과 pickle 저장\n",
    "# pickle.dump(params_lasso_list, open(\"data/lasso_params.p\", \"wb\"))\n",
    "# pickle.dump(r2_lasso_list, open(\"data/lasso_r2.p\", \"wb\"))\n",
    "# pickle.dump(alpha_lasso_list, open(\"data/lasso_alpha.p\", \"wb\"))\n",
    "\n",
    "# 결과 pickle 불러오기\n",
    "params_lasso_list = pickle.load(open(\"data/lasso_params.p\", \"rb\"))\n",
    "r2_lasso_list = pickle.load(open(\"data/lasso_r2.p\", \"rb\"))\n",
    "alpha_lasso_list = pickle.load(open(\"data/lasso_alpha.p\", \"rb\"))"
   ]
  },
  {
   "cell_type": "code",
   "execution_count": null,
   "metadata": {},
   "outputs": [],
   "source": [
    "# plot about weight\n",
    "\n",
    "df_lasso_params = pd.DataFrame(params_lasso_list, index = alpha_lasso_list)\n",
    "flg = plt.figure(figsize = (20, 20))\n",
    "plt.semilogx(df_lasso_params)\n",
    "\n",
    "plt.show()"
   ]
  },
  {
   "cell_type": "code",
   "execution_count": null,
   "metadata": {},
   "outputs": [],
   "source": [
    "# plot r2 score\n",
    "r2_lasso_list = np.array(r2_lasso_list)\n",
    "r2_lasso_idx = np.where(r2_lasso_list > 0.928)\n",
    "r2_lasso_idx[0]\n",
    "\n",
    "plt.plot(r2_lasso_idx[0], r2_lasso_list[r2_lasso_idx])\n",
    "plt.xlabel(\"iter_num\")\n",
    "plt.ylabel(\"test_r2\")"
   ]
  },
  {
   "cell_type": "code",
   "execution_count": null,
   "metadata": {},
   "outputs": [],
   "source": [
    "r2_lasso_list[150:160]"
   ]
  },
  {
   "cell_type": "code",
   "execution_count": null,
   "metadata": {},
   "outputs": [],
   "source": [
    "alpha_lasso_list[152]"
   ]
  },
  {
   "cell_type": "code",
   "execution_count": null,
   "metadata": {},
   "outputs": [],
   "source": [
    "a = np.array(all_feature_list)"
   ]
  },
  {
   "cell_type": "markdown",
   "metadata": {},
   "source": [
    "kaggle : 0.12825"
   ]
  },
  {
   "cell_type": "markdown",
   "metadata": {},
   "source": [
    "## 5-2. Ridge Regression"
   ]
  },
  {
   "cell_type": "code",
   "execution_count": null,
   "metadata": {
    "collapsed": true
   },
   "outputs": [],
   "source": [
    "df_y_ridge = df_all_feature[\"SalePriceLog\"]\n",
    "df_X_ridge = df_all_feature[all_feature_list]"
   ]
  },
  {
   "cell_type": "code",
   "execution_count": null,
   "metadata": {},
   "outputs": [],
   "source": [
    "df_all_feature.shape"
   ]
  },
  {
   "cell_type": "code",
   "execution_count": null,
   "metadata": {
    "collapsed": true
   },
   "outputs": [],
   "source": [
    "# setting Ridge regression\n",
    "alpha_ridge_list = np.logspace(-2, 1, 400)"
   ]
  },
  {
   "cell_type": "code",
   "execution_count": null,
   "metadata": {
    "collapsed": true
   },
   "outputs": [],
   "source": [
    "# params_ridge_list = [] # lasso 확인 시 사용\n",
    "# r2_ridge_list = []\n",
    "# debug = False\n",
    "\n",
    "# for idx, a in enumerate(alpha_ridge_list):\n",
    "#     model = Ridge(alpha=a, fit_intercept = True).fit(df_X_ridge, df_y_ridge)\n",
    "    \n",
    "#     r2_sum = cross_val_score(model, df_X_ridge, df_y_ridge, scoring=\"r2\", cv=3).sum()\n",
    "#     r2_test = r2_sum / 3\n",
    "            \n",
    "#     r2_ridge_list.append(r2_test)\n",
    "#     params_ridge_list.append(model.coef_)\n",
    "    \n",
    "#     if(debug == True):\n",
    "#         print(\"{} 차 시도 !!\".format(idx))\n",
    "#         print(\"r2_ridge : {}\".format(r2_test))\n",
    "#         print()\n",
    "# print(\"끝!!\")"
   ]
  },
  {
   "cell_type": "code",
   "execution_count": null,
   "metadata": {
    "collapsed": true
   },
   "outputs": [],
   "source": [
    "# # 결과 pickle 저장\n",
    "# pickle.dump(params_ridge_list, open(\"data/ridge_params.p\", \"wb\"))\n",
    "# pickle.dump(r2_ridge_list, open(\"data/ridge_r2.p\", \"wb\"))\n",
    "# pickle.dump(alpha_ridge_list, open(\"data/ridge_alpha.p\", \"wb\"))\n",
    "\n",
    "# 결과 pickle 불러오기\n",
    "params_ridge_list = pickle.load(open(\"data/ridge_params.p\", \"rb\"))\n",
    "r2_ridge_list = pickle.load(open(\"data/ridge_r2.p\", \"rb\"))\n",
    "alpha_ridge_list = pickle.load(open(\"data/ridge_alpha.p\", \"rb\"))"
   ]
  },
  {
   "cell_type": "code",
   "execution_count": null,
   "metadata": {},
   "outputs": [],
   "source": [
    "# plot about weight\n",
    "df_ridge_params = pd.DataFrame(params_ridge_list, index = alpha_ridge_list)\n",
    "flg = plt.figure(figsize = (20, 20))\n",
    "plt.semilogx(df_ridge_params)\n",
    "\n",
    "plt.show()"
   ]
  },
  {
   "cell_type": "code",
   "execution_count": null,
   "metadata": {},
   "outputs": [],
   "source": [
    "# plot r2 score\n",
    "r2_ridge_list = np.array(r2_ridge_list)\n",
    "r2_ridge_idx = np.where(r2_ridge_list > 0.9288)\n",
    "r2_ridge_idx[0]\n",
    "\n",
    "plt.plot(r2_ridge_idx[0], r2_ridge_list[r2_ridge_idx])\n",
    "plt.xlabel(\"iter_num\")\n",
    "plt.ylabel(\"test_r2\")"
   ]
  },
  {
   "cell_type": "code",
   "execution_count": null,
   "metadata": {},
   "outputs": [],
   "source": [
    "r2_ridge_list[160:170]"
   ]
  },
  {
   "cell_type": "code",
   "execution_count": null,
   "metadata": {},
   "outputs": [],
   "source": [
    "alpha_ridge_list[165]"
   ]
  },
  {
   "cell_type": "markdown",
   "metadata": {},
   "source": [
    "Kaggle : 0.12528"
   ]
  },
  {
   "cell_type": "markdown",
   "metadata": {},
   "source": [
    "## 5-3 Elastic net Regression"
   ]
  },
  {
   "cell_type": "code",
   "execution_count": null,
   "metadata": {
    "collapsed": true
   },
   "outputs": [],
   "source": [
    "df_y_elastic = df_all_feature[\"SalePriceLog\"]\n",
    "df_X_elastic = df_all_feature[all_feature_list]"
   ]
  },
  {
   "cell_type": "code",
   "execution_count": null,
   "metadata": {
    "collapsed": true
   },
   "outputs": [],
   "source": [
    "# setting ElasticNet regression\n",
    "alpha_elastic_list = np.logspace(-6, -2, 400)"
   ]
  },
  {
   "cell_type": "code",
   "execution_count": null,
   "metadata": {
    "collapsed": true
   },
   "outputs": [],
   "source": [
    "# params_elastic_list = [] # lasso 확인 시 사용\n",
    "# r2_elastic_list = []\n",
    "# debug = False\n",
    "\n",
    "# params_elastic_lists = []\n",
    "# r2_elastic_lists = []\n",
    "\n",
    "\n",
    "# for idx, a in enumerate(alpha_elastic_list):\n",
    "#     model = ElasticNet(alpha=a, l1_ratio=0.3, fit_intercept = True).fit(df_X_elastic, df_y_elastic)\n",
    "\n",
    "#     r2_sum = cross_val_score(model, df_X_elastic, df_y_elastic, scoring=\"r2\", cv=3).sum()\n",
    "#     r2_test = r2_sum / 3\n",
    "\n",
    "#     r2_elastic_list.append(r2_test)\n",
    "#     params_elastic_list.append(model.coef_)\n",
    "\n",
    "#     if debug == True:\n",
    "#         print(\"{} 차 시도 !!\".format(idx))\n",
    "#         print(\"r2_elastic : {}\".format(r2_test))\n",
    "#         print()\n",
    "\n",
    "# params_elastic_lists.append(params_elastic_list)\n",
    "# r2_elastic_lists.append(r2_elastic_list)\n",
    "\n",
    "# print(\"끝!!\")"
   ]
  },
  {
   "cell_type": "code",
   "execution_count": null,
   "metadata": {
    "collapsed": true
   },
   "outputs": [],
   "source": [
    "# # 결과 pickle 저장\n",
    "# pickle.dump(params_elastic_list, open(\"data/elastic_params.p\", \"wb\"))\n",
    "# pickle.dump(r2_elastic_list, open(\"data/elastic_r2.p\", \"wb\"))\n",
    "# pickle.dump(alpha_elastic_list, open(\"data/elastic_alpha.p\", \"wb\"))\n",
    "\n",
    "# 결과 pickle 불러오기\n",
    "params_elastic_list = pickle.load(open(\"data/elastic_params.p\", \"rb\"))\n",
    "r2_elastic_list = pickle.load(open(\"data/elastic_r2.p\", \"rb\"))\n",
    "alpha_elastic_list = pickle.load(open(\"data/elastic_alpha.p\", \"rb\"))"
   ]
  },
  {
   "cell_type": "code",
   "execution_count": null,
   "metadata": {},
   "outputs": [],
   "source": [
    "# plot about weight\n",
    "df_elastic_params = pd.DataFrame(params_elastic_list, index = alpha_elastic_list)\n",
    "flg = plt.figure(figsize = (20, 20))\n",
    "plt.semilogx(df_elastic_params)\n",
    "\n",
    "plt.show()"
   ]
  },
  {
   "cell_type": "code",
   "execution_count": null,
   "metadata": {},
   "outputs": [],
   "source": [
    "# plot r2 score\n",
    "r2_elastic_list = np.array(r2_elastic_list)\n",
    "r2_elastic_idx = np.where(r2_elastic_list > 0.9298)\n",
    "r2_elastic_idx[0]\n",
    "\n",
    "plt.plot(r2_elastic_idx[0], r2_elastic_list[r2_elastic_idx])\n",
    "plt.xlabel(\"iter_num\")\n",
    "plt.ylabel(\"test_r2\")"
   ]
  },
  {
   "cell_type": "code",
   "execution_count": null,
   "metadata": {},
   "outputs": [],
   "source": [
    "r2_elastic_list[219:225]"
   ]
  },
  {
   "cell_type": "code",
   "execution_count": null,
   "metadata": {},
   "outputs": [],
   "source": [
    "alpha_elastic_list[220]"
   ]
  },
  {
   "cell_type": "markdown",
   "metadata": {},
   "source": [
    "alpha = 0.3, Kaggle : 0.12682"
   ]
  },
  {
   "cell_type": "markdown",
   "metadata": {},
   "source": [
    "alpha = 0.5, kaggle :  0.12765"
   ]
  },
  {
   "cell_type": "markdown",
   "metadata": {},
   "source": [
    "### Result\n",
    "Ridge를 사용했을 때 성능 0.12578 -> 0.12528"
   ]
  },
  {
   "cell_type": "code",
   "execution_count": null,
   "metadata": {},
   "outputs": [],
   "source": [
    "#get numeric data and categoric data\n",
    "numerics = ['int16', 'int32', 'int64', 'float16', 'float32', 'float64']\n",
    "tmp_numeric_list = list(df_test.select_dtypes(include=numerics).columns)\n",
    "\n",
    "df_test_scale_numeric = pd.DataFrame()\n",
    "# scale지정\n",
    "for c in tmp_numeric_list:\n",
    "    if c == \"Id\":\n",
    "        continue\n",
    "    df_test_scale_numeric[c+\"Scale\"] = scale(df_test[c])\n",
    "    \n",
    "df_test_scale_numeric.drop(\"TotalBsmtSFScale\", axis = 1, inplace = True)\n",
    "df_test_scale_numeric.drop(\"GrLivAreaLogScale\", axis = 1, inplace = True)\n",
    "\n",
    "df_test_all_feature = pd.concat([df_test_scale_numeric, df_test_dummy[categoric_dummy_list]], axis = 1)\n",
    "df_test_all_feature.shape"
   ]
  },
  {
   "cell_type": "markdown",
   "metadata": {},
   "source": [
    "# 6. Result"
   ]
  },
  {
   "cell_type": "code",
   "execution_count": null,
   "metadata": {},
   "outputs": [],
   "source": [
    "# train, test dataframe 생성\n",
    "df_X_train = df_train_tmp.filter(items = numeric_list + categoric_dummy_list)\n",
    "df_y_train = df_train_tmp[\"SalePriceLog\"]\n",
    "df_X_test = df_test_all_feature.filter(items = numeric_list + categoric_dummy_list)\n",
    "\n",
    "print(df_X_train.shape, df_y_train.shape, df_X_test.shape)"
   ]
  },
  {
   "cell_type": "code",
   "execution_count": null,
   "metadata": {},
   "outputs": [],
   "source": [
    "model = Ridge(alpha = 0.17402093740624849, fit_intercept = True).fit(df_X_train, df_y_train)\n",
    "predict = model.predict(df_X_train)\n",
    "target = df_y_train.values"
   ]
  },
  {
   "cell_type": "markdown",
   "metadata": {},
   "source": [
    "## 6-1. Predict - Target plot"
   ]
  },
  {
   "cell_type": "code",
   "execution_count": null,
   "metadata": {},
   "outputs": [],
   "source": [
    "plt.scatter(target, predict)"
   ]
  },
  {
   "cell_type": "markdown",
   "metadata": {},
   "source": [
    "## 6-2. Residual normality"
   ]
  },
  {
   "cell_type": "code",
   "execution_count": null,
   "metadata": {},
   "outputs": [],
   "source": [
    "residual  = (predict - target)\n",
    "sp.stats.probplot(residual, plot =plt)\n",
    "plt.show()"
   ]
  },
  {
   "cell_type": "markdown",
   "metadata": {},
   "source": [
    "## 6-3. Kaggle score"
   ]
  },
  {
   "cell_type": "markdown",
   "metadata": {},
   "source": [
    "kaggle score : 0.12528"
   ]
  },
  {
   "cell_type": "markdown",
   "metadata": {},
   "source": [
    "![Alt text](kaggle_score.PNG)"
   ]
  },
  {
   "cell_type": "markdown",
   "metadata": {},
   "source": [
    "## Submit"
   ]
  },
  {
   "cell_type": "code",
   "execution_count": null,
   "metadata": {},
   "outputs": [],
   "source": [
    "predict = model.predict(df_X_test)\n",
    "\n",
    "predict = np.exp(predict)\n",
    "print(predict)\n",
    "\n",
    "# sumit 만들기\n",
    "df_sumit = pd.DataFrame(columns = [\"Id\", \"SalePrice\"])\n",
    "df_sumit[\"Id\"] =df_test[\"Id\"]\n",
    "df_sumit[\"SalePrice\"] = predict\n",
    "\n",
    "df_sumit.to_csv(\"submit/submit.csv\", index = False)"
   ]
  }
 ],
 "metadata": {
  "kernelspec": {
   "display_name": "Python 3",
   "language": "python",
   "name": "python3"
  },
  "language_info": {
   "codemirror_mode": {
    "name": "ipython",
    "version": 3
   },
   "file_extension": ".py",
   "mimetype": "text/x-python",
   "name": "python",
   "nbconvert_exporter": "python",
   "pygments_lexer": "ipython3",
   "version": "3.6.3"
  }
 },
 "nbformat": 4,
 "nbformat_minor": 2
}
