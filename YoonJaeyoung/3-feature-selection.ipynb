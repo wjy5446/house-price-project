{
 "cells": [
  {
   "cell_type": "code",
   "execution_count": 6,
   "metadata": {
    "collapsed": true
   },
   "outputs": [],
   "source": [
    "from utils.EDA.analysis import *\n",
    "from utils.EDA.visualize import *"
   ]
  },
  {
   "cell_type": "code",
   "execution_count": 149,
   "metadata": {
    "collapsed": true
   },
   "outputs": [],
   "source": [
    "def LinearReg(data, target, *features):\n",
    "    y = np.array(data[target])[np.newaxis].T\n",
    "\n",
    "    X = np.ones([len(data), 1])\n",
    "    for feature in features:\n",
    "        X = np.hstack((X, np.array(data[feature])[np.newaxis].T))\n",
    "\n",
    "    w, resid, rank, s = np.linalg.lstsq(X, y)\n",
    "\n",
    "    print(\"w{} : {}\".format(\"Const\", w[0]), end = \" \")\n",
    "    \n",
    "    for i in range(len(w)-1):\n",
    "        print(\"w{} : {}\".format(features[i], w[i+1]), end = \" \")\n",
    "        \n",
    "    RMSE = np.sqrt(resid / len(data))\n",
    "    print(\"\\n RMSE : {}\".format(RMSE))\n",
    "    print(\"rank : {}\".format(rank))\n",
    "    \n",
    "    # draw chart\n",
    "    # 예측치와 실제치과의 관계표시(scatter plot)\n",
    "    predict = np.dot(X, w)\n",
    "    \n",
    "    plt.scatter(y, predict)\n",
    "    plt.xlabel(\"target value\")\n",
    "    plt.ylabel(\"predict value\")\n",
    "    plt.xlim(data[target].min(), data[target].max())\n",
    "    plt.show()"
   ]
  },
  {
   "cell_type": "code",
   "execution_count": 2,
   "metadata": {
    "collapsed": true
   },
   "outputs": [],
   "source": [
    "plt.style.use(\"ggplot\")"
   ]
  },
  {
   "cell_type": "code",
   "execution_count": 3,
   "metadata": {
    "collapsed": true
   },
   "outputs": [],
   "source": [
    "df_train = pd.read_csv(\"../data/train.csv\")\n",
    "df_test = pd.read_csv(\"../data/test.csv\")"
   ]
  },
  {
   "cell_type": "code",
   "execution_count": 7,
   "metadata": {
    "collapsed": true
   },
   "outputs": [],
   "source": [
    "# split datas into quantative and categorical\n",
    "list_quanToqual = [\"MSSubClass\", \"OverallQual\", \"OverallCond\", \"BsmtFullBath\", \"BsmtHalfBath\", \"FullBath\", \"HalfBath\", \"BedroomAbvGr\", \"KitchenAbvGr\", \"TotRmsAbvGrd\", \"Fireplaces\", \"GarageCars\", \"MoSold\", \"YrSold\"]\n",
    "\n",
    "df_train_quan = extractQuanFromDF(df_train, 'Id', 'SalePrice', list_quanToqual)\n",
    "df_train_qual = extractQualFromDF(df_train, include_list = list_quanToqual)"
   ]
  },
  {
   "cell_type": "markdown",
   "metadata": {},
   "source": [
    "# LinearRegression"
   ]
  },
  {
   "cell_type": "code",
   "execution_count": 150,
   "metadata": {},
   "outputs": [
    {
     "name": "stdout",
     "output_type": "stream",
     "text": [
      "wConst : [-103449.38429473] wOverallQual : [ 25317.47490684] w1stFlrSF : [ 11.29093204] wGrLivArea : [ 43.38331226] wGarageArea : [ 56.67984178] wTotalBsmtSF : [ 22.95180124] \n",
      " RMSE : [ 39056.72334924]\n",
      "rank : 6\n"
     ]
    },
    {
     "data": {
      "image/png": "[encoded data removed]",
      "text/plain": [
       "<matplotlib.figure.Figure at 0x206f5637ba8>"
      ]
     },
     "metadata": {},
     "output_type": "display_data"
    }
   ],
   "source": [
    "LinearReg(df_train, \"SalePrice\", \"OverallQual\", \"1stFlrSF\", \"GrLivArea\", \"GarageArea\", \"TotalBsmtSF\")"
   ]
  },
  {
   "cell_type": "markdown",
   "metadata": {},
   "source": [
    "523, 1298"
   ]
  },
  {
   "cell_type": "markdown",
   "metadata": {
    "collapsed": true
   },
   "source": [
    "# cross validation"
   ]
  },
  {
   "cell_type": "code",
   "execution_count": 147,
   "metadata": {
    "collapsed": true
   },
   "outputs": [],
   "source": [
    "def crossValidation(num, data, target, *features):\n",
    "    rmses = []\n",
    "    \n",
    "    # 데이터프래임에서 target과 features 추출 \n",
    "    data = data[[*features, target]]\n",
    "    \n",
    "    # 데이터프래임 num 갯수로 분할\n",
    "    remain = data.shape[0] % num\n",
    "    data_set = np.split(data.values[:data.shape[0]-remain], num)\n",
    "    data_set[num-1] = np.vstack([data_set[num-1], data.values[data.shape[0]-remain:]])\n",
    "    \n",
    "    # 각 fold로 계산하여 rmse를 계산\n",
    "    for i in range(num):\n",
    "        \n",
    "        # test_set과 train_set 제작\n",
    "        test_set = data_set[i] # test set \n",
    "\n",
    "        if (i==0): # train set\n",
    "            train_set = data_set[1:]\n",
    "        elif (i==9):\n",
    "            train_set = data_set[:num-1]\n",
    "        else:\n",
    "            train_set = data_set[:i]\n",
    "            train_set += data_set[i+1:]\n",
    "        train_set = np.concatenate(train_set)\n",
    "        \n",
    "        # train_set으로 linear regression 모델 훈련\n",
    "        y = train_set[:, -1][np.newaxis].T\n",
    "        X = np.ones([train_set.shape[0], 1])\n",
    "        X = np.hstack((X, train_set[:, :train_set.shape[1]-1]))\n",
    "        \n",
    "        w, resid, rank, s = np.linalg.lstsq(X, y)\n",
    "        \n",
    "        # test_set으로 predict 계산 및 target 생성\n",
    "        test_X = np.hstack((np.ones([test_set.shape[0], 1]), test_set[:, :test_set.shape[1]-1]))\n",
    "        predict_test = np.dot(test_X, w).T[0]\n",
    "        target_test = test_set[:,-1]\n",
    "        \n",
    "        # rmse 계산\n",
    "        rss = np.square(predict_test - target_test).sum()\n",
    "        rmses.append(np.sqrt(rss / test_X.shape[0]))    \n",
    "    \n",
    "    # rmse_avr 계산\n",
    "    rmse_avr = sum(rmses) / num\n",
    "    \n",
    "    # print rmse\n",
    "    for idx, rmse in enumerate(rmses):\n",
    "        print(\"test{} : {:1.2f}\".format(idx, rmse), end = \" \")\n",
    "    \n",
    "    print(\"\\n average of rmse : {:1.2f}\".format(rmse_avr))\n",
    "        "
   ]
  },
  {
   "cell_type": "code",
   "execution_count": 148,
   "metadata": {},
   "outputs": [
    {
     "name": "stdout",
     "output_type": "stream",
     "text": [
      "test0 : 37833.42 test1 : 42833.64 test2 : 37199.61 test3 : 48471.78 test4 : 35416.84 test5 : 55872.03 test6 : 44496.32 test7 : 40347.23 test8 : 54162.22 test9 : 45906.95 test10 : 37885.38 \n",
      " average of rmse : 43675.04\n"
     ]
    }
   ],
   "source": [
    "crossValidation(11, df_train, \"SalePrice\", \"Id\", \"OverallQual\", \"1stFlrSF\")"
   ]
  }
 ],
 "metadata": {
  "kernelspec": {
   "display_name": "Python 3",
   "language": "python",
   "name": "python3"
  },
  "language_info": {
   "codemirror_mode": {
    "name": "ipython",
    "version": 3
   },
   "file_extension": ".py",
   "mimetype": "text/x-python",
   "name": "python",
   "nbconvert_exporter": "python",
   "pygments_lexer": "ipython3",
   "version": "3.6.3"
  }
 },
 "nbformat": 4,
 "nbformat_minor": 2
}
