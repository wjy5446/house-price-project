{
 "cells": [
  {
   "cell_type": "code",
   "execution_count": 9,
   "metadata": {
    "collapsed": true
   },
   "outputs": [],
   "source": [
    "from utils.EDA.analysis import *\n",
    "from utils.EDA.visualize import *"
   ]
  },
  {
   "cell_type": "code",
   "execution_count": 10,
   "metadata": {
    "collapsed": true
   },
   "outputs": [],
   "source": [
    "import statsmodels.api as sm"
   ]
  },
  {
   "cell_type": "code",
   "execution_count": 11,
   "metadata": {
    "collapsed": true
   },
   "outputs": [],
   "source": [
    "def LinearReg(data, target, *features):\n",
    "    y = np.array(data[target])[np.newaxis].T\n",
    "\n",
    "    X = np.ones([len(data), 1])\n",
    "    for feature in features:\n",
    "        X = np.hstack((X, np.array(data[feature])[np.newaxis].T))\n",
    "\n",
    "    w, resid, rank, s = np.linalg.lstsq(X, y)\n",
    "\n",
    "    print(\"w{} : {}\".format(\"Const\", w[0]), end = \" \")\n",
    "    \n",
    "    for i in range(len(w)-1):\n",
    "        print(\"w{} : {}\".format(features[i], w[i+1]), end = \" \")\n",
    "        \n",
    "    RMSE = np.sqrt(resid / len(data))\n",
    "    print(\"\\n RMSE : {}\".format(RMSE))\n",
    "    print(\"rank : {}\".format(rank))\n",
    "    \n",
    "    print(\"cross validation : {}\".format(crossValidation(10, data, target, *features)))\n",
    "    \n",
    "    # draw chart\n",
    "    # 예측치와 실제치과의 관계표시(scatter plot)\n",
    "    predict = np.dot(X, w)\n",
    "    \n",
    "    plt.scatter(y, predict)\n",
    "    plt.xlabel(\"target value\")\n",
    "    plt.ylabel(\"predict value\")\n",
    "    plt.xlim(data[target].min(), data[target].max())\n",
    "    plt.show()"
   ]
  },
  {
   "cell_type": "code",
   "execution_count": 12,
   "metadata": {
    "collapsed": true
   },
   "outputs": [],
   "source": [
    "def crossValidation(num, data, target, *features):\n",
    "    rmses = []\n",
    "    \n",
    "    # 데이터프래임에서 target과 features 추출 \n",
    "    data = data[[*features, target]]\n",
    "    \n",
    "    # 데이터프래임 num 갯수로 분할\n",
    "    remain = data.shape[0] % num\n",
    "    data_set = np.split(data.values[:data.shape[0]-remain], num)\n",
    "    data_set[num-1] = np.vstack([data_set[num-1], data.values[data.shape[0]-remain:]])\n",
    "    \n",
    "    # 각 fold로 계산하여 rmse를 계산\n",
    "    for i in range(num):\n",
    "        \n",
    "        # test_set과 train_set 제작\n",
    "        test_set = data_set[i] # test set \n",
    "\n",
    "        if (i==0): # train set\n",
    "            train_set = data_set[1:]\n",
    "        elif (i==9):\n",
    "            train_set = data_set[:num-1]\n",
    "        else:\n",
    "            train_set = data_set[:i]\n",
    "            train_set += data_set[i+1:]\n",
    "        train_set = np.concatenate(train_set)\n",
    "        \n",
    "        # train_set으로 linear regression 모델 훈련\n",
    "        y = train_set[:, -1][np.newaxis].T\n",
    "        X = np.ones([train_set.shape[0], 1])\n",
    "        X = np.hstack((X, train_set[:, :train_set.shape[1]-1]))\n",
    "        \n",
    "        w, resid, rank, s = np.linalg.lstsq(X, y)\n",
    "        \n",
    "        # test_set으로 predict 계산 및 target 생성\n",
    "        test_X = np.hstack((np.ones([test_set.shape[0], 1]), test_set[:, :test_set.shape[1]-1]))\n",
    "        predict_test = np.dot(test_X, w).T[0]\n",
    "        target_test = test_set[:,-1]\n",
    "        \n",
    "        # rmse 계산\n",
    "        rss = np.square(predict_test - target_test).sum()\n",
    "        rmses.append(np.sqrt(rss / test_X.shape[0]))    \n",
    "    \n",
    "    # rmse_avr 계산\n",
    "    rmse_avr = sum(rmses) / num\n",
    "    \n",
    "    # print rmse\n",
    "#     for idx, rmse in enumerate(rmses):\n",
    "#         print(\"test{} : {:1.2f}\".format(idx, rmse), end = \" \")\n",
    "    \n",
    "#     print(\"\\n average of rmse : {:1.2f}\".format(rmse_avr))\n",
    "    return rmse_avr\n",
    "        "
   ]
  },
  {
   "cell_type": "code",
   "execution_count": 13,
   "metadata": {
    "collapsed": true
   },
   "outputs": [],
   "source": [
    "def LinearRegSM(data, target, *features):\n",
    "    y = np.array(data[target])[np.newaxis].T\n",
    "    \n",
    "    #data[*features]\n",
    "    dfX = sm.add_constant(data[[*features]])\n",
    "    dfy = data[target]\n",
    "    \n",
    "    model = sm.OLS(dfy, dfX)\n",
    "    result = model.fit()\n",
    "    print(result.summary())\n",
    "    return result"
   ]
  },
  {
   "cell_type": "code",
   "execution_count": 14,
   "metadata": {
    "collapsed": true
   },
   "outputs": [],
   "source": [
    "plt.style.use(\"ggplot\")"
   ]
  },
  {
   "cell_type": "code",
   "execution_count": 15,
   "metadata": {
    "collapsed": true
   },
   "outputs": [],
   "source": [
    "df_train = pd.read_csv(\"../data/train_no_missing.csv\")\n",
    "df_test = pd.read_csv(\"../data/test.csv\")"
   ]
  },
  {
   "cell_type": "markdown",
   "metadata": {},
   "source": [
    "# LinearRegression"
   ]
  },
  {
   "cell_type": "markdown",
   "metadata": {},
   "source": [
    "523, 1298"
   ]
  },
  {
   "cell_type": "markdown",
   "metadata": {},
   "source": [
    "### 실험"
   ]
  },
  {
   "cell_type": "code",
   "execution_count": 16,
   "metadata": {},
   "outputs": [
    {
     "ename": "NameError",
     "evalue": "name 'top_cor' is not defined",
     "output_type": "error",
     "traceback": [
      "\u001b[1;31m---------------------------------------------------------------------------\u001b[0m",
      "\u001b[1;31mNameError\u001b[0m                                 Traceback (most recent call last)",
      "\u001b[1;32m<ipython-input-16-7454f07beebd>\u001b[0m in \u001b[0;36m<module>\u001b[1;34m()\u001b[0m\n\u001b[1;32m----> 1\u001b[1;33m \u001b[0mget_top_abs_cor\u001b[0m\u001b[1;33m(\u001b[0m\u001b[0mdf_train\u001b[0m\u001b[1;33m[\u001b[0m\u001b[0mtop_cor\u001b[0m\u001b[1;33m]\u001b[0m\u001b[1;33m,\u001b[0m \u001b[1;36m10\u001b[0m\u001b[1;33m)\u001b[0m\u001b[1;33m\u001b[0m\u001b[0m\n\u001b[0m",
      "\u001b[1;31mNameError\u001b[0m: name 'top_cor' is not defined"
     ]
    }
   ],
   "source": [
    "get_top_abs_cor(df_train[top_cor], 10)"
   ]
  },
  {
   "cell_type": "markdown",
   "metadata": {},
   "source": [
    "연관이 있는 값인 (GarageCars, GarageArea), (GrLivArea, TotRmsAbvGrd), (TotalBsmtSF, 1stFlrSF) 에서 \"GarageArea\", \"TotRmsAbvGrd\", \"1stFlrSF\" 제거\n",
    "37686 -> 37591 로 감소"
   ]
  },
  {
   "cell_type": "markdown",
   "metadata": {},
   "source": [
    "# Logarithm"
   ]
  },
  {
   "cell_type": "markdown",
   "metadata": {},
   "source": [
    "SalePrice"
   ]
  },
  {
   "cell_type": "code",
   "execution_count": null,
   "metadata": {},
   "outputs": [],
   "source": [
    "log_SalePrice = np.log(df_train[\"SalePrice\"])\n",
    "fig, axes = plt.subplots(1, 2, figsize=(10, 5))\n",
    "\n",
    "sp.stats.probplot(df_train[\"SalePrice\"], plot = axes[0])\n",
    "sp.stats.probplot(log_SalePrice, plot = axes[1])"
   ]
  },
  {
   "cell_type": "markdown",
   "metadata": {},
   "source": [
    "LotFrontage(선택)"
   ]
  },
  {
   "cell_type": "code",
   "execution_count": null,
   "metadata": {},
   "outputs": [],
   "source": [
    "log_Frontage = np.log(df_train[\"LotFrontage\"])\n",
    "fig, axes = plt.subplots(1, 2, figsize=(10, 5))\n",
    "\n",
    "sp.stats.probplot(df_train[\"LotFrontage\"], plot = axes[0])\n",
    "sp.stats.probplot(log_Frontage, plot = axes[1])"
   ]
  },
  {
   "cell_type": "markdown",
   "metadata": {},
   "source": [
    "LotArea(선택)"
   ]
  },
  {
   "cell_type": "code",
   "execution_count": null,
   "metadata": {},
   "outputs": [],
   "source": [
    "log_LotArea = np.log(df_train[\"LotArea\"])\n",
    "fig, axes = plt.subplots(1, 2, figsize=(10, 5))\n",
    "\n",
    "sp.stats.probplot(df_train[\"LotArea\"], plot = axes[0])\n",
    "sp.stats.probplot(log_LotArea, plot = axes[1])"
   ]
  },
  {
   "cell_type": "markdown",
   "metadata": {},
   "source": [
    "1stFlrSF(선택)"
   ]
  },
  {
   "cell_type": "code",
   "execution_count": null,
   "metadata": {},
   "outputs": [],
   "source": [
    "log_1stFlrSF = np.log(df_train[\"FirstFlrSF\"])\n",
    "fig, axes = plt.subplots(1, 2, figsize=(10, 5))\n",
    "\n",
    "sp.stats.probplot(df_train[\"FirstFlrSF\"], plot = axes[0])\n",
    "sp.stats.probplot(log_1stFlrSF, plot = axes[1])"
   ]
  },
  {
   "cell_type": "markdown",
   "metadata": {},
   "source": [
    "GrLivArea(선택)"
   ]
  },
  {
   "cell_type": "code",
   "execution_count": null,
   "metadata": {},
   "outputs": [],
   "source": [
    "log_GrLivArea = np.log(df_train[\"GrLivArea\"])\n",
    "fig, axes = plt.subplots(1, 2, figsize=(10, 5))\n",
    "\n",
    "sp.stats.probplot(df_train[\"GrLivArea\"], plot = axes[0])\n",
    "sp.stats.probplot(log_GrLivArea, plot = axes[1])"
   ]
  },
  {
   "cell_type": "code",
   "execution_count": null,
   "metadata": {},
   "outputs": [],
   "source": [
    "list(top_cor)"
   ]
  },
  {
   "cell_type": "code",
   "execution_count": null,
   "metadata": {},
   "outputs": [],
   "source": [
    "# log 사용(SalePrice, GrLivArea)\n",
    "result = LinearReg(df_new_train, \"log_SalePrice\", \n",
    "                   'OverallQual',\n",
    "                   'log_GrLivArea',\n",
    "                   'GarageArea',\n",
    "                   '1stFlrSF',\n",
    "                   'FullBath',\n",
    "                   'YearBuilt',\n",
    "                   'YearRemodAdd')\n",
    "# 0.17 -> 0.16"
   ]
  },
  {
   "cell_type": "markdown",
   "metadata": {},
   "source": [
    "# make new features about SF"
   ]
  },
  {
   "cell_type": "code",
   "execution_count": null,
   "metadata": {},
   "outputs": [],
   "source": [
    "df_train.filter(regex = \"SF\").tail()"
   ]
  },
  {
   "cell_type": "code",
   "execution_count": null,
   "metadata": {
    "collapsed": true
   },
   "outputs": [],
   "source": [
    "# make Area"
   ]
  },
  {
   "cell_type": "code",
   "execution_count": null,
   "metadata": {
    "collapsed": true
   },
   "outputs": [],
   "source": [
    "df_new_train[\"TotalArea\"] = df_train[[\"1stFlrSF\", \"2ndFlrSF\", \"TotalBsmtSF\", \"LowQualFinSF\"]].sum(axis = 1)"
   ]
  },
  {
   "cell_type": "code",
   "execution_count": null,
   "metadata": {},
   "outputs": [],
   "source": [
    "sum(df_new_train[\"TotalArea\"] == 0)"
   ]
  },
  {
   "cell_type": "code",
   "execution_count": null,
   "metadata": {
    "collapsed": true
   },
   "outputs": [],
   "source": [
    "# make porch Area"
   ]
  },
  {
   "cell_type": "code",
   "execution_count": null,
   "metadata": {},
   "outputs": [],
   "source": [
    "df_new_train.filter(regex = \"Porch\").columns"
   ]
  },
  {
   "cell_type": "code",
   "execution_count": null,
   "metadata": {
    "collapsed": true
   },
   "outputs": [],
   "source": [
    "df_new_train[\"PorchArea\"] = df_new_train[[\"OpenPorchSF\", \"EnclosedPorch\", \"3SsnPorch\", \"ScreenPorch\"]].sum(axis = 1)"
   ]
  },
  {
   "cell_type": "code",
   "execution_count": null,
   "metadata": {},
   "outputs": [],
   "source": [
    "sum(df_new_train[\"PorchArea\"] == 0)"
   ]
  },
  {
   "cell_type": "code",
   "execution_count": null,
   "metadata": {
    "collapsed": true
   },
   "outputs": [],
   "source": [
    "# salesPrice와의 상관관계"
   ]
  },
  {
   "cell_type": "code",
   "execution_count": null,
   "metadata": {},
   "outputs": [],
   "source": [
    "df_new_train[[\"SalePrice\", \"TotalArea\", \"PorchArea\"]].corr()"
   ]
  },
  {
   "cell_type": "code",
   "execution_count": null,
   "metadata": {},
   "outputs": [],
   "source": [
    "# TotalArea는 1SF보다 더 상관관계가 많다. 그래서 TotalArea 추가\n",
    "cor = df_train[df_new_train].corr()\n",
    "cor[\"GrLivArea\"].sort_values(ascending = False)[:10]"
   ]
  },
  {
   "cell_type": "code",
   "execution_count": null,
   "metadata": {
    "collapsed": true
   },
   "outputs": [],
   "source": [
    "# totalArea 분석"
   ]
  },
  {
   "cell_type": "code",
   "execution_count": null,
   "metadata": {},
   "outputs": [],
   "source": [
    "sns.distplot(df_new_train[\"TotalArea\"])\n",
    "df_new_train[\"TotalArea\"].skew()"
   ]
  },
  {
   "cell_type": "code",
   "execution_count": null,
   "metadata": {},
   "outputs": [],
   "source": [
    "fig, axes = plt.subplots(1, 2, figsize=(10, 5))\n",
    "\n",
    "sp.stats.probplot(df_new_train[\"TotalArea\"], plot = axes[0])\n",
    "sp.stats.probplot(np.log(df_new_train[\"TotalArea\"]), plot = axes[1])\n",
    "# 사용하지 않음"
   ]
  },
  {
   "cell_type": "code",
   "execution_count": null,
   "metadata": {
    "collapsed": true
   },
   "outputs": [],
   "source": [
    "cor_top = df_new_train[[\"log_SalePrice\",\n",
    "              'OverallQual',\n",
    "              'log_GrLivArea',\n",
    "              'GarageArea',\n",
    "              '1stFlrSF',\n",
    "              'FullBath',\n",
    "              'YearBuilt',\n",
    "              'YearRemodAdd', \"TotalArea\"]].corr()"
   ]
  },
  {
   "cell_type": "code",
   "execution_count": null,
   "metadata": {},
   "outputs": [],
   "source": [
    "cor_top[\"TotalArea\"].sort_values(ascending = False)"
   ]
  },
  {
   "cell_type": "code",
   "execution_count": null,
   "metadata": {},
   "outputs": [],
   "source": [
    "#log 사용(SalePrice, GrLivArea)\n",
    "result = LinearReg(df_new_train, \"log_SalePrice\",\n",
    "              'OverallQual',\n",
    "              'log_GrLivArea',\n",
    "              'GarageArea',\n",
    "              'FullBath',\n",
    "              'YearBuilt',\n",
    "              'YearRemodAdd', \n",
    "              \"TotalArea\" )\n",
    "# 0.167 -> 0.168"
   ]
  },
  {
   "cell_type": "code",
   "execution_count": null,
   "metadata": {},
   "outputs": [],
   "source": [
    "#log 사용(SalePrice, GrLivArea)\n",
    "result = LinearRegSM(df_new_train, \"log_SalePrice\",\n",
    "              'OverallQual',\n",
    "              'log_GrLivArea',\n",
    "              'GarageArea',\n",
    "              'FullBath',\n",
    "              'YearBuilt',\n",
    "              'YearRemodAdd', \n",
    "              \"TotalArea\",\n",
    "                    *neibor)\n",
    "# 0.167 -> 0.168"
   ]
  },
  {
   "cell_type": "code",
   "execution_count": null,
   "metadata": {},
   "outputs": [],
   "source": [
    "neibor = df_new_train.filter(regex=\"Neighbor\").columns"
   ]
  },
  {
   "cell_type": "code",
   "execution_count": null,
   "metadata": {},
   "outputs": [],
   "source": [
    "#log 사용(SalePrice, GrLivArea)\n",
    "result = LinearRegSM(df_new_train, \n",
    "                    \"log_SalePrice\", *neibor)\n",
    "# 0.167 -> 0.168"
   ]
  }
 ],
 "metadata": {
  "kernelspec": {
   "display_name": "Python 3",
   "language": "python",
   "name": "python3"
  },
  "language_info": {
   "codemirror_mode": {
    "name": "ipython",
    "version": 3
   },
   "file_extension": ".py",
   "mimetype": "text/x-python",
   "name": "python",
   "nbconvert_exporter": "python",
   "pygments_lexer": "ipython3",
   "version": "3.6.3"
  }
 },
 "nbformat": 4,
 "nbformat_minor": 2
}
