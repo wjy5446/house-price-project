{
 "cells": [
  {
   "cell_type": "markdown",
   "metadata": {},
   "source": [
    "# Missing value treatment"
   ]
  },
  {
   "cell_type": "code",
   "execution_count": 1,
   "metadata": {
    "collapsed": true
   },
   "outputs": [],
   "source": [
    "df_train = pd.read_csv(\"../../data/train.csv\")"
   ]
  },
  {
   "cell_type": "markdown",
   "metadata": {},
   "source": [
    "## 1. Electrical"
   ]
  },
  {
   "cell_type": "markdown",
   "metadata": {},
   "source": [
    "** Electrical은 데이터 하나가 누락되어 있다. **"
   ]
  },
  {
   "cell_type": "markdown",
   "metadata": {},
   "source": [
    "##### 결측값 분석"
   ]
  },
  {
   "cell_type": "code",
   "execution_count": 2,
   "metadata": {},
   "outputs": [
    {
     "data": {
      "text/plain": [
       "1379    167500\n",
       "Name: SalePrice, dtype: int64"
      ]
     },
     "execution_count": 2,
     "metadata": {},
     "output_type": "execute_result"
    }
   ],
   "source": [
    "df_train[df_train[\"Electrical\"].isnull()][\"SalePrice\"]"
   ]
  },
  {
   "cell_type": "code",
   "execution_count": 3,
   "metadata": {},
   "outputs": [
    {
     "data": {
      "text/plain": [
       "<matplotlib.axes._subplots.AxesSubplot at 0x18eb3ba1048>"
      ]
     },
     "execution_count": 3,
     "metadata": {},
     "output_type": "execute_result"
    },
    {
     "data": {
      "image/png": "[encoded data removed]",
      "text/plain": [
       "<matplotlib.figure.Figure at 0x18eb30f3390>"
      ]
     },
     "metadata": {},
     "output_type": "display_data"
    }
   ],
   "source": [
    "sns.countplot(df_train[\"Electrical\"])"
   ]
  },
  {
   "cell_type": "code",
   "execution_count": 4,
   "metadata": {},
   "outputs": [
    {
     "data": {
      "text/plain": [
       "<matplotlib.axes._subplots.AxesSubplot at 0x18eb3486da0>"
      ]
     },
     "execution_count": 4,
     "metadata": {},
     "output_type": "execute_result"
    },
    {
     "data": {
      "image/png": "[encoded data removed]",
      "text/plain": [
       "<matplotlib.figure.Figure at 0x18eb3475c88>"
      ]
     },
     "metadata": {},
     "output_type": "display_data"
    }
   ],
   "source": [
    "sns.boxplot(x = df_train[\"Electrical\"], y = df_train[\"SalePrice\"])"
   ]
  },
  {
   "cell_type": "code",
   "execution_count": 5,
   "metadata": {},
   "outputs": [
    {
     "data": {
      "text/html": [
       "<div>\n",
       "<style>\n",
       "    .dataframe thead tr:only-child th {\n",
       "        text-align: right;\n",
       "    }\n",
       "\n",
       "    .dataframe thead th {\n",
       "        text-align: left;\n",
       "    }\n",
       "\n",
       "    .dataframe tbody tr th {\n",
       "        vertical-align: top;\n",
       "    }\n",
       "</style>\n",
       "<table border=\"1\" class=\"dataframe\">\n",
       "  <thead>\n",
       "    <tr style=\"text-align: right;\">\n",
       "      <th></th>\n",
       "      <th>mean</th>\n",
       "      <th>std</th>\n",
       "      <th>median</th>\n",
       "      <th>max</th>\n",
       "      <th>min</th>\n",
       "    </tr>\n",
       "    <tr>\n",
       "      <th>Electrical</th>\n",
       "      <th></th>\n",
       "      <th></th>\n",
       "      <th></th>\n",
       "      <th></th>\n",
       "      <th></th>\n",
       "    </tr>\n",
       "  </thead>\n",
       "  <tbody>\n",
       "    <tr>\n",
       "      <th>FuseA</th>\n",
       "      <td>122196.893617</td>\n",
       "      <td>37511.376615</td>\n",
       "      <td>121250</td>\n",
       "      <td>239000</td>\n",
       "      <td>34900</td>\n",
       "    </tr>\n",
       "    <tr>\n",
       "      <th>FuseF</th>\n",
       "      <td>107675.444444</td>\n",
       "      <td>30636.507376</td>\n",
       "      <td>115000</td>\n",
       "      <td>169500</td>\n",
       "      <td>39300</td>\n",
       "    </tr>\n",
       "    <tr>\n",
       "      <th>FuseP</th>\n",
       "      <td>97333.333333</td>\n",
       "      <td>34645.827070</td>\n",
       "      <td>82000</td>\n",
       "      <td>137000</td>\n",
       "      <td>73000</td>\n",
       "    </tr>\n",
       "    <tr>\n",
       "      <th>Mix</th>\n",
       "      <td>67000.000000</td>\n",
       "      <td>NaN</td>\n",
       "      <td>67000</td>\n",
       "      <td>67000</td>\n",
       "      <td>67000</td>\n",
       "    </tr>\n",
       "    <tr>\n",
       "      <th>SBrkr</th>\n",
       "      <td>186825.113193</td>\n",
       "      <td>79856.458326</td>\n",
       "      <td>170000</td>\n",
       "      <td>755000</td>\n",
       "      <td>37900</td>\n",
       "    </tr>\n",
       "  </tbody>\n",
       "</table>\n",
       "</div>"
      ],
      "text/plain": [
       "                     mean           std  median     max    min\n",
       "Electrical                                                    \n",
       "FuseA       122196.893617  37511.376615  121250  239000  34900\n",
       "FuseF       107675.444444  30636.507376  115000  169500  39300\n",
       "FuseP        97333.333333  34645.827070   82000  137000  73000\n",
       "Mix          67000.000000           NaN   67000   67000  67000\n",
       "SBrkr       186825.113193  79856.458326  170000  755000  37900"
      ]
     },
     "execution_count": 5,
     "metadata": {},
     "output_type": "execute_result"
    }
   ],
   "source": [
    "df_train.groupby([\"Electrical\"])[\"SalePrice\"].agg([\"mean\", \"std\", \"median\", \"max\", \"min\"])"
   ]
  },
  {
   "cell_type": "markdown",
   "metadata": {},
   "source": [
    "##### 처리 방안"
   ]
  },
  {
   "cell_type": "markdown",
   "metadata": {},
   "source": [
    "Electrical 의 분포를 보면 91%가 SBrkr으로 대부분을 SBrkr를 차지하고 있으며, SBrkr의 SalePrice의 median값과 missing value의 SalePrice값이 비슷함으로 SBrkr로 대체한다."
   ]
  },
  {
   "cell_type": "markdown",
   "metadata": {},
   "source": [
    "## 2. Veneer"
   ]
  },
  {
   "cell_type": "markdown",
   "metadata": {},
   "source": [
    "** 베니어가 없는 것이 8개 존재, 베니어가 없는 것도 정보이기 때문에 그대로 둔다. **"
   ]
  },
  {
   "cell_type": "markdown",
   "metadata": {},
   "source": [
    "## 3. Basement"
   ]
  },
  {
   "cell_type": "markdown",
   "metadata": {},
   "source": [
    "** 지하실이 없는 곳이 총 37개, 지하실이 없는 것도 정보이기 때문에 그대로 둔다. **"
   ]
  },
  {
   "cell_type": "markdown",
   "metadata": {},
   "source": [
    "#### 1. 결측값 (BsmtFinType2)"
   ]
  },
  {
   "cell_type": "code",
   "execution_count": 6,
   "metadata": {},
   "outputs": [
    {
     "data": {
      "text/plain": [
       "BsmtCond          TA\n",
       "BsmtQual          Gd\n",
       "BsmtExposure      No\n",
       "BsmtFinType1     GLQ\n",
       "BsmtFinSF1      1124\n",
       "BsmtFinType2     NaN\n",
       "BsmtFinSF2       479\n",
       "Name: 332, dtype: object"
      ]
     },
     "execution_count": 6,
     "metadata": {},
     "output_type": "execute_result"
    }
   ],
   "source": [
    "df_train.loc[332][[\"BsmtCond\", \"BsmtQual\", \"BsmtExposure\", \"BsmtFinType1\", \"BsmtFinSF1\",\"BsmtFinType2\", \"BsmtFinSF2\"]]"
   ]
  },
  {
   "cell_type": "markdown",
   "metadata": {},
   "source": [
    "BsmtFinSF2를 보면 넓이가 나와 있는 데 Type2에 없다고 잘못 입력"
   ]
  },
  {
   "cell_type": "markdown",
   "metadata": {},
   "source": [
    "##### 결측값 분석"
   ]
  },
  {
   "cell_type": "code",
   "execution_count": 7,
   "metadata": {},
   "outputs": [
    {
     "data": {
      "text/plain": [
       "284000"
      ]
     },
     "execution_count": 7,
     "metadata": {},
     "output_type": "execute_result"
    }
   ],
   "source": [
    "df_train.loc[332][\"SalePrice\"]"
   ]
  },
  {
   "cell_type": "code",
   "execution_count": 8,
   "metadata": {},
   "outputs": [
    {
     "data": {
      "text/plain": [
       "<matplotlib.axes._subplots.AxesSubplot at 0x18eb360c470>"
      ]
     },
     "execution_count": 8,
     "metadata": {},
     "output_type": "execute_result"
    },
    {
     "data": {
      "image/png": "[encoded data removed]",
      "text/plain": [
       "<matplotlib.figure.Figure at 0x18eb34917f0>"
      ]
     },
     "metadata": {},
     "output_type": "display_data"
    }
   ],
   "source": [
    "df_notUnf = df_train[df_train[\"BsmtFinType2\"] != \"Unf\"][\"BsmtFinType2\"]\n",
    "sns.countplot(df_notUnf)"
   ]
  },
  {
   "cell_type": "code",
   "execution_count": 9,
   "metadata": {},
   "outputs": [
    {
     "data": {
      "text/plain": [
       "<matplotlib.axes._subplots.AxesSubplot at 0x18eb36569b0>"
      ]
     },
     "execution_count": 9,
     "metadata": {},
     "output_type": "execute_result"
    },
    {
     "data": {
      "image/png": "[encoded data removed]",
      "text/plain": [
       "<matplotlib.figure.Figure at 0x18eb3676a58>"
      ]
     },
     "metadata": {},
     "output_type": "display_data"
    }
   ],
   "source": [
    "sns.boxplot(x = \"BsmtFinType2\", y = \"SalePrice\", data = df_train)"
   ]
  },
  {
   "cell_type": "code",
   "execution_count": 10,
   "metadata": {},
   "outputs": [
    {
     "data": {
      "text/html": [
       "<div>\n",
       "<style>\n",
       "    .dataframe thead tr:only-child th {\n",
       "        text-align: right;\n",
       "    }\n",
       "\n",
       "    .dataframe thead th {\n",
       "        text-align: left;\n",
       "    }\n",
       "\n",
       "    .dataframe tbody tr th {\n",
       "        vertical-align: top;\n",
       "    }\n",
       "</style>\n",
       "<table border=\"1\" class=\"dataframe\">\n",
       "  <thead>\n",
       "    <tr style=\"text-align: right;\">\n",
       "      <th></th>\n",
       "      <th>mean</th>\n",
       "      <th>std</th>\n",
       "      <th>median</th>\n",
       "      <th>max</th>\n",
       "      <th>min</th>\n",
       "    </tr>\n",
       "    <tr>\n",
       "      <th>BsmtFinType2</th>\n",
       "      <th></th>\n",
       "      <th></th>\n",
       "      <th></th>\n",
       "      <th></th>\n",
       "      <th></th>\n",
       "    </tr>\n",
       "  </thead>\n",
       "  <tbody>\n",
       "    <tr>\n",
       "      <th>ALQ</th>\n",
       "      <td>209942.105263</td>\n",
       "      <td>104764.743411</td>\n",
       "      <td>174900</td>\n",
       "      <td>555000</td>\n",
       "      <td>123500</td>\n",
       "    </tr>\n",
       "    <tr>\n",
       "      <th>BLQ</th>\n",
       "      <td>151101.000000</td>\n",
       "      <td>41611.305388</td>\n",
       "      <td>143000</td>\n",
       "      <td>271900</td>\n",
       "      <td>62383</td>\n",
       "    </tr>\n",
       "    <tr>\n",
       "      <th>GLQ</th>\n",
       "      <td>180982.142857</td>\n",
       "      <td>64573.040359</td>\n",
       "      <td>203125</td>\n",
       "      <td>270000</td>\n",
       "      <td>75500</td>\n",
       "    </tr>\n",
       "    <tr>\n",
       "      <th>LwQ</th>\n",
       "      <td>164364.130435</td>\n",
       "      <td>43255.035241</td>\n",
       "      <td>154000</td>\n",
       "      <td>287000</td>\n",
       "      <td>88000</td>\n",
       "    </tr>\n",
       "    <tr>\n",
       "      <th>Rec</th>\n",
       "      <td>164917.129630</td>\n",
       "      <td>59183.277020</td>\n",
       "      <td>148750</td>\n",
       "      <td>402000</td>\n",
       "      <td>85000</td>\n",
       "    </tr>\n",
       "    <tr>\n",
       "      <th>Unf</th>\n",
       "      <td>184694.690287</td>\n",
       "      <td>81275.313909</td>\n",
       "      <td>167000</td>\n",
       "      <td>755000</td>\n",
       "      <td>34900</td>\n",
       "    </tr>\n",
       "  </tbody>\n",
       "</table>\n",
       "</div>"
      ],
      "text/plain": [
       "                       mean            std  median     max     min\n",
       "BsmtFinType2                                                      \n",
       "ALQ           209942.105263  104764.743411  174900  555000  123500\n",
       "BLQ           151101.000000   41611.305388  143000  271900   62383\n",
       "GLQ           180982.142857   64573.040359  203125  270000   75500\n",
       "LwQ           164364.130435   43255.035241  154000  287000   88000\n",
       "Rec           164917.129630   59183.277020  148750  402000   85000\n",
       "Unf           184694.690287   81275.313909  167000  755000   34900"
      ]
     },
     "execution_count": 10,
     "metadata": {},
     "output_type": "execute_result"
    }
   ],
   "source": [
    "df_train.groupby([\"BsmtFinType2\"])[\"SalePrice\"].agg([\"mean\", \"std\", \"median\", \"max\", \"min\"])"
   ]
  },
  {
   "cell_type": "markdown",
   "metadata": {},
   "source": [
    "##### 처리 방안"
   ]
  },
  {
   "cell_type": "markdown",
   "metadata": {},
   "source": [
    "categorical vlaue를 처리하는 방법으로는 KNN imputation과 최빈값을 넣는 방법이 존재한다. 하지만 KNN은 어려울 것 같고 최빈값은 Unf를 제외한 값을 보면 Rec와 LwQ가 비율이 다르기 때문에 그냥 단순히 제거한다"
   ]
  },
  {
   "cell_type": "code",
   "execution_count": 27,
   "metadata": {},
   "outputs": [
    {
     "data": {
      "text/plain": [
       "0       5\n",
       "1       5\n",
       "2       5\n",
       "3       5\n",
       "4       5\n",
       "5       5\n",
       "6       5\n",
       "7       1\n",
       "8       5\n",
       "9       5\n",
       "10      5\n",
       "11      5\n",
       "12      5\n",
       "13      5\n",
       "14      5\n",
       "15      5\n",
       "16      5\n",
       "17     -1\n",
       "18      5\n",
       "19      5\n",
       "20      5\n",
       "21      5\n",
       "22      5\n",
       "23      5\n",
       "24      0\n",
       "25      5\n",
       "26      4\n",
       "27      5\n",
       "28      5\n",
       "29      5\n",
       "       ..\n",
       "1430    5\n",
       "1431    5\n",
       "1432    5\n",
       "1433    5\n",
       "1434    5\n",
       "1435    5\n",
       "1436    5\n",
       "1437    5\n",
       "1438    5\n",
       "1439    4\n",
       "1440    5\n",
       "1441    5\n",
       "1442    5\n",
       "1443    5\n",
       "1444    5\n",
       "1445    4\n",
       "1446    5\n",
       "1447    5\n",
       "1448    5\n",
       "1449    5\n",
       "1450    5\n",
       "1451    5\n",
       "1452    5\n",
       "1453    5\n",
       "1454    5\n",
       "1455    5\n",
       "1456    4\n",
       "1457    5\n",
       "1458    4\n",
       "1459    3\n",
       "Length: 1460, dtype: int8"
      ]
     },
     "execution_count": 27,
     "metadata": {},
     "output_type": "execute_result"
    }
   ],
   "source": [
    "df_train.BsmtFinType2 = pd.Categorical(df_train.BsmtFinType2)\n",
    "df_train.BsmtFinType2.cat.codes"
   ]
  },
  {
   "cell_type": "markdown",
   "metadata": {},
   "source": [
    "#### 2. 결측값 (BsmtExposure)"
   ]
  },
  {
   "cell_type": "code",
   "execution_count": 11,
   "metadata": {},
   "outputs": [
    {
     "data": {
      "text/plain": [
       "BsmtCond         TA\n",
       "BsmtQual         Gd\n",
       "BsmtExposure    NaN\n",
       "BsmtFinType1    Unf\n",
       "BsmtFinSF1        0\n",
       "BsmtFinType2    Unf\n",
       "BsmtFinSF2        0\n",
       "Name: 948, dtype: object"
      ]
     },
     "execution_count": 11,
     "metadata": {},
     "output_type": "execute_result"
    }
   ],
   "source": [
    "df_train.loc[948][[\"BsmtCond\", \"BsmtQual\", \"BsmtExposure\", \"BsmtFinType1\", \"BsmtFinSF1\",\"BsmtFinType2\", \"BsmtFinSF2\"]]"
   ]
  },
  {
   "cell_type": "markdown",
   "metadata": {},
   "source": [
    "마감되지 않은 지하실이 존재하는 데 Exposure이 지하실이 없다고 잘못 입력"
   ]
  },
  {
   "cell_type": "markdown",
   "metadata": {},
   "source": [
    "##### 결측값 분석"
   ]
  },
  {
   "cell_type": "code",
   "execution_count": 12,
   "metadata": {},
   "outputs": [
    {
     "data": {
      "text/plain": [
       "192500"
      ]
     },
     "execution_count": 12,
     "metadata": {},
     "output_type": "execute_result"
    }
   ],
   "source": [
    "df_train.loc[948][\"SalePrice\"]"
   ]
  },
  {
   "cell_type": "code",
   "execution_count": 13,
   "metadata": {},
   "outputs": [
    {
     "data": {
      "text/plain": [
       "<matplotlib.axes._subplots.AxesSubplot at 0x18eb36126a0>"
      ]
     },
     "execution_count": 13,
     "metadata": {},
     "output_type": "execute_result"
    },
    {
     "data": {
      "image/png": "[encoded data removed]",
      "text/plain": [
       "<matplotlib.figure.Figure at 0x18eb3543e10>"
      ]
     },
     "metadata": {},
     "output_type": "display_data"
    }
   ],
   "source": [
    "df_notNA = df_train[df_train[\"BsmtExposure\"] != \"NA\"][\"BsmtExposure\"]\n",
    "sns.countplot(df_notNA)"
   ]
  },
  {
   "cell_type": "code",
   "execution_count": 14,
   "metadata": {},
   "outputs": [
    {
     "data": {
      "text/plain": [
       "<matplotlib.axes._subplots.AxesSubplot at 0x18eb37ac7b8>"
      ]
     },
     "execution_count": 14,
     "metadata": {},
     "output_type": "execute_result"
    },
    {
     "data": {
      "image/png": "[encoded data removed]",
      "text/plain": [
       "<matplotlib.figure.Figure at 0x18eb373bd30>"
      ]
     },
     "metadata": {},
     "output_type": "display_data"
    }
   ],
   "source": [
    "sns.boxplot(x = \"BsmtExposure\", y = \"SalePrice\", data = df_train)"
   ]
  },
  {
   "cell_type": "code",
   "execution_count": 15,
   "metadata": {},
   "outputs": [
    {
     "data": {
      "text/html": [
       "<div>\n",
       "<style>\n",
       "    .dataframe thead tr:only-child th {\n",
       "        text-align: right;\n",
       "    }\n",
       "\n",
       "    .dataframe thead th {\n",
       "        text-align: left;\n",
       "    }\n",
       "\n",
       "    .dataframe tbody tr th {\n",
       "        vertical-align: top;\n",
       "    }\n",
       "</style>\n",
       "<table border=\"1\" class=\"dataframe\">\n",
       "  <thead>\n",
       "    <tr style=\"text-align: right;\">\n",
       "      <th></th>\n",
       "      <th>mean</th>\n",
       "      <th>std</th>\n",
       "      <th>median</th>\n",
       "      <th>max</th>\n",
       "      <th>min</th>\n",
       "    </tr>\n",
       "    <tr>\n",
       "      <th>BsmtExposure</th>\n",
       "      <th></th>\n",
       "      <th></th>\n",
       "      <th></th>\n",
       "      <th></th>\n",
       "      <th></th>\n",
       "    </tr>\n",
       "  </thead>\n",
       "  <tbody>\n",
       "    <tr>\n",
       "      <th>Av</th>\n",
       "      <td>206643.420814</td>\n",
       "      <td>88655.504849</td>\n",
       "      <td>185850</td>\n",
       "      <td>745000</td>\n",
       "      <td>35311</td>\n",
       "    </tr>\n",
       "    <tr>\n",
       "      <th>Gd</th>\n",
       "      <td>257689.805970</td>\n",
       "      <td>118923.672583</td>\n",
       "      <td>226975</td>\n",
       "      <td>755000</td>\n",
       "      <td>61000</td>\n",
       "    </tr>\n",
       "    <tr>\n",
       "      <th>Mn</th>\n",
       "      <td>192789.657895</td>\n",
       "      <td>77335.442652</td>\n",
       "      <td>182450</td>\n",
       "      <td>475000</td>\n",
       "      <td>78000</td>\n",
       "    </tr>\n",
       "    <tr>\n",
       "      <th>No</th>\n",
       "      <td>165652.295908</td>\n",
       "      <td>60695.724915</td>\n",
       "      <td>154000</td>\n",
       "      <td>501837</td>\n",
       "      <td>34900</td>\n",
       "    </tr>\n",
       "  </tbody>\n",
       "</table>\n",
       "</div>"
      ],
      "text/plain": [
       "                       mean            std  median     max    min\n",
       "BsmtExposure                                                     \n",
       "Av            206643.420814   88655.504849  185850  745000  35311\n",
       "Gd            257689.805970  118923.672583  226975  755000  61000\n",
       "Mn            192789.657895   77335.442652  182450  475000  78000\n",
       "No            165652.295908   60695.724915  154000  501837  34900"
      ]
     },
     "execution_count": 15,
     "metadata": {},
     "output_type": "execute_result"
    }
   ],
   "source": [
    "df_train.groupby([\"BsmtExposure\"])[\"SalePrice\"].agg([\"mean\", \"std\", \"median\", \"max\", \"min\"])"
   ]
  },
  {
   "cell_type": "markdown",
   "metadata": {},
   "source": [
    "##### 결측값 처리 방안"
   ]
  },
  {
   "cell_type": "markdown",
   "metadata": {},
   "source": [
    "BsmtExposure에서 NA를 제외한 값의 분포를 보면 대부분의 값이 No로 측정된다. 그러므로 결측값에 No를 입력한다. 혹은 해당 값을 삭제한다."
   ]
  }
 ],
 "metadata": {
  "kernelspec": {
   "display_name": "Python 3",
   "language": "python",
   "name": "python3"
  },
  "language_info": {
   "codemirror_mode": {
    "name": "ipython",
    "version": 3
   },
   "file_extension": ".py",
   "mimetype": "text/x-python",
   "name": "python",
   "nbconvert_exporter": "python",
   "pygments_lexer": "ipython3",
   "version": "3.6.3"
  }
 },
 "nbformat": 4,
 "nbformat_minor": 2
}
